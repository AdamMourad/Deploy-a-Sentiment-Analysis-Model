{
 "cells": [
  {
   "cell_type": "markdown",
   "metadata": {},
   "source": [
    "# Creating a Sentiment Analysis Web App\n",
    "## Using PyTorch and SageMaker\n",
    "\n",
    "_Deep Learning Nanodegree Program | Deployment_\n",
    "\n",
    "---\n",
    "\n",
    "Now that we have a basic understanding of how SageMaker works we will try to use it to construct a complete project from end to end. Our goal will be to have a simple web page which a user can use to enter a movie review. The web page will then send the review off to our deployed model which will predict the sentiment of the entered review.\n",
    "\n",
    "## Instructions\n",
    "\n",
    "Some template code has already been provided for you, and you will need to implement additional functionality to successfully complete this notebook. You will not need to modify the included code beyond what is requested. Sections that begin with '**TODO**' in the header indicate that you need to complete or implement some portion within them. Instructions will be provided for each section and the specifics of the implementation are marked in the code block with a `# TODO: ...` comment. Please be sure to read the instructions carefully!\n",
    "\n",
    "In addition to implementing code, there will be questions for you to answer which relate to the task and your implementation. Each section where you will answer a question is preceded by a '**Question:**' header. Carefully read each question and provide your answer below the '**Answer:**' header by editing the Markdown cell.\n",
    "\n",
    "> **Note**: Code and Markdown cells can be executed using the **Shift+Enter** keyboard shortcut. In addition, a cell can be edited by typically clicking it (double-click for Markdown cells) or by pressing **Enter** while it is highlighted.\n",
    "\n",
    "## General Outline\n",
    "\n",
    "Recall the general outline for SageMaker projects using a notebook instance.\n",
    "\n",
    "1. Download or otherwise retrieve the data.\n",
    "2. Process / Prepare the data.\n",
    "3. Upload the processed data to S3.\n",
    "4. Train a chosen model.\n",
    "5. Test the trained model (typically using a batch transform job).\n",
    "6. Deploy the trained model.\n",
    "7. Use the deployed model.\n",
    "\n",
    "For this project, you will be following the steps in the general outline with some modifications. \n",
    "\n",
    "First, you will not be testing the model in its own step. You will still be testing the model, however, you will do it by deploying your model and then using the deployed model by sending the test data to it. One of the reasons for doing this is so that you can make sure that your deployed model is working correctly before moving forward.\n",
    "\n",
    "In addition, you will deploy and use your trained model a second time. In the second iteration you will customize the way that your trained model is deployed by including some of your own code. In addition, your newly deployed model will be used in the sentiment analysis web app."
   ]
  },
  {
   "cell_type": "code",
   "execution_count": 1,
   "metadata": {},
   "outputs": [
    {
     "name": "stdout",
     "output_type": "stream",
     "text": [
      "Collecting sagemaker==1.72.0\n",
      "  Downloading sagemaker-1.72.0.tar.gz (297 kB)\n",
      "\u001b[K     |████████████████████████████████| 297 kB 5.1 MB/s eta 0:00:01\n",
      "\u001b[?25hRequirement already satisfied: boto3>=1.14.12 in /home/ec2-user/anaconda3/envs/pytorch_p36/lib/python3.6/site-packages (from sagemaker==1.72.0) (1.16.37)\n",
      "Requirement already satisfied: numpy>=1.9.0 in /home/ec2-user/anaconda3/envs/pytorch_p36/lib/python3.6/site-packages (from sagemaker==1.72.0) (1.19.4)\n",
      "Requirement already satisfied: protobuf>=3.1 in /home/ec2-user/anaconda3/envs/pytorch_p36/lib/python3.6/site-packages (from sagemaker==1.72.0) (3.14.0)\n",
      "Requirement already satisfied: scipy>=0.19.0 in /home/ec2-user/anaconda3/envs/pytorch_p36/lib/python3.6/site-packages (from sagemaker==1.72.0) (1.4.1)\n",
      "Requirement already satisfied: protobuf3-to-dict>=0.1.5 in /home/ec2-user/anaconda3/envs/pytorch_p36/lib/python3.6/site-packages (from sagemaker==1.72.0) (0.1.5)\n",
      "Requirement already satisfied: importlib-metadata>=1.4.0 in /home/ec2-user/anaconda3/envs/pytorch_p36/lib/python3.6/site-packages (from sagemaker==1.72.0) (3.1.0)\n",
      "Requirement already satisfied: packaging>=20.0 in /home/ec2-user/anaconda3/envs/pytorch_p36/lib/python3.6/site-packages (from sagemaker==1.72.0) (20.7)\n",
      "Requirement already satisfied: botocore<1.20.0,>=1.19.37 in /home/ec2-user/anaconda3/envs/pytorch_p36/lib/python3.6/site-packages (from boto3>=1.14.12->sagemaker==1.72.0) (1.19.37)\n",
      "Requirement already satisfied: s3transfer<0.4.0,>=0.3.0 in /home/ec2-user/anaconda3/envs/pytorch_p36/lib/python3.6/site-packages (from boto3>=1.14.12->sagemaker==1.72.0) (0.3.3)\n",
      "Requirement already satisfied: jmespath<1.0.0,>=0.7.1 in /home/ec2-user/anaconda3/envs/pytorch_p36/lib/python3.6/site-packages (from boto3>=1.14.12->sagemaker==1.72.0) (0.10.0)\n",
      "Requirement already satisfied: python-dateutil<3.0.0,>=2.1 in /home/ec2-user/anaconda3/envs/pytorch_p36/lib/python3.6/site-packages (from botocore<1.20.0,>=1.19.37->boto3>=1.14.12->sagemaker==1.72.0) (2.8.1)\n",
      "Requirement already satisfied: urllib3<1.27,>=1.25.4 in /home/ec2-user/anaconda3/envs/pytorch_p36/lib/python3.6/site-packages (from botocore<1.20.0,>=1.19.37->boto3>=1.14.12->sagemaker==1.72.0) (1.25.11)\n",
      "Requirement already satisfied: jmespath<1.0.0,>=0.7.1 in /home/ec2-user/anaconda3/envs/pytorch_p36/lib/python3.6/site-packages (from boto3>=1.14.12->sagemaker==1.72.0) (0.10.0)\n",
      "Requirement already satisfied: zipp>=0.5 in /home/ec2-user/anaconda3/envs/pytorch_p36/lib/python3.6/site-packages (from importlib-metadata>=1.4.0->sagemaker==1.72.0) (3.4.0)\n",
      "Requirement already satisfied: pyparsing>=2.0.2 in /home/ec2-user/anaconda3/envs/pytorch_p36/lib/python3.6/site-packages (from packaging>=20.0->sagemaker==1.72.0) (2.4.7)\n",
      "Requirement already satisfied: six>=1.9 in /home/ec2-user/anaconda3/envs/pytorch_p36/lib/python3.6/site-packages (from protobuf>=3.1->sagemaker==1.72.0) (1.15.0)\n",
      "Requirement already satisfied: six>=1.9 in /home/ec2-user/anaconda3/envs/pytorch_p36/lib/python3.6/site-packages (from protobuf>=3.1->sagemaker==1.72.0) (1.15.0)\n",
      "Requirement already satisfied: protobuf>=3.1 in /home/ec2-user/anaconda3/envs/pytorch_p36/lib/python3.6/site-packages (from sagemaker==1.72.0) (3.14.0)\n",
      "Requirement already satisfied: six>=1.9 in /home/ec2-user/anaconda3/envs/pytorch_p36/lib/python3.6/site-packages (from protobuf>=3.1->sagemaker==1.72.0) (1.15.0)\n",
      "Requirement already satisfied: botocore<1.20.0,>=1.19.37 in /home/ec2-user/anaconda3/envs/pytorch_p36/lib/python3.6/site-packages (from boto3>=1.14.12->sagemaker==1.72.0) (1.19.37)\n",
      "Requirement already satisfied: numpy>=1.9.0 in /home/ec2-user/anaconda3/envs/pytorch_p36/lib/python3.6/site-packages (from sagemaker==1.72.0) (1.19.4)\n",
      "Collecting smdebug-rulesconfig==0.1.4\n",
      "  Downloading smdebug_rulesconfig-0.1.4-py2.py3-none-any.whl (10 kB)\n",
      "Building wheels for collected packages: sagemaker\n",
      "  Building wheel for sagemaker (setup.py) ... \u001b[?25ldone\n",
      "\u001b[?25h  Created wheel for sagemaker: filename=sagemaker-1.72.0-py2.py3-none-any.whl size=386358 sha256=0f298bfd23bcd3dc7b08e9c60037c4534900f72fce295b52c9f89fc902cf3fe3\n",
      "  Stored in directory: /home/ec2-user/.cache/pip/wheels/c3/58/70/85faf4437568bfaa4c419937569ba1fe54d44c5db42406bbd7\n",
      "Successfully built sagemaker\n",
      "Installing collected packages: smdebug-rulesconfig, sagemaker\n",
      "  Attempting uninstall: smdebug-rulesconfig\n",
      "    Found existing installation: smdebug-rulesconfig 1.0.0\n",
      "    Uninstalling smdebug-rulesconfig-1.0.0:\n",
      "      Successfully uninstalled smdebug-rulesconfig-1.0.0\n",
      "  Attempting uninstall: sagemaker\n",
      "    Found existing installation: sagemaker 2.19.0\n",
      "    Uninstalling sagemaker-2.19.0:\n",
      "      Successfully uninstalled sagemaker-2.19.0\n",
      "Successfully installed sagemaker-1.72.0 smdebug-rulesconfig-0.1.4\n",
      "\u001b[33mWARNING: You are using pip version 20.3; however, version 20.3.3 is available.\n",
      "You should consider upgrading via the '/home/ec2-user/anaconda3/envs/pytorch_p36/bin/python -m pip install --upgrade pip' command.\u001b[0m\n"
     ]
    }
   ],
   "source": [
    "# Make sure that we use SageMaker 1.x\n",
    "!pip install sagemaker==1.72.0"
   ]
  },
  {
   "cell_type": "markdown",
   "metadata": {},
   "source": [
    "## Step 1: Downloading the data\n",
    "\n",
    "As in the XGBoost in SageMaker notebook, we will be using the [IMDb dataset](http://ai.stanford.edu/~amaas/data/sentiment/)\n",
    "\n",
    "> Maas, Andrew L., et al. [Learning Word Vectors for Sentiment Analysis](http://ai.stanford.edu/~amaas/data/sentiment/). In _Proceedings of the 49th Annual Meeting of the Association for Computational Linguistics: Human Language Technologies_. Association for Computational Linguistics, 2011."
   ]
  },
  {
   "cell_type": "code",
   "execution_count": 2,
   "metadata": {},
   "outputs": [
    {
     "name": "stdout",
     "output_type": "stream",
     "text": [
      "mkdir: cannot create directory ‘../data’: File exists\n",
      "--2021-01-14 19:17:30--  http://ai.stanford.edu/~amaas/data/sentiment/aclImdb_v1.tar.gz\n",
      "Resolving ai.stanford.edu (ai.stanford.edu)... 171.64.68.10\n",
      "Connecting to ai.stanford.edu (ai.stanford.edu)|171.64.68.10|:80... connected.\n",
      "HTTP request sent, awaiting response... 200 OK\n",
      "Length: 84125825 (80M) [application/x-gzip]\n",
      "Saving to: ‘../data/aclImdb_v1.tar.gz’\n",
      "\n",
      "../data/aclImdb_v1. 100%[===================>]  80.23M  25.0MB/s    in 4.1s    \n",
      "\n",
      "2021-01-14 19:17:34 (19.6 MB/s) - ‘../data/aclImdb_v1.tar.gz’ saved [84125825/84125825]\n",
      "\n"
     ]
    }
   ],
   "source": [
    "%mkdir ../data\n",
    "!wget -O ../data/aclImdb_v1.tar.gz http://ai.stanford.edu/~amaas/data/sentiment/aclImdb_v1.tar.gz\n",
    "!tar -zxf ../data/aclImdb_v1.tar.gz -C ../data"
   ]
  },
  {
   "cell_type": "markdown",
   "metadata": {},
   "source": [
    "## Step 2: Preparing and Processing the data\n",
    "\n",
    "Also, as in the XGBoost notebook, we will be doing some initial data processing. The first few steps are the same as in the XGBoost example. To begin with, we will read in each of the reviews and combine them into a single input structure. Then, we will split the dataset into a training set and a testing set."
   ]
  },
  {
   "cell_type": "code",
   "execution_count": 3,
   "metadata": {},
   "outputs": [],
   "source": [
    "import os\n",
    "import glob\n",
    "\n",
    "def read_imdb_data(data_dir='../data/aclImdb'):\n",
    "    data = {}\n",
    "    labels = {}\n",
    "    \n",
    "    for data_type in ['train', 'test']:\n",
    "        data[data_type] = {}\n",
    "        labels[data_type] = {}\n",
    "        \n",
    "        for sentiment in ['pos', 'neg']:\n",
    "            data[data_type][sentiment] = []\n",
    "            labels[data_type][sentiment] = []\n",
    "            \n",
    "            path = os.path.join(data_dir, data_type, sentiment, '*.txt')\n",
    "            files = glob.glob(path)\n",
    "            \n",
    "            for f in files:\n",
    "                with open(f) as review:\n",
    "                    data[data_type][sentiment].append(review.read())\n",
    "                    # Here we represent a positive review by '1' and a negative review by '0'\n",
    "                    labels[data_type][sentiment].append(1 if sentiment == 'pos' else 0)\n",
    "                    \n",
    "            assert len(data[data_type][sentiment]) == len(labels[data_type][sentiment]), \\\n",
    "                    \"{}/{} data size does not match labels size\".format(data_type, sentiment)\n",
    "                \n",
    "    return data, labels"
   ]
  },
  {
   "cell_type": "code",
   "execution_count": 4,
   "metadata": {},
   "outputs": [
    {
     "name": "stdout",
     "output_type": "stream",
     "text": [
      "IMDB reviews: train = 12500 pos / 12500 neg, test = 12500 pos / 12500 neg\n"
     ]
    }
   ],
   "source": [
    "data, labels = read_imdb_data()\n",
    "print(\"IMDB reviews: train = {} pos / {} neg, test = {} pos / {} neg\".format(\n",
    "            len(data['train']['pos']), len(data['train']['neg']),\n",
    "            len(data['test']['pos']), len(data['test']['neg'])))"
   ]
  },
  {
   "cell_type": "markdown",
   "metadata": {},
   "source": [
    "Now that we've read the raw training and testing data from the downloaded dataset, we will combine the positive and negative reviews and shuffle the resulting records."
   ]
  },
  {
   "cell_type": "code",
   "execution_count": 5,
   "metadata": {},
   "outputs": [],
   "source": [
    "from sklearn.utils import shuffle\n",
    "\n",
    "def prepare_imdb_data(data, labels):\n",
    "    \"\"\"Prepare training and test sets from IMDb movie reviews.\"\"\"\n",
    "    \n",
    "    #Combine positive and negative reviews and labels\n",
    "    data_train = data['train']['pos'] + data['train']['neg']\n",
    "    data_test = data['test']['pos'] + data['test']['neg']\n",
    "    labels_train = labels['train']['pos'] + labels['train']['neg']\n",
    "    labels_test = labels['test']['pos'] + labels['test']['neg']\n",
    "    \n",
    "    #Shuffle reviews and corresponding labels within training and test sets\n",
    "    data_train, labels_train = shuffle(data_train, labels_train)\n",
    "    data_test, labels_test = shuffle(data_test, labels_test)\n",
    "    \n",
    "    # Return a unified training data, test data, training labels, test labets\n",
    "    return data_train, data_test, labels_train, labels_test"
   ]
  },
  {
   "cell_type": "code",
   "execution_count": 6,
   "metadata": {},
   "outputs": [
    {
     "name": "stdout",
     "output_type": "stream",
     "text": [
      "IMDb reviews (combined): train = 25000, test = 25000\n"
     ]
    }
   ],
   "source": [
    "train_X, test_X, train_y, test_y = prepare_imdb_data(data, labels)\n",
    "print(\"IMDb reviews (combined): train = {}, test = {}\".format(len(train_X), len(test_X)))"
   ]
  },
  {
   "cell_type": "markdown",
   "metadata": {},
   "source": [
    "Now that we have our training and testing sets unified and prepared, we should do a quick check and see an example of the data our model will be trained on. This is generally a good idea as it allows you to see how each of the further processing steps affects the reviews and it also ensures that the data has been loaded correctly."
   ]
  },
  {
   "cell_type": "code",
   "execution_count": 7,
   "metadata": {},
   "outputs": [
    {
     "name": "stdout",
     "output_type": "stream",
     "text": [
      "all i have to say is if you don't like it then there is something wrong with you. plus Jessica is just all kinds of hot!!!!! the only reason you may not like it is because it is set in the future where Seattle has gone to hell. that and you my not like it cause the future they show could very well happen.\n",
      "1\n"
     ]
    }
   ],
   "source": [
    "print(train_X[100])\n",
    "print(train_y[100])"
   ]
  },
  {
   "cell_type": "markdown",
   "metadata": {},
   "source": [
    "The first step in processing the reviews is to make sure that any html tags that appear should be removed. In addition we wish to tokenize our input, that way words such as *entertained* and *entertaining* are considered the same with regard to sentiment analysis."
   ]
  },
  {
   "cell_type": "code",
   "execution_count": 8,
   "metadata": {},
   "outputs": [],
   "source": [
    "import nltk\n",
    "from nltk.corpus import stopwords\n",
    "from nltk.stem.porter import *\n",
    "\n",
    "import re\n",
    "from bs4 import BeautifulSoup\n",
    "\n",
    "def review_to_words(review):\n",
    "    nltk.download(\"stopwords\", quiet=True)\n",
    "    stemmer = PorterStemmer()\n",
    "    \n",
    "    text = BeautifulSoup(review, \"html.parser\").get_text() # Remove HTML tags\n",
    "    text = re.sub(r\"[^a-zA-Z0-9]\", \" \", text.lower()) # Convert to lower case\n",
    "    words = text.split() # Split string into words\n",
    "    words = [w for w in words if w not in stopwords.words(\"english\")] # Remove stopwords\n",
    "    words = [PorterStemmer().stem(w) for w in words] # stem\n",
    "    \n",
    "    return words"
   ]
  },
  {
   "cell_type": "markdown",
   "metadata": {},
   "source": [
    "The `review_to_words` method defined above uses `BeautifulSoup` to remove any html tags that appear and uses the `nltk` package to tokenize the reviews. As a check to ensure we know how everything is working, try applying `review_to_words` to one of the reviews in the training set."
   ]
  },
  {
   "cell_type": "code",
   "execution_count": 9,
   "metadata": {},
   "outputs": [
    {
     "data": {
      "text/plain": [
       "['say',\n",
       " 'like',\n",
       " 'someth',\n",
       " 'wrong',\n",
       " 'plu',\n",
       " 'jessica',\n",
       " 'kind',\n",
       " 'hot',\n",
       " 'reason',\n",
       " 'may',\n",
       " 'like',\n",
       " 'set',\n",
       " 'futur',\n",
       " 'seattl',\n",
       " 'gone',\n",
       " 'hell',\n",
       " 'like',\n",
       " 'caus',\n",
       " 'futur',\n",
       " 'show',\n",
       " 'could',\n",
       " 'well',\n",
       " 'happen']"
      ]
     },
     "execution_count": 9,
     "metadata": {},
     "output_type": "execute_result"
    }
   ],
   "source": [
    "# TODO: Apply review_to_words to a review (train_X[100] or any other review)\n",
    "review_to_words(train_X[100])"
   ]
  },
  {
   "cell_type": "markdown",
   "metadata": {},
   "source": [
    "**Question:** Above we mentioned that `review_to_words` method removes html formatting and allows us to tokenize the words found in a review, for example, converting *entertained* and *entertaining* into *entertain* so that they are treated as though they are the same word. What else, if anything, does this method do to the input?"
   ]
  },
  {
   "cell_type": "markdown",
   "metadata": {},
   "source": [
    "**Answer:** The function review_to_words aims is to standarize the words like converting all words into lowercase and remove the punctuations and stop words\n"
   ]
  },
  {
   "cell_type": "markdown",
   "metadata": {},
   "source": [
    "The method below applies the `review_to_words` method to each of the reviews in the training and testing datasets. In addition it caches the results. This is because performing this processing step can take a long time. This way if you are unable to complete the notebook in the current session, you can come back without needing to process the data a second time."
   ]
  },
  {
   "cell_type": "code",
   "execution_count": 10,
   "metadata": {},
   "outputs": [],
   "source": [
    "import pickle\n",
    "\n",
    "cache_dir = os.path.join(\"../cache\", \"sentiment_analysis\")  # where to store cache files\n",
    "os.makedirs(cache_dir, exist_ok=True)  # ensure cache directory exists\n",
    "\n",
    "def preprocess_data(data_train, data_test, labels_train, labels_test,\n",
    "                    cache_dir=cache_dir, cache_file=\"preprocessed_data.pkl\"):\n",
    "    \"\"\"Convert each review to words; read from cache if available.\"\"\"\n",
    "\n",
    "    # If cache_file is not None, try to read from it first\n",
    "    cache_data = None\n",
    "    if cache_file is not None:\n",
    "        try:\n",
    "            with open(os.path.join(cache_dir, cache_file), \"rb\") as f:\n",
    "                cache_data = pickle.load(f)\n",
    "            print(\"Read preprocessed data from cache file:\", cache_file)\n",
    "        except:\n",
    "            pass  # unable to read from cache, but that's okay\n",
    "    \n",
    "    # If cache is missing, then do the heavy lifting\n",
    "    if cache_data is None:\n",
    "        # Preprocess training and test data to obtain words for each review\n",
    "        #words_train = list(map(review_to_words, data_train))\n",
    "        #words_test = list(map(review_to_words, data_test))\n",
    "        words_train = [review_to_words(review) for review in data_train]\n",
    "        words_test = [review_to_words(review) for review in data_test]\n",
    "        \n",
    "        # Write to cache file for future runs\n",
    "        if cache_file is not None:\n",
    "            cache_data = dict(words_train=words_train, words_test=words_test,\n",
    "                              labels_train=labels_train, labels_test=labels_test)\n",
    "            with open(os.path.join(cache_dir, cache_file), \"wb\") as f:\n",
    "                pickle.dump(cache_data, f)\n",
    "            print(\"Wrote preprocessed data to cache file:\", cache_file)\n",
    "    else:\n",
    "        # Unpack data loaded from cache file\n",
    "        words_train, words_test, labels_train, labels_test = (cache_data['words_train'],\n",
    "                cache_data['words_test'], cache_data['labels_train'], cache_data['labels_test'])\n",
    "    \n",
    "    return words_train, words_test, labels_train, labels_test"
   ]
  },
  {
   "cell_type": "code",
   "execution_count": 11,
   "metadata": {},
   "outputs": [
    {
     "name": "stdout",
     "output_type": "stream",
     "text": [
      "Read preprocessed data from cache file: preprocessed_data.pkl\n"
     ]
    }
   ],
   "source": [
    "# Preprocess data\n",
    "train_X, test_X, train_y, test_y = preprocess_data(train_X, test_X, train_y, test_y)"
   ]
  },
  {
   "cell_type": "markdown",
   "metadata": {},
   "source": [
    "## Transform the data\n",
    "\n",
    "In the XGBoost notebook we transformed the data from its word representation to a bag-of-words feature representation. For the model we are going to construct in this notebook we will construct a feature representation which is very similar. To start, we will represent each word as an integer. Of course, some of the words that appear in the reviews occur very infrequently and so likely don't contain much information for the purposes of sentiment analysis. The way we will deal with this problem is that we will fix the size of our working vocabulary and we will only include the words that appear most frequently. We will then combine all of the infrequent words into a single category and, in our case, we will label it as `1`.\n",
    "\n",
    "Since we will be using a recurrent neural network, it will be convenient if the length of each review is the same. To do this, we will fix a size for our reviews and then pad short reviews with the category 'no word' (which we will label `0`) and truncate long reviews."
   ]
  },
  {
   "cell_type": "markdown",
   "metadata": {},
   "source": [
    "### (TODO) Create a word dictionary\n",
    "\n",
    "To begin with, we need to construct a way to map words that appear in the reviews to integers. Here we fix the size of our vocabulary (including the 'no word' and 'infrequent' categories) to be `5000` but you may wish to change this to see how it affects the model.\n",
    "\n",
    "> **TODO:** Complete the implementation for the `build_dict()` method below. Note that even though the vocab_size is set to `5000`, we only want to construct a mapping for the most frequently appearing `4998` words. This is because we want to reserve the special labels `0` for 'no word' and `1` for 'infrequent word'."
   ]
  },
  {
   "cell_type": "code",
   "execution_count": 14,
   "metadata": {},
   "outputs": [],
   "source": [
    "import numpy as np\n",
    "\n",
    "def build_dict(data, vocab_size = 5000):\n",
    "    \"\"\"Construct and return a dictionary mapping each of the most frequently appearing words to a unique integer.\"\"\"\n",
    "    \n",
    "    # TODO: Determine how often each word appears in `data`. Note that `data` is a list of sentences and that a\n",
    "    #       sentence is a list of words.\n",
    "    \n",
    "    word_count = {} # A dict storing the words that appear in the reviews along with how often they occur\n",
    "    \n",
    "    # TODO: Sort the words found in `data` so that sorted_words[0] is the most frequently appearing word and\n",
    "    #       sorted_words[-1] is the least frequently appearing word.\n",
    "    for review in data:\n",
    "        for word in review:\n",
    "            if word in word_count:\n",
    "                word_count[word] += 1\n",
    "            else:\n",
    "                word_count[word] = 1\n",
    "\n",
    "    sorted_words = [item[0] for item in sorted(word_count.items(), key=lambda x: x[1], reverse=True)]\n",
    "\n",
    "    word_dict = {} # This is what we are building, a dictionary that translates words into integers\n",
    "    for idx, word in enumerate(sorted_words[:vocab_size - 2]): # The -2 is so that we save room for the 'no word'\n",
    "        word_dict[word] = idx + 2                              # 'infrequent' labels\n",
    "        \n",
    "    return word_dict"
   ]
  },
  {
   "cell_type": "code",
   "execution_count": 16,
   "metadata": {},
   "outputs": [
    {
     "name": "stdout",
     "output_type": "stream",
     "text": [
      "{'movi': 2, 'film': 3, 'one': 4, 'like': 5, 'time': 6, 'good': 7, 'make': 8, 'charact': 9, 'get': 10, 'see': 11, 'watch': 12, 'stori': 13, 'even': 14, 'would': 15, 'realli': 16, 'well': 17, 'scene': 18, 'look': 19, 'show': 20, 'much': 21, 'end': 22, 'peopl': 23, 'bad': 24, 'go': 25, 'great': 26, 'also': 27, 'first': 28, 'love': 29, 'think': 30, 'way': 31, 'act': 32, 'play': 33, 'made': 34, 'thing': 35, 'could': 36, 'know': 37, 'say': 38, 'seem': 39, 'work': 40, 'plot': 41, 'two': 42, 'actor': 43, 'year': 44, 'come': 45, 'mani': 46, 'seen': 47, 'take': 48, 'want': 49, 'life': 50, 'never': 51, 'littl': 52, 'best': 53, 'tri': 54, 'man': 55, 'ever': 56, 'give': 57, 'better': 58, 'still': 59, 'perform': 60, 'find': 61, 'feel': 62, 'part': 63, 'back': 64, 'use': 65, 'someth': 66, 'director': 67, 'actual': 68, 'interest': 69, 'lot': 70, 'real': 71, 'old': 72, 'cast': 73, 'though': 74, 'live': 75, 'star': 76, 'enjoy': 77, 'guy': 78, 'anoth': 79, 'new': 80, 'role': 81, 'noth': 82, '10': 83, 'funni': 84, 'music': 85, 'point': 86, 'start': 87, 'set': 88, 'girl': 89, 'origin': 90, 'day': 91, 'world': 92, 'everi': 93, 'believ': 94, 'turn': 95, 'quit': 96, 'direct': 97, 'us': 98, 'thought': 99, 'fact': 100, 'minut': 101, 'horror': 102, 'kill': 103, 'action': 104, 'comedi': 105, 'pretti': 106, 'young': 107, 'wonder': 108, 'happen': 109, 'around': 110, 'got': 111, 'effect': 112, 'right': 113, 'long': 114, 'howev': 115, 'big': 116, 'line': 117, 'famili': 118, 'enough': 119, 'seri': 120, 'may': 121, 'need': 122, 'fan': 123, 'bit': 124, 'script': 125, 'beauti': 126, 'person': 127, 'becom': 128, 'without': 129, 'must': 130, 'alway': 131, 'friend': 132, 'tell': 133, 'reason': 134, 'saw': 135, 'last': 136, 'final': 137, 'kid': 138, 'almost': 139, 'put': 140, 'least': 141, 'sure': 142, 'done': 143, 'whole': 144, 'place': 145, 'complet': 146, 'kind': 147, 'differ': 148, 'expect': 149, 'shot': 150, 'far': 151, 'mean': 152, 'anyth': 153, 'book': 154, 'laugh': 155, 'might': 156, 'name': 157, 'sinc': 158, 'begin': 159, '2': 160, 'probabl': 161, 'woman': 162, 'help': 163, 'entertain': 164, 'let': 165, 'screen': 166, 'call': 167, 'tv': 168, 'moment': 169, 'away': 170, 'read': 171, 'yet': 172, 'rather': 173, 'worst': 174, 'run': 175, 'fun': 176, 'lead': 177, 'hard': 178, 'audienc': 179, 'idea': 180, 'anyon': 181, 'episod': 182, 'american': 183, 'found': 184, 'appear': 185, 'bore': 186, 'especi': 187, 'although': 188, 'hope': 189, 'keep': 190, 'cours': 191, 'anim': 192, 'job': 193, 'goe': 194, 'move': 195, 'sens': 196, 'dvd': 197, 'version': 198, 'war': 199, 'money': 200, 'someon': 201, 'mind': 202, 'mayb': 203, 'problem': 204, 'true': 205, 'hous': 206, 'everyth': 207, 'nice': 208, 'second': 209, 'rate': 210, 'three': 211, 'night': 212, 'follow': 213, 'face': 214, 'recommend': 215, 'product': 216, 'main': 217, 'worth': 218, 'leav': 219, 'human': 220, 'special': 221, 'excel': 222, 'togeth': 223, 'wast': 224, 'everyon': 225, 'sound': 226, 'john': 227, 'hand': 228, '1': 229, 'father': 230, 'later': 231, 'eye': 232, 'said': 233, 'view': 234, 'instead': 235, 'review': 236, 'boy': 237, 'high': 238, 'hour': 239, 'miss': 240, 'talk': 241, 'classic': 242, 'wife': 243, 'understand': 244, 'left': 245, 'care': 246, 'black': 247, 'death': 248, 'open': 249, 'murder': 250, 'write': 251, 'half': 252, 'head': 253, 'rememb': 254, 'chang': 255, 'viewer': 256, 'fight': 257, 'gener': 258, 'surpris': 259, 'includ': 260, 'short': 261, 'die': 262, 'fall': 263, 'less': 264, 'els': 265, 'entir': 266, 'piec': 267, 'involv': 268, 'pictur': 269, 'simpli': 270, 'home': 271, 'power': 272, 'top': 273, 'total': 274, 'usual': 275, 'budget': 276, 'attempt': 277, 'suppos': 278, 'releas': 279, 'hollywood': 280, 'terribl': 281, 'song': 282, 'men': 283, 'possibl': 284, 'featur': 285, 'portray': 286, 'disappoint': 287, 'poor': 288, '3': 289, 'coupl': 290, 'stupid': 291, 'camera': 292, 'dead': 293, 'wrong': 294, 'produc': 295, 'low': 296, 'video': 297, 'either': 298, 'aw': 299, 'definit': 300, 'except': 301, 'rest': 302, 'given': 303, 'absolut': 304, 'women': 305, 'lack': 306, 'word': 307, 'writer': 308, 'titl': 309, 'talent': 310, 'decid': 311, 'full': 312, 'perfect': 313, 'along': 314, 'style': 315, 'close': 316, 'truli': 317, 'school': 318, 'save': 319, 'emot': 320, 'sex': 321, 'age': 322, 'next': 323, 'bring': 324, 'mr': 325, 'case': 326, 'killer': 327, 'heart': 328, 'comment': 329, 'sort': 330, 'creat': 331, 'perhap': 332, 'came': 333, 'brother': 334, 'sever': 335, 'joke': 336, 'art': 337, 'dialogu': 338, 'game': 339, 'small': 340, 'base': 341, 'flick': 342, 'written': 343, 'sequenc': 344, 'meet': 345, 'earli': 346, 'often': 347, 'other': 348, 'mother': 349, 'develop': 350, 'humor': 351, 'actress': 352, 'consid': 353, 'dark': 354, 'guess': 355, 'amaz': 356, 'unfortun': 357, 'lost': 358, 'light': 359, 'exampl': 360, 'cinema': 361, 'drama': 362, 'white': 363, 'ye': 364, 'experi': 365, 'imagin': 366, 'mention': 367, 'stop': 368, 'natur': 369, 'forc': 370, 'manag': 371, 'felt': 372, 'present': 373, 'cut': 374, 'children': 375, 'fail': 376, 'son': 377, 'car': 378, 'qualiti': 379, 'support': 380, 'ask': 381, 'hit': 382, 'side': 383, 'voic': 384, 'extrem': 385, 'impress': 386, 'evil': 387, 'wors': 388, 'stand': 389, 'went': 390, 'certainli': 391, 'basic': 392, 'oh': 393, 'overal': 394, 'favorit': 395, 'horribl': 396, 'mysteri': 397, 'number': 398, 'type': 399, 'danc': 400, 'wait': 401, 'hero': 402, '5': 403, 'alreadi': 404, 'learn': 405, 'matter': 406, '4': 407, 'michael': 408, 'genr': 409, 'fine': 410, 'despit': 411, 'throughout': 412, 'walk': 413, 'success': 414, 'histori': 415, 'question': 416, 'zombi': 417, 'town': 418, 'relationship': 419, 'realiz': 420, 'past': 421, 'child': 422, 'daughter': 423, 'late': 424, 'b': 425, 'wish': 426, 'hate': 427, 'credit': 428, 'event': 429, 'theme': 430, 'touch': 431, 'citi': 432, 'today': 433, 'sometim': 434, 'behind': 435, 'god': 436, 'twist': 437, 'sit': 438, 'deal': 439, 'annoy': 440, 'stay': 441, 'abl': 442, 'rent': 443, 'pleas': 444, 'edit': 445, 'blood': 446, 'deserv': 447, 'comic': 448, 'anyway': 449, 'appar': 450, 'soon': 451, 'gave': 452, 'etc': 453, 'level': 454, 'slow': 455, 'chanc': 456, 'score': 457, 'bodi': 458, 'brilliant': 459, 'incred': 460, 'figur': 461, 'situat': 462, 'self': 463, 'major': 464, 'stuff': 465, 'decent': 466, 'element': 467, 'return': 468, 'dream': 469, 'obvious': 470, 'continu': 471, 'order': 472, 'pace': 473, 'ridicul': 474, 'happi': 475, 'highli': 476, 'group': 477, 'add': 478, 'thank': 479, 'ladi': 480, 'novel': 481, 'pain': 482, 'speak': 483, 'career': 484, 'shoot': 485, 'strang': 486, 'heard': 487, 'sad': 488, 'polic': 489, 'husband': 490, 'import': 491, 'break': 492, 'took': 493, 'strong': 494, 'cannot': 495, 'robert': 496, 'predict': 497, 'violenc': 498, 'hilari': 499, 'recent': 500, 'countri': 501, 'known': 502, 'particularli': 503, 'pick': 504, 'documentari': 505, 'season': 506, 'critic': 507, 'jame': 508, 'compar': 509, 'obviou': 510, 'alon': 511, 'told': 512, 'state': 513, 'rock': 514, 'visual': 515, 'offer': 516, 'exist': 517, 'theater': 518, 'opinion': 519, 'gore': 520, 'hold': 521, 'crap': 522, 'result': 523, 'realiti': 524, 'hear': 525, 'room': 526, 'clich': 527, 'effort': 528, 'thriller': 529, 'caus': 530, 'explain': 531, 'sequel': 532, 'serious': 533, 'king': 534, 'local': 535, 'ago': 536, 'none': 537, 'hell': 538, 'note': 539, 'allow': 540, 'sister': 541, 'david': 542, 'simpl': 543, 'femal': 544, 'deliv': 545, 'ok': 546, 'convinc': 547, 'class': 548, 'check': 549, 'suspens': 550, 'win': 551, 'buy': 552, 'oscar': 553, 'huge': 554, 'valu': 555, 'sexual': 556, 'scari': 557, 'cool': 558, 'similar': 559, 'excit': 560, 'apart': 561, 'exactli': 562, 'provid': 563, 'avoid': 564, 'shown': 565, 'seriou': 566, 'english': 567, 'whose': 568, 'taken': 569, 'cinematographi': 570, 'shock': 571, 'polit': 572, 'spoiler': 573, 'offic': 574, 'across': 575, 'middl': 576, 'pass': 577, 'street': 578, 'messag': 579, 'somewhat': 580, 'charm': 581, 'silli': 582, 'modern': 583, 'filmmak': 584, 'confus': 585, 'form': 586, 'tale': 587, 'singl': 588, 'jack': 589, 'mostli': 590, 'carri': 591, 'attent': 592, 'william': 593, 'sing': 594, 'five': 595, 'subject': 596, 'prove': 597, 'richard': 598, 'stage': 599, 'team': 600, 'cop': 601, 'unlik': 602, 'georg': 603, 'monster': 604, 'televis': 605, 'earth': 606, 'villain': 607, 'cover': 608, 'pay': 609, 'marri': 610, 'toward': 611, 'build': 612, 'pull': 613, 'parent': 614, 'due': 615, 'fill': 616, 'respect': 617, 'dialog': 618, 'four': 619, 'remind': 620, 'futur': 621, 'weak': 622, 'typic': 623, '7': 624, 'cheap': 625, 'intellig': 626, 'atmospher': 627, 'british': 628, '80': 629, 'clearli': 630, 'paul': 631, 'dog': 632, 'non': 633, 'knew': 634, 'fast': 635, '8': 636, 'artist': 637, 'crime': 638, 'easili': 639, 'escap': 640, 'doubt': 641, 'adult': 642, 'detail': 643, 'date': 644, 'fire': 645, 'romant': 646, 'member': 647, 'gun': 648, 'drive': 649, 'straight': 650, 'fit': 651, 'beyond': 652, 'attack': 653, 'imag': 654, 'upon': 655, 'posit': 656, 'whether': 657, 'peter': 658, 'fantast': 659, 'captur': 660, 'aspect': 661, 'appreci': 662, 'ten': 663, 'plan': 664, 'discov': 665, 'remain': 666, 'near': 667, 'period': 668, 'realist': 669, 'air': 670, 'mark': 671, 'red': 672, 'dull': 673, 'adapt': 674, 'within': 675, 'spend': 676, 'lose': 677, 'color': 678, 'materi': 679, 'chase': 680, 'mari': 681, 'storylin': 682, 'forget': 683, 'bunch': 684, 'clear': 685, 'lee': 686, 'victim': 687, 'nearli': 688, 'box': 689, 'york': 690, 'inspir': 691, 'match': 692, 'finish': 693, 'mess': 694, 'standard': 695, 'easi': 696, 'truth': 697, 'busi': 698, 'suffer': 699, 'bill': 700, 'dramat': 701, 'space': 702, 'western': 703, 'e': 704, 'list': 705, 'battl': 706, 'notic': 707, 'de': 708, 'french': 709, 'ad': 710, '9': 711, 'tom': 712, 'larg': 713, 'among': 714, 'eventu': 715, 'accept': 716, 'train': 717, 'agre': 718, 'spirit': 719, 'soundtrack': 720, 'third': 721, 'teenag': 722, 'adventur': 723, 'soldier': 724, 'sorri': 725, 'drug': 726, 'suggest': 727, 'famou': 728, 'normal': 729, 'babi': 730, 'cri': 731, 'troubl': 732, 'ultim': 733, 'contain': 734, 'certain': 735, 'cultur': 736, 'romanc': 737, 'rare': 738, 'lame': 739, 'somehow': 740, 'mix': 741, 'disney': 742, 'gone': 743, 'cartoon': 744, 'student': 745, 'reveal': 746, 'fear': 747, 'kept': 748, 'suck': 749, 'attract': 750, 'appeal': 751, 'premis': 752, 'design': 753, 'greatest': 754, 'secret': 755, 'shame': 756, 'throw': 757, 'copi': 758, 'scare': 759, 'wit': 760, 'admit': 761, 'america': 762, 'brought': 763, 'relat': 764, 'particular': 765, 'screenplay': 766, 'whatev': 767, 'pure': 768, '70': 769, 'harri': 770, 'averag': 771, 'master': 772, 'describ': 773, 'treat': 774, 'male': 775, '20': 776, 'issu': 777, 'fantasi': 778, 'warn': 779, 'inde': 780, 'background': 781, 'forward': 782, 'project': 783, 'free': 784, 'japanes': 785, 'memor': 786, 'poorli': 787, 'award': 788, 'locat': 789, 'potenti': 790, 'amus': 791, 'struggl': 792, 'magic': 793, 'weird': 794, 'societi': 795, 'okay': 796, 'doctor': 797, 'accent': 798, 'imdb': 799, 'hot': 800, 'water': 801, 'express': 802, 'dr': 803, 'alien': 804, '30': 805, 'odd': 806, 'crazi': 807, 'choic': 808, 'fiction': 809, 'studio': 810, 'becam': 811, 'control': 812, 'masterpiec': 813, 'difficult': 814, 'fli': 815, 'joe': 816, 'scream': 817, 'costum': 818, 'lover': 819, 'refer': 820, 'uniqu': 821, 'remak': 822, 'vampir': 823, 'girlfriend': 824, 'prison': 825, 'execut': 826, 'wear': 827, 'jump': 828, 'unless': 829, 'wood': 830, 'creepi': 831, 'cheesi': 832, 'superb': 833, 'otherwis': 834, 'parti': 835, 'roll': 836, 'ghost': 837, 'mad': 838, 'public': 839, 'depict': 840, 'earlier': 841, 'jane': 842, 'week': 843, 'badli': 844, 'moral': 845, 'fi': 846, 'dumb': 847, 'flaw': 848, 'grow': 849, 'deep': 850, 'sci': 851, 'maker': 852, 'cat': 853, 'connect': 854, 'older': 855, 'footag': 856, 'plenti': 857, 'bother': 858, 'outsid': 859, 'stick': 860, 'gay': 861, 'catch': 862, 'co': 863, 'plu': 864, 'popular': 865, 'equal': 866, 'social': 867, 'disturb': 868, 'quickli': 869, 'perfectli': 870, 'dress': 871, '90': 872, 'era': 873, 'mistak': 874, 'lie': 875, 'ride': 876, 'previou': 877, 'combin': 878, 'concept': 879, 'band': 880, 'answer': 881, 'rich': 882, 'surviv': 883, 'front': 884, 'christma': 885, 'sweet': 886, 'insid': 887, 'eat': 888, 'bare': 889, 'concern': 890, 'beat': 891, 'ben': 892, 'listen': 893, 'c': 894, 'serv': 895, 'term': 896, 'meant': 897, 'la': 898, 'german': 899, 'hardli': 900, 'stereotyp': 901, 'innoc': 902, 'law': 903, 'desper': 904, 'memori': 905, 'promis': 906, 'intent': 907, 'cute': 908, 'variou': 909, 'inform': 910, 'steal': 911, 'brain': 912, 'post': 913, 'tone': 914, 'island': 915, 'amount': 916, 'compani': 917, 'nuditi': 918, 'track': 919, 'store': 920, 'claim': 921, '50': 922, 'hair': 923, 'flat': 924, 'univers': 925, 'land': 926, 'kick': 927, 'danger': 928, 'fairli': 929, 'scott': 930, 'player': 931, 'crew': 932, 'plain': 933, 'step': 934, 'toni': 935, 'share': 936, 'centuri': 937, 'tast': 938, 'engag': 939, 'achiev': 940, 'cold': 941, 'travel': 942, 'rip': 943, 'suit': 944, 'record': 945, 'manner': 946, 'sadli': 947, 'tension': 948, 'wrote': 949, 'spot': 950, 'intens': 951, 'fascin': 952, 'familiar': 953, 'depth': 954, 'remark': 955, 'burn': 956, 'destroy': 957, 'histor': 958, 'sleep': 959, 'purpos': 960, 'languag': 961, 'ruin': 962, 'ignor': 963, 'delight': 964, 'italian': 965, 'unbeliev': 966, 'abil': 967, 'soul': 968, 'collect': 969, 'detect': 970, 'clever': 971, 'violent': 972, 'rape': 973, 'reach': 974, 'door': 975, 'liter': 976, 'scienc': 977, 'trash': 978, 'commun': 979, 'caught': 980, 'reveng': 981, 'creatur': 982, 'approach': 983, 'trip': 984, 'fashion': 985, 'intrigu': 986, 'skill': 987, 'introduc': 988, 'paint': 989, 'channel': 990, 'complex': 991, 'camp': 992, 'christian': 993, 'extra': 994, 'hole': 995, 'limit': 996, 'immedi': 997, 'ann': 998, 'mental': 999, 'slightli': 1000, 'million': 1001, 'mere': 1002, '6': 1003, 'comput': 1004, 'conclus': 1005, 'slasher': 1006, 'suddenli': 1007, 'imposs': 1008, 'crimin': 1009, 'teen': 1010, 'neither': 1011, 'spent': 1012, 'physic': 1013, 'nation': 1014, 'respons': 1015, 'planet': 1016, 'receiv': 1017, 'fake': 1018, 'blue': 1019, 'sick': 1020, 'bizarr': 1021, 'embarrass': 1022, 'indian': 1023, 'ring': 1024, '15': 1025, 'pop': 1026, 'drop': 1027, 'drag': 1028, 'haunt': 1029, 'pointless': 1030, 'suspect': 1031, 'search': 1032, 'edg': 1033, 'handl': 1034, 'common': 1035, 'biggest': 1036, 'arriv': 1037, 'faith': 1038, 'hurt': 1039, 'technic': 1040, 'angel': 1041, 'genuin': 1042, 'dad': 1043, 'awesom': 1044, 'solid': 1045, 'f': 1046, 'colleg': 1047, 'former': 1048, 'focu': 1049, 'van': 1050, 'count': 1051, 'tear': 1052, 'heavi': 1053, 'wall': 1054, 'rais': 1055, 'laughabl': 1056, 'younger': 1057, 'visit': 1058, 'sign': 1059, 'fair': 1060, 'excus': 1061, 'cult': 1062, 'tough': 1063, 'motion': 1064, 'key': 1065, 'super': 1066, 'desir': 1067, 'addit': 1068, 'stun': 1069, 'exploit': 1070, 'cloth': 1071, 'smith': 1072, 'tortur': 1073, 'race': 1074, 'davi': 1075, 'author': 1076, 'cross': 1077, 'jim': 1078, 'consist': 1079, 'minor': 1080, 'compel': 1081, 'focus': 1082, 'commit': 1083, 'pathet': 1084, 'chemistri': 1085, 'park': 1086, 'obsess': 1087, 'frank': 1088, 'tradit': 1089, 'grade': 1090, 'asid': 1091, '60': 1092, 'brutal': 1093, 'somewher': 1094, 'steve': 1095, 'u': 1096, 'opportun': 1097, 'rule': 1098, 'grant': 1099, 'explor': 1100, 'depress': 1101, 'besid': 1102, 'honest': 1103, 'anti': 1104, 'dub': 1105, 'trailer': 1106, 'intend': 1107, 'bar': 1108, 'scientist': 1109, 'west': 1110, 'regard': 1111, 'longer': 1112, 'judg': 1113, 'decad': 1114, 'silent': 1115, 'armi': 1116, 'creativ': 1117, 'wild': 1118, 'g': 1119, 'stewart': 1120, 'south': 1121, 'draw': 1122, 'road': 1123, 'govern': 1124, 'boss': 1125, 'ex': 1126, 'practic': 1127, 'gang': 1128, 'surprisingli': 1129, 'motiv': 1130, 'festiv': 1131, 'club': 1132, 'london': 1133, 'redeem': 1134, 'page': 1135, 'green': 1136, 'display': 1137, 'militari': 1138, 'aliv': 1139, 'machin': 1140, 'idiot': 1141, 'repeat': 1142, 'thrill': 1143, 'yeah': 1144, 'folk': 1145, 'nobodi': 1146, '100': 1147, '40': 1148, 'garbag': 1149, 'journey': 1150, 'ground': 1151, 'tire': 1152, 'smile': 1153, 'mood': 1154, 'bought': 1155, 'cost': 1156, 'stone': 1157, 'sam': 1158, 'mouth': 1159, 'noir': 1160, 'agent': 1161, 'terrif': 1162, 'requir': 1163, 'utterli': 1164, 'sexi': 1165, 'area': 1166, 'honestli': 1167, 'report': 1168, 'geniu': 1169, 'enter': 1170, 'glad': 1171, 'humour': 1172, 'investig': 1173, 'serial': 1174, 'narr': 1175, 'passion': 1176, 'occasion': 1177, 'climax': 1178, 'marriag': 1179, 'industri': 1180, 'studi': 1181, 'nowher': 1182, 'demon': 1183, 'center': 1184, 'charli': 1185, 'ship': 1186, 'loos': 1187, 'bear': 1188, 'hors': 1189, 'hang': 1190, 'wow': 1191, 'graphic': 1192, 'admir': 1193, 'giant': 1194, 'send': 1195, 'loud': 1196, 'damn': 1197, 'subtl': 1198, 'nake': 1199, 'rel': 1200, 'profession': 1201, 'blow': 1202, 'bottom': 1203, 'insult': 1204, 'batman': 1205, 'doubl': 1206, 'boyfriend': 1207, 'kelli': 1208, 'r': 1209, 'initi': 1210, 'frame': 1211, 'opera': 1212, 'gem': 1213, 'challeng': 1214, 'drawn': 1215, 'affect': 1216, 'cinemat': 1217, 'church': 1218, 'evid': 1219, 'seek': 1220, 'j': 1221, 'fulli': 1222, 'l': 1223, 'nightmar': 1224, 'arm': 1225, 'essenti': 1226, 'conflict': 1227, 'christoph': 1228, 'wind': 1229, 'henri': 1230, 'grace': 1231, 'assum': 1232, 'narrat': 1233, 'witch': 1234, 'push': 1235, 'hunt': 1236, 'wise': 1237, 'chri': 1238, 'repres': 1239, 'month': 1240, 'nomin': 1241, 'avail': 1242, 'sceneri': 1243, 'hide': 1244, 'affair': 1245, 'smart': 1246, 'thu': 1247, 'bond': 1248, 'justic': 1249, 'interview': 1250, 'flashback': 1251, 'outstand': 1252, 'satisfi': 1253, 'constantli': 1254, 'presenc': 1255, 'bed': 1256, 'central': 1257, 'content': 1258, 'iron': 1259, 'sell': 1260, 'everybodi': 1261, 'gag': 1262, 'hotel': 1263, 'slowli': 1264, 'hire': 1265, 'system': 1266, 'hey': 1267, 'individu': 1268, 'thrown': 1269, 'adam': 1270, 'charl': 1271, 'mediocr': 1272, 'allen': 1273, 'jone': 1274, 'billi': 1275, 'lesson': 1276, 'ray': 1277, 'photographi': 1278, 'cameo': 1279, 'fellow': 1280, 'pari': 1281, 'strike': 1282, 'rise': 1283, 'absurd': 1284, 'independ': 1285, 'brief': 1286, 'neg': 1287, 'phone': 1288, 'impact': 1289, 'born': 1290, 'model': 1291, 'ill': 1292, 'fresh': 1293, 'angl': 1294, 'spoil': 1295, 'abus': 1296, 'likabl': 1297, 'hill': 1298, 'discuss': 1299, 'ahead': 1300, 'sight': 1301, 'photograph': 1302, 'sent': 1303, 'shine': 1304, 'occur': 1305, 'logic': 1306, 'blame': 1307, 'mainli': 1308, 'bruce': 1309, 'forev': 1310, 'skip': 1311, 'commerci': 1312, 'segment': 1313, 'held': 1314, 'surround': 1315, 'teacher': 1316, 'blond': 1317, 'zero': 1318, 'trap': 1319, 'satir': 1320, 'summer': 1321, 'resembl': 1322, 'fool': 1323, 'ball': 1324, 'queen': 1325, 'six': 1326, 'twice': 1327, 'tragedi': 1328, 'sub': 1329, 'pack': 1330, 'reaction': 1331, 'bomb': 1332, 'will': 1333, 'hospit': 1334, 'protagonist': 1335, 'mile': 1336, 'sport': 1337, 'mom': 1338, 'jerri': 1339, 'vote': 1340, 'drink': 1341, 'trust': 1342, 'encount': 1343, 'plane': 1344, 'program': 1345, 'station': 1346, 'al': 1347, 'current': 1348, 'choos': 1349, 'celebr': 1350, 'martin': 1351, 'join': 1352, 'field': 1353, 'lord': 1354, 'tragic': 1355, 'round': 1356, 'favourit': 1357, 'vision': 1358, 'robot': 1359, 'jean': 1360, 'tie': 1361, 'arthur': 1362, 'random': 1363, 'fortun': 1364, 'roger': 1365, 'psycholog': 1366, 'dread': 1367, 'intern': 1368, 'nonsens': 1369, 'epic': 1370, 'improv': 1371, 'prefer': 1372, 'formula': 1373, 'legend': 1374, 'highlight': 1375, 'pleasur': 1376, 'tape': 1377, 'dollar': 1378, '11': 1379, 'thin': 1380, 'gorgeou': 1381, 'object': 1382, 'fox': 1383, 'wide': 1384, 'porn': 1385, 'influenc': 1386, 'ugli': 1387, 'buddi': 1388, 'prepar': 1389, 'nasti': 1390, 'ii': 1391, 'progress': 1392, 'supposedli': 1393, 'reflect': 1394, 'warm': 1395, 'worthi': 1396, 'youth': 1397, 'length': 1398, 'unusu': 1399, 'latter': 1400, 'crash': 1401, 'seven': 1402, 'shop': 1403, 'childhood': 1404, 'superior': 1405, 'remot': 1406, 'theatr': 1407, 'funniest': 1408, 'disgust': 1409, 'pilot': 1410, 'paid': 1411, 'trick': 1412, 'fell': 1413, 'convers': 1414, 'castl': 1415, 'gangster': 1416, 'disast': 1417, 'rob': 1418, 'establish': 1419, 'heaven': 1420, 'mine': 1421, 'disappear': 1422, 'ident': 1423, 'suicid': 1424, 'decis': 1425, 'mask': 1426, 'heroin': 1427, 'tend': 1428, 'forgotten': 1429, 'singer': 1430, 'partner': 1431, 'brian': 1432, 'recogn': 1433, 'desert': 1434, 'alan': 1435, 'stuck': 1436, 'ms': 1437, 'sky': 1438, 'thoroughli': 1439, 'p': 1440, 'accur': 1441, 'replac': 1442, 'market': 1443, 'danni': 1444, 'seemingli': 1445, 'uncl': 1446, 'commentari': 1447, 'clue': 1448, 'eddi': 1449, 'andi': 1450, 'devil': 1451, 'jackson': 1452, 'pair': 1453, 'that': 1454, 'therefor': 1455, 'refus': 1456, 'fate': 1457, 'river': 1458, 'unit': 1459, 'fault': 1460, 'ed': 1461, 'accid': 1462, 'tune': 1463, 'afraid': 1464, 'russian': 1465, 'hidden': 1466, 'stephen': 1467, 'clean': 1468, 'quick': 1469, 'readi': 1470, 'convey': 1471, 'irrit': 1472, 'instanc': 1473, 'captain': 1474, 'test': 1475, 'european': 1476, 'daniel': 1477, 'frustrat': 1478, 'insan': 1479, '1950': 1480, 'rescu': 1481, 'wed': 1482, 'chines': 1483, 'food': 1484, 'angri': 1485, 'lock': 1486, 'dirti': 1487, 'joy': 1488, 'steven': 1489, 'price': 1490, 'bland': 1491, 'cage': 1492, 'rang': 1493, 'anymor': 1494, 'wooden': 1495, 'rush': 1496, 'n': 1497, 'jason': 1498, 'news': 1499, 'twenti': 1500, 'led': 1501, 'martial': 1502, '12': 1503, 'worri': 1504, 'board': 1505, 'symbol': 1506, 'cgi': 1507, 'transform': 1508, 'hunter': 1509, 'invent': 1510, 'sentiment': 1511, 'x': 1512, 'piti': 1513, 'johnni': 1514, 'onto': 1515, 'attitud': 1516, 'explan': 1517, 'process': 1518, 'owner': 1519, 'awar': 1520, 'aim': 1521, 'favor': 1522, 'floor': 1523, 'target': 1524, 'necessari': 1525, 'energi': 1526, 'opposit': 1527, 'religi': 1528, 'window': 1529, 'insight': 1530, 'chick': 1531, 'blind': 1532, 'movement': 1533, 'deepli': 1534, 'mountain': 1535, 'research': 1536, 'possess': 1537, 'comparison': 1538, 'grand': 1539, 'rain': 1540, 'whatsoev': 1541, 'comed': 1542, 'began': 1543, 'mid': 1544, 'shadow': 1545, 'bank': 1546, 'parodi': 1547, 'princ': 1548, 'credibl': 1549, 'pre': 1550, 'friendship': 1551, 'weapon': 1552, 'taylor': 1553, 'dougla': 1554, 'teach': 1555, 'flesh': 1556, 'bloodi': 1557, 'terror': 1558, 'protect': 1559, 'hint': 1560, 'marvel': 1561, 'superman': 1562, 'leader': 1563, 'watchabl': 1564, 'accord': 1565, 'anybodi': 1566, 'drunk': 1567, 'load': 1568, 'freddi': 1569, 'brown': 1570, 'appropri': 1571, 'tim': 1572, 'seat': 1573, 'hitler': 1574, 'jeff': 1575, 'villag': 1576, 'unknown': 1577, 'charg': 1578, 'keaton': 1579, 'knock': 1580, 'england': 1581, 'media': 1582, 'unnecessari': 1583, 'empti': 1584, 'enemi': 1585, 'strength': 1586, 'wave': 1587, 'buck': 1588, 'perspect': 1589, 'craft': 1590, 'utter': 1591, 'dare': 1592, 'ford': 1593, 'contrast': 1594, 'kiss': 1595, 'correct': 1596, 'nativ': 1597, 'distract': 1598, 'nazi': 1599, 'magnific': 1600, 'soap': 1601, 'chill': 1602, 'knowledg': 1603, 'speed': 1604, 'anywher': 1605, 'breath': 1606, 'fred': 1607, '1980': 1608, 'mission': 1609, 'ice': 1610, 'moon': 1611, 'crowd': 1612, 'jr': 1613, 'joan': 1614, 'frighten': 1615, '000': 1616, 'soft': 1617, 'kate': 1618, 'hundr': 1619, 'dan': 1620, 'dick': 1621, 'nick': 1622, 'radio': 1623, 'somebodi': 1624, 'dozen': 1625, 'simon': 1626, 'loss': 1627, 'thousand': 1628, 'andrew': 1629, 'academi': 1630, 'shakespear': 1631, 'root': 1632, 'quot': 1633, 'sum': 1634, 'account': 1635, 'vehicl': 1636, 'leg': 1637, 'behavior': 1638, 'convent': 1639, '1970': 1640, 'regular': 1641, 'gold': 1642, 'worker': 1643, 'compet': 1644, 'pretenti': 1645, 'demand': 1646, 'privat': 1647, 'notabl': 1648, 'explos': 1649, 'candi': 1650, 'interpret': 1651, 'japan': 1652, 'lynch': 1653, 'stretch': 1654, 'constant': 1655, 'tarzan': 1656, 'debut': 1657, 'revolv': 1658, 'sea': 1659, 'prais': 1660, 'spi': 1661, 'translat': 1662, 'technolog': 1663, 'ass': 1664, 'failur': 1665, 'quiet': 1666, 'sat': 1667, 'jesu': 1668, 'franc': 1669, 'threaten': 1670, 'higher': 1671, 'aid': 1672, 'met': 1673, 'punch': 1674, 'kevin': 1675, 'toy': 1676, 'vh': 1677, 'abandon': 1678, 'interact': 1679, 'mike': 1680, 'separ': 1681, 'command': 1682, 'confront': 1683, 'bet': 1684, 'site': 1685, 'stunt': 1686, 'techniqu': 1687, 'gotten': 1688, 'servic': 1689, 'recal': 1690, 'belong': 1691, 'foot': 1692, 'cabl': 1693, 'bug': 1694, 'freak': 1695, 'capabl': 1696, 'fu': 1697, 'jimmi': 1698, 'african': 1699, 'bright': 1700, 'clark': 1701, 'stock': 1702, 'succeed': 1703, 'boat': 1704, 'presid': 1705, 'fat': 1706, 'structur': 1707, 'gene': 1708, 'spanish': 1709, 'kidnap': 1710, 'paper': 1711, 'belief': 1712, 'factor': 1713, 'whilst': 1714, 'realism': 1715, 'witti': 1716, 'bob': 1717, 'complic': 1718, 'educ': 1719, 'realis': 1720, 'tree': 1721, 'attend': 1722, 'assist': 1723, 'broken': 1724, 'finest': 1725, 'santa': 1726, 'determin': 1727, 'smoke': 1728, 'observ': 1729, 'up': 1730, 'depart': 1731, 'v': 1732, 'oper': 1733, 'lewi': 1734, 'routin': 1735, 'hat': 1736, 'fame': 1737, 'domin': 1738, 'rubbish': 1739, 'foreign': 1740, 'morgan': 1741, 'advanc': 1742, 'safe': 1743, 'kinda': 1744, 'hook': 1745, 'lone': 1746, 'numer': 1747, 'rank': 1748, 'shape': 1749, 'washington': 1750, 'shallow': 1751, 'werewolf': 1752, 'rose': 1753, 'vs': 1754, 'civil': 1755, 'gari': 1756, 'morn': 1757, 'accomplish': 1758, 'ordinari': 1759, 'winner': 1760, 'kong': 1761, 'whenev': 1762, 'peac': 1763, 'virtual': 1764, 'grab': 1765, 'h': 1766, 'offens': 1767, 'luck': 1768, 'patient': 1769, 'bigger': 1770, 'unfunni': 1771, 'activ': 1772, 'complain': 1773, 'welcom': 1774, 'contriv': 1775, 'dimension': 1776, 'con': 1777, 'pretend': 1778, 'trek': 1779, 'lesbian': 1780, 'cain': 1781, 'dri': 1782, 'eric': 1783, 'flash': 1784, 'wake': 1785, 'code': 1786, 'guard': 1787, 'albert': 1788, 'manipul': 1789, 'corrupt': 1790, 'statu': 1791, 'dancer': 1792, 'signific': 1793, 'speech': 1794, 'sourc': 1795, 'awkward': 1796, 'gain': 1797, 'context': 1798, '13': 1799, 'corni': 1800, 'anthoni': 1801, 'sean': 1802, 'clip': 1803, 'psycho': 1804, 'curiou': 1805, 'reli': 1806, 'religion': 1807, 'theatric': 1808, 'advic': 1809, 'w': 1810, 'priest': 1811, 'addict': 1812, 'flow': 1813, 'asian': 1814, 'howard': 1815, 'secur': 1816, 'specif': 1817, 'jennif': 1818, 'skin': 1819, 'organ': 1820, 'comfort': 1821, 'core': 1822, 'golden': 1823, 'promot': 1824, 'luke': 1825, 'cheat': 1826, 'lucki': 1827, 'cash': 1828, 'associ': 1829, 'dislik': 1830, 'lower': 1831, 'balanc': 1832, 'regret': 1833, 'degre': 1834, 'devic': 1835, 'frequent': 1836, 'frankli': 1837, 'contribut': 1838, 'spell': 1839, 'wing': 1840, 'forgiv': 1841, 'lake': 1842, 'print': 1843, 'sake': 1844, 'thoma': 1845, 'mass': 1846, 'betti': 1847, 'crack': 1848, 'unexpect': 1849, 'gordon': 1850, 'unfold': 1851, 'construct': 1852, 'depend': 1853, 'amateur': 1854, 'categori': 1855, 'grown': 1856, 'invit': 1857, 'grew': 1858, 'intellectu': 1859, 'condit': 1860, 'matur': 1861, 'honor': 1862, 'anna': 1863, 'walter': 1864, 'veteran': 1865, 'spectacular': 1866, 'sole': 1867, 'sudden': 1868, 'mirror': 1869, 'demonstr': 1870, 'card': 1871, 'meanwhil': 1872, 'freedom': 1873, 'liner': 1874, 'robin': 1875, 'experienc': 1876, 'grip': 1877, 'overli': 1878, 'gift': 1879, 'crappi': 1880, 'brilliantli': 1881, 'colour': 1882, 'section': 1883, 'drew': 1884, 'theori': 1885, 'circumst': 1886, 'oliv': 1887, 'sheriff': 1888, 'unabl': 1889, 'subtitl': 1890, 'sheer': 1891, 'path': 1892, 'matt': 1893, 'laughter': 1894, 'cook': 1895, 'parker': 1896, 'altern': 1897, 'pile': 1898, 'relief': 1899, 'defin': 1900, 'treatment': 1901, 'hall': 1902, 'accident': 1903, 'lawyer': 1904, 'wander': 1905, 'sinatra': 1906, 'dragon': 1907, 'captiv': 1908, 'hank': 1909, 'gratuit': 1910, 'halloween': 1911, 'moor': 1912, 'unintent': 1913, 'k': 1914, 'kung': 1915, 'jacki': 1916, 'cowboy': 1917, 'broadway': 1918, 'wayn': 1919, 'wound': 1920, 'barbara': 1921, 'statement': 1922, 'canadian': 1923, 'winter': 1924, 'surreal': 1925, 'spoof': 1926, 'fish': 1927, 'treasur': 1928, 'fare': 1929, 'cheer': 1930, 'gonna': 1931, 'compos': 1932, 'emerg': 1933, 'victor': 1934, 'woodi': 1935, 'unrealist': 1936, 'sensit': 1937, 'driven': 1938, 'sympathet': 1939, 'neighbor': 1940, 'ran': 1941, 'overlook': 1942, 'menac': 1943, 'authent': 1944, 'glass': 1945, 'expos': 1946, 'topic': 1947, 'chief': 1948, 'handsom': 1949, 'michel': 1950, 'gross': 1951, 'ancient': 1952, 'stranger': 1953, 'contemporari': 1954, 'pleasant': 1955, 'russel': 1956, 'comedian': 1957, 'feet': 1958, 'built': 1959, 'nevertheless': 1960, 'network': 1961, 'cinderella': 1962, 'underr': 1963, 'consider': 1964, 'blockbust': 1965, 'earn': 1966, 'miser': 1967, 'endless': 1968, 'letter': 1969, 'gori': 1970, 'brook': 1971, 'solv': 1972, 'switch': 1973, 'convict': 1974, 'edward': 1975, 'joseph': 1976, 'virgin': 1977, 'bullet': 1978, 'victoria': 1979, 'scenario': 1980, 'cynic': 1981, 'chosen': 1982, 'scale': 1983, '0': 1984, 'alex': 1985, 'sword': 1986, 'gut': 1987, 'outrag': 1988, 'curs': 1989, 'com': 1990, 'screenwrit': 1991, 'uk': 1992, 'substanc': 1993, 'wrap': 1994, 'driver': 1995, 'proper': 1996, 'monkey': 1997, 'juli': 1998, 'court': 1999, 'remov': 2000, 'indic': 2001, 'par': 2002, 'bird': 2003, 'consequ': 2004, 'grave': 2005, 'advertis': 2006, 'roy': 2007, 'nanci': 2008, 'naiv': 2009, 'rental': 2010, 'loser': 2011, 'inevit': 2012, 'slap': 2013, 'le': 2014, 'germani': 2015, 'invis': 2016, 'bridg': 2017, 'fatal': 2018, 'brave': 2019, 'anger': 2020, 'provok': 2021, 'loui': 2022, 'ador': 2023, 'footbal': 2024, 'anderson': 2025, 'alcohol': 2026, 'chan': 2027, 'willi': 2028, 'professor': 2029, 'stumbl': 2030, 'ryan': 2031, '1930': 2032, 'bat': 2033, 'assassin': 2034, 'patrick': 2035, 'sharp': 2036, 'australian': 2037, 'refresh': 2038, 'cell': 2039, 'deni': 2040, 'amateurish': 2041, 'trilog': 2042, 'heck': 2043, 'ape': 2044, 'eight': 2045, 'saturday': 2046, 'lousi': 2047, 'liber': 2048, 'strongli': 2049, 'sin': 2050, 'vagu': 2051, 'justifi': 2052, 'resid': 2053, 'san': 2054, 'defeat': 2055, 'sympathi': 2056, 'mini': 2057, 'creator': 2058, 'reput': 2059, 'indi': 2060, 'terrifi': 2061, 'tediou': 2062, 'endur': 2063, 'task': 2064, 'prevent': 2065, 'expert': 2066, 'tabl': 2067, 'rival': 2068, 'offend': 2069, 'che': 2070, 'basebal': 2071, 'employ': 2072, 'imit': 2073, 'trial': 2074, 'fairi': 2075, 'beach': 2076, 'pitch': 2077, 'dig': 2078, 'europ': 2079, 'complaint': 2080, 'max': 2081, 'weekend': 2082, 'purchas': 2083, 'format': 2084, 'risk': 2085, 'murphi': 2086, 'nois': 2087, 'hype': 2088, 'titan': 2089, 'harsh': 2090, 'tini': 2091, 'bite': 2092, 'reminisc': 2093, 'glimps': 2094, 'powel': 2095, 'asleep': 2096, 'till': 2097, 'north': 2098, 'strip': 2099, 'prime': 2100, 'fals': 2101, '14': 2102, 'descript': 2103, 'texa': 2104, 'revel': 2105, 'africa': 2106, 'destruct': 2107, 'arrest': 2108, 'spin': 2109, 'surfac': 2110, 'semi': 2111, 'uninterest': 2112, 'sitcom': 2113, 'inner': 2114, 'excess': 2115, 'controversi': 2116, 'maintain': 2117, 'dinosaur': 2118, 'makeup': 2119, 'twin': 2120, 'hitchcock': 2121, 'massiv': 2122, 'argu': 2123, 'stare': 2124, 'melodrama': 2125, 'reject': 2126, 'ideal': 2127, 'ludicr': 2128, 'insist': 2129, 'expens': 2130, 'kim': 2131, 'subplot': 2132, 'atroci': 2133, 'press': 2134, 'supernatur': 2135, 'nail': 2136, 'columbo': 2137, 'erot': 2138, 'ala': 2139, 'ga': 2140, 'forest': 2141, 'host': 2142, 'presum': 2143, 'notch': 2144, 'identifi': 2145, 'cant': 2146, 'dude': 2147, 'closer': 2148, 'character': 2149, 'crude': 2150, 'guest': 2151, 'method': 2152, 'plagu': 2153, 'forgett': 2154, 'ear': 2155, 'princess': 2156, 'lion': 2157, 'border': 2158, 'landscap': 2159, 'foster': 2160, 'beast': 2161, 'accus': 2162, 'bound': 2163, 'pacino': 2164, 'storytel': 2165, 'damag': 2166, 'aunt': 2167, 'jungl': 2168, 'birth': 2169, 'urban': 2170, 'previous': 2171, 'propaganda': 2172, 'nude': 2173, 'guid': 2174, 'doll': 2175, 'thirti': 2176, 'jess': 2177, 'emma': 2178, 'chose': 2179, 'warrior': 2180, 'mate': 2181, 'whoever': 2182, 'mainstream': 2183, '25': 2184, 'pet': 2185, 'merit': 2186, 'gritti': 2187, 'exact': 2188, 'friday': 2189, 'cooper': 2190, 'upset': 2191, 'latest': 2192, 'size': 2193, 'deadli': 2194, 'poster': 2195, 'settl': 2196, 'popul': 2197, 'rough': 2198, '1990': 2199, 'corps': 2200, 'citizen': 2201, 'contest': 2202, 'contact': 2203, 'warner': 2204, 'sun': 2205, 'ton': 2206, 'buff': 2207, 'wilson': 2208, 'blend': 2209, 'environ': 2210, 'widow': 2211, 'overcom': 2212, 'alic': 2213, 'metal': 2214, 'select': 2215, 'bu': 2216, 'mgm': 2217, 'pitt': 2218, 'rat': 2219, 'guilti': 2220, 'particip': 2221, 'revolut': 2222, 'lift': 2223, 'ted': 2224, 'link': 2225, 'accompani': 2226, 'prostitut': 2227, '1960': 2228, 'exagger': 2229, 'johnson': 2230, 'corner': 2231, 'matrix': 2232, 'afternoon': 2233, 'moron': 2234, 'corpor': 2235, 'hood': 2236, 'friendli': 2237, 'sincer': 2238, 'multipl': 2239, 'leagu': 2240, 'clair': 2241, 'doom': 2242, 'instal': 2243, 'holm': 2244, 'aka': 2245, 'junk': 2246, 'string': 2247, 'sunday': 2248, 'advis': 2249, 'hip': 2250, 'examin': 2251, 'grim': 2252, 'defend': 2253, 'blah': 2254, 'lugosi': 2255, 'campi': 2256, 'irish': 2257, 'shake': 2258, 'pro': 2259, 'icon': 2260, 'tight': 2261, 'confid': 2262, 'shut': 2263, 'varieti': 2264, 'rachel': 2265, 'medic': 2266, 'attach': 2267, 'goal': 2268, 'denni': 2269, 'jaw': 2270, 'sullivan': 2271, 'directli': 2272, 'mexican': 2273, 'vietnam': 2274, 'prior': 2275, 'sentenc': 2276, 'dean': 2277, 'breast': 2278, 'courag': 2279, 'legendari': 2280, 'sarah': 2281, 'bourn': 2282, 'truck': 2283, 'terrorist': 2284, 'duke': 2285, 'behav': 2286, 'un': 2287, 'split': 2288, 'donald': 2289, 'proceed': 2290, 'entri': 2291, 'nose': 2292, 'hong': 2293, 'yell': 2294, 'forth': 2295, 'crush': 2296, 'borrow': 2297, 'unconvinc': 2298, 'lifetim': 2299, 'confess': 2300, 'concentr': 2301, 'gather': 2302, 'everywher': 2303, 'stolen': 2304, 'buri': 2305, 'jerk': 2306, 'swim': 2307, 'lip': 2308, 'deliveri': 2309, 'california': 2310, 'spite': 2311, 'julia': 2312, 'pan': 2313, 'turkey': 2314, 'hoffman': 2315, 'reward': 2316, 'quest': 2317, 'downright': 2318, 'proud': 2319, 'offici': 2320, 'china': 2321, 'freeman': 2322, 'flight': 2323, 'worthwhil': 2324, 'betray': 2325, 'lazi': 2326, 'sink': 2327, 'jon': 2328, 'fade': 2329, 'notori': 2330, 'sir': 2331, 'inept': 2332, 'jail': 2333, 'encourag': 2334, 'fabul': 2335, 'branagh': 2336, 'teeth': 2337, 'shower': 2338, 'lisa': 2339, 'storm': 2340, 'bag': 2341, 'cousin': 2342, 'bell': 2343, 'imageri': 2344, 'relev': 2345, 'survivor': 2346, 'retard': 2347, 'susan': 2348, 'quirki': 2349, 'finger': 2350, 'stab': 2351, 'alright': 2352, 'shark': 2353, 'hugh': 2354, 'facial': 2355, 'tremend': 2356, 'mexico': 2357, 'toler': 2358, 'bride': 2359, 'trade': 2360, 'summari': 2361, 'von': 2362, 'hyster': 2363, 'bitter': 2364, 'blown': 2365, 'pose': 2366, 'ha': 2367, 'bone': 2368, 'ron': 2369, 'scheme': 2370, 'christ': 2371, 'cruel': 2372, 'address': 2373, 'afterward': 2374, 'larri': 2375, 'ned': 2376, 'thumb': 2377, 'swear': 2378, 'tour': 2379, 'screw': 2380, 'feed': 2381, 'pursu': 2382, 'distinct': 2383, 'beg': 2384, 'traci': 2385, 'snake': 2386, 'chair': 2387, 'mechan': 2388, 'obscur': 2389, 'stomach': 2390, 'occas': 2391, 'photo': 2392, 'raw': 2393, 'cabin': 2394, 'sidney': 2395, 'render': 2396, 'southern': 2397, 'gruesom': 2398, 'hardi': 2399, 'holiday': 2400, 'necessarili': 2401, 'heavili': 2402, 'resist': 2403, 'argument': 2404, 'chain': 2405, 'racist': 2406, 'satan': 2407, 'understood': 2408, 'philip': 2409, 'indulg': 2410, 'india': 2411, 'forgot': 2412, 'pregnant': 2413, 'belov': 2414, 'fourth': 2415, 'outfit': 2416, 'obnoxi': 2417, 'lay': 2418, 'tongu': 2419, 'stalk': 2420, 'integr': 2421, 'midnight': 2422, 'carol': 2423, 'slapstick': 2424, 'ticket': 2425, 'inhabit': 2426, 'magazin': 2427, 'garden': 2428, 'deeper': 2429, 'restor': 2430, '17': 2431, 'shoe': 2432, 'devot': 2433, 'incid': 2434, 'brad': 2435, 'lincoln': 2436, 'guarante': 2437, 'anticip': 2438, 'elizabeth': 2439, 'disbelief': 2440, 'underground': 2441, 'sandler': 2442, 'maria': 2443, 'benefit': 2444, 'lili': 2445, 'divorc': 2446, 'greater': 2447, 'explod': 2448, 'creation': 2449, 'princip': 2450, 'amazingli': 2451, 'capit': 2452, 'mildli': 2453, 'bbc': 2454, 'slave': 2455, 'cring': 2456, 'halfway': 2457, 'lesli': 2458, 'funnier': 2459, 'extraordinari': 2460, 'introduct': 2461, 'transfer': 2462, 'wreck': 2463, 'tap': 2464, 'punish': 2465, 'overwhelm': 2466, 'extent': 2467, 'advantag': 2468, 'text': 2469, 'enhanc': 2470, 'deliber': 2471, 'dynam': 2472, 'error': 2473, 'horrif': 2474, 'jessica': 2475, 'east': 2476, 'lane': 2477, 'lo': 2478, 'preview': 2479, 'plant': 2480, 'vincent': 2481, 'basi': 2482, '2000': 2483, 'ensu': 2484, 'sophist': 2485, 'miller': 2486, 'homosexu': 2487, 'appli': 2488, 'vacat': 2489, 'miscast': 2490, 'spoken': 2491, 'sleazi': 2492, 'reed': 2493, 'elev': 2494, 'extend': 2495, 'measur': 2496, 'uncomfort': 2497, 'via': 2498, 'mansion': 2499, 'steel': 2500, 'bollywood': 2501, 'breathtak': 2502, 'dentist': 2503, 'melt': 2504, 'hippi': 2505, 'alter': 2506, 'conceiv': 2507, 'assign': 2508, 'blair': 2509, 'beer': 2510, 'fix': 2511, 'savag': 2512, 'overact': 2513, 'goofi': 2514, 'daili': 2515, 'mous': 2516, 'stanley': 2517, 'cathol': 2518, 'everyday': 2519, 'subsequ': 2520, 'succe': 2521, 'properli': 2522, 'sacrific': 2523, 'burt': 2524, 'carpent': 2525, 'nowaday': 2526, 'oppos': 2527, 'inspector': 2528, 'block': 2529, 'laura': 2530, 'neck': 2531, 'massacr': 2532, 'circl': 2533, 'concert': 2534, 'access': 2535, 'christi': 2536, 'pool': 2537, 'fallen': 2538, 'mob': 2539, 'lesser': 2540, 'portrait': 2541, 'grey': 2542, 'fay': 2543, 'seagal': 2544, 'react': 2545, 'relax': 2546, 'competit': 2547, 'jake': 2548, 'isol': 2549, 'chees': 2550, 'sinist': 2551, 'jewish': 2552, 'usa': 2553, 'ironi': 2554, 'stink': 2555, '2006': 2556, 'immens': 2557, 'spiritu': 2558, 'lyric': 2559, 'chop': 2560, 'creep': 2561, 'suitabl': 2562, 'nine': 2563, 'appal': 2564, 'nonetheless': 2565, 'user': 2566, 'franchis': 2567, 'showcas': 2568, 'navi': 2569, 'reduc': 2570, 'rage': 2571, 'luci': 2572, 'spring': 2573, 'adopt': 2574, 'retir': 2575, 'sold': 2576, 'nut': 2577, 'shirt': 2578, 'needless': 2579, 'nurs': 2580, 'asham': 2581, 'uninspir': 2582, 'bulli': 2583, 'per': 2584, 'zone': 2585, 'stanwyck': 2586, 'jay': 2587, 'digit': 2588, 'bath': 2589, 'upper': 2590, 'amongst': 2591, 'illustr': 2592, 'laid': 2593, 'oddli': 2594, '1940': 2595, '2001': 2596, 'broadcast': 2597, 'sutherland': 2598, 'stylish': 2599, 'baker': 2600, 'throat': 2601, 'fulfil': 2602, 'aspir': 2603, 'brando': 2604, 'disguis': 2605, 'neighborhood': 2606, 'thief': 2607, 'impli': 2608, 'pound': 2609, 'nobl': 2610, 'wwii': 2611, 'endear': 2612, 'pride': 2613, '18': 2614, 'wanna': 2615, 'em': 2616, 'shift': 2617, 'tens': 2618, 'cinematograph': 2619, 'dawn': 2620, 'bett': 2621, 'shoulder': 2622, 'rochest': 2623, 'diseas': 2624, '16': 2625, 'coher': 2626, 'dinner': 2627, 'albeit': 2628, 'bo': 2629, 'distribut': 2630, 'prop': 2631, 'forti': 2632, 'silenc': 2633, 'contract': 2634, 'snow': 2635, 'shout': 2636, 'function': 2637, 'rebel': 2638, 'poignant': 2639, 'wash': 2640, 'knife': 2641, 'surf': 2642, 'matthau': 2643, 'heat': 2644, 'instinct': 2645, 'derek': 2646, 'reunion': 2647, 'eeri': 2648, 'elvira': 2649, 'mindless': 2650, 'widmark': 2651, 'chuck': 2652, 'internet': 2653, 'proof': 2654, 'horrend': 2655, 'cannib': 2656, 'cancel': 2657, 'henc': 2658, 'silver': 2659, 'duti': 2660, 'height': 2661, 'alik': 2662, 'etern': 2663, 'absorb': 2664, 'premier': 2665, 'repetit': 2666, 'innov': 2667, 'torn': 2668, 'neat': 2669, 'elvi': 2670, 'incoher': 2671, 'greatli': 2672, 'spielberg': 2673, 'pie': 2674, 'glori': 2675, 'musician': 2676, 'mill': 2677, 'racism': 2678, 'bang': 2679, 'precis': 2680, 'burton': 2681, 'blank': 2682, 'infam': 2683, 'britain': 2684, 'lovabl': 2685, 'homag': 2686, 'itali': 2687, 'trite': 2688, 'diamond': 2689, 'wealthi': 2690, 'crisi': 2691, 'announc': 2692, 'fbi': 2693, 'nelson': 2694, 'redempt': 2695, 'horrifi': 2696, 'happili': 2697, 'chaplin': 2698, 'parallel': 2699, 'ensembl': 2700, 'flop': 2701, 'dedic': 2702, 'pat': 2703, 'hammer': 2704, 'streisand': 2705, 'resolut': 2706, 'wilder': 2707, 'helen': 2708, 'conclud': 2709, 'carter': 2710, 'oil': 2711, 'factori': 2712, 'st': 2713, 'broke': 2714, 'triumph': 2715, 'plastic': 2716, 'disagre': 2717, 'cube': 2718, 'mar': 2719, 'fighter': 2720, 'own': 2721, 'vega': 2722, 'rocket': 2723, 'climb': 2724, 'weight': 2725, 'march': 2726, 'row': 2727, 'bush': 2728, 'chuckl': 2729, 'enorm': 2730, 'lust': 2731, 'meaning': 2732, 'dane': 2733, 'boot': 2734, 'kurt': 2735, 'luca': 2736, 'unforgett': 2737, 'sensibl': 2738, 'wherea': 2739, 'thug': 2740, 'dump': 2741, 'spare': 2742, 'mst3k': 2743, 'caricatur': 2744, 'difficulti': 2745, 'adequ': 2746, 'butt': 2747, 'engin': 2748, 'bobbi': 2749, 'stress': 2750, 'rap': 2751, 'arnold': 2752, 'threat': 2753, 'karloff': 2754, 'fifti': 2755, 'brand': 2756, 'dear': 2757, 'homeless': 2758, 'polish': 2759, 'barri': 2760, 'hamlet': 2761, 'arrog': 2762, 'ego': 2763, 'secretari': 2764, 'swing': 2765, 'fest': 2766, 'flynn': 2767, 'ralph': 2768, 'journalist': 2769, 'elabor': 2770, 'induc': 2771, 'puppet': 2772, 'spike': 2773, 'grate': 2774, 'resort': 2775, 'fanci': 2776, 'arrang': 2777, 'float': 2778, 'simpson': 2779, 'tool': 2780, 'conspiraci': 2781, 'unbear': 2782, 'basement': 2783, 'cruis': 2784, 'boll': 2785, 'exercis': 2786, 'phillip': 2787, 'guilt': 2788, 'tribut': 2789, 'muppet': 2790, 'choreograph': 2791, 'pig': 2792, 'ham': 2793, 'item': 2794, 'puzzl': 2795, 'toilet': 2796, 'medium': 2797, 'layer': 2798, 'korean': 2799, 'ward': 2800, 'babe': 2801, '24': 2802, 'stan': 2803, 'document': 2804, 'slip': 2805, 'editor': 2806, 'tower': 2807, 'fianc': 2808, 'scarecrow': 2809, 'file': 2810, 'spark': 2811, 'persona': 2812, 'assur': 2813, 'minim': 2814, 'larger': 2815, 'superfici': 2816, 'philosoph': 2817, 'librari': 2818, 'catherin': 2819, 'orient': 2820, 'doc': 2821, 'inexplic': 2822, 'portion': 2823, 'territori': 2824, 'denzel': 2825, 'slaughter': 2826, 'transit': 2827, 'glover': 2828, 'dorothi': 2829, 'jeremi': 2830, 'wolf': 2831, 'financi': 2832, 'jet': 2833, 'curti': 2834, 'owe': 2835, 'sneak': 2836, 'walken': 2837, 'ban': 2838, 'pg': 2839, 'shi': 2840, 'boredom': 2841, 'hudson': 2842, 'backdrop': 2843, 'profound': 2844, 'eleph': 2845, 'ambigu': 2846, 'cusack': 2847, 'multi': 2848, 'whale': 2849, 'metaphor': 2850, 'viru': 2851, 'elsewher': 2852, 'stiff': 2853, 'rave': 2854, 'implaus': 2855, 'ultra': 2856, 'union': 2857, '2005': 2858, 'gadget': 2859, 'notion': 2860, 'birthday': 2861, 'hack': 2862, 'poison': 2863, 'lloyd': 2864, 'slight': 2865, 'pad': 2866, 'hawk': 2867, 'bibl': 2868, 'urg': 2869, 'reader': 2870, 'distanc': 2871, 'squar': 2872, 'afford': 2873, 'eva': 2874, 'eastwood': 2875, '1st': 2876, 'newspap': 2877, 'canada': 2878, 'superhero': 2879, 'deriv': 2880, 'disc': 2881, 'button': 2882, 'huh': 2883, 'health': 2884, 'restaur': 2885, 'heston': 2886, 'cure': 2887, 'skit': 2888, 'montag': 2889, 'drown': 2890, 'charisma': 2891, 'essenc': 2892, 'sadist': 2893, 'spread': 2894, 'dealt': 2895, 'lab': 2896, 'estat': 2897, 'companion': 2898, 'gradual': 2899, 'maniac': 2900, 'muslim': 2901, 'fetch': 2902, 'invest': 2903, 'peak': 2904, 'scoobi': 2905, 'godfath': 2906, 'countless': 2907, 'ritter': 2908, 'miik': 2909, 'servant': 2910, 'alli': 2911, 'kane': 2912, 'cup': 2913, 'subtleti': 2914, 'tea': 2915, 'gothic': 2916, 'heroic': 2917, 'iii': 2918, 'briefli': 2919, 'charismat': 2920, 'salli': 2921, 'electr': 2922, 'elect': 2923, 'cole': 2924, 'reel': 2925, 'neil': 2926, 'nuanc': 2927, 'tender': 2928, 'bud': 2929, 'admittedli': 2930, 'toss': 2931, 'resourc': 2932, 'ingredi': 2933, 'grandmoth': 2934, 'wannab': 2935, 'reev': 2936, 'punk': 2937, 'stood': 2938, 'mafia': 2939, 'poverti': 2940, 'carrey': 2941, 'shall': 2942, 'kubrick': 2943, 'gate': 2944, 'stronger': 2945, 'mild': 2946, 'pit': 2947, 'label': 2948, 'dawson': 2949, 'pauli': 2950, 'fond': 2951, 'outcom': 2952, 'useless': 2953, 'ian': 2954, 'tag': 2955, 'astair': 2956, 'burst': 2957, 'smooth': 2958, 'terri': 2959, 'easier': 2960, 'updat': 2961, 'assault': 2962, 'cox': 2963, 'smash': 2964, 'cardboard': 2965, 'bakshi': 2966, 'fist': 2967, 'divers': 2968, 'vulner': 2969, 'exchang': 2970, 'rex': 2971, 'sketch': 2972, 'samurai': 2973, 'vari': 2974, 'coincid': 2975, 'increasingli': 2976, '2002': 2977, 'resolv': 2978, 'melodramat': 2979, 'qualifi': 2980, 'conveni': 2981, 'luckili': 2982, 'templ': 2983, 'scratch': 2984, 'tame': 2985, 'insert': 2986, 'be': 2987, 'blast': 2988, 'brillianc': 2989, 'reynold': 2990, 'suspend': 2991, 'ambiti': 2992, 'fisher': 2993, 'meat': 2994, 'walker': 2995, 'strictli': 2996, 'seventi': 2997, 'matthew': 2998, 'pin': 2999, 'coach': 3000, 'gotta': 3001, 'hamilton': 3002, 'nuclear': 3003, 'farm': 3004, 'jami': 3005, 'soprano': 3006, 'struck': 3007, 'instantli': 3008, 'revers': 3009, 'cave': 3010, 'discoveri': 3011, 'clock': 3012, 'worthless': 3013, 'grasp': 3014, 'convolut': 3015, 'kudo': 3016, 'recreat': 3017, 'closet': 3018, 'butcher': 3019, 'eccentr': 3020, 'timeless': 3021, 'ninja': 3022, 'empir': 3023, 'monk': 3024, 'brosnan': 3025, 'joey': 3026, 'spooki': 3027, 'gray': 3028, 'evok': 3029, 'fifteen': 3030, 'pal': 3031, 'sidekick': 3032, 'mitchel': 3033, 'wipe': 3034, 'selfish': 3035, 'clown': 3036, 'norman': 3037, 'communist': 3038, 'eighti': 3039, 'declar': 3040, 'inconsist': 3041, 'seller': 3042, 'partli': 3043, 'importantli': 3044, 'bleak': 3045, 'cliff': 3046, 'sloppi': 3047, 'miracl': 3048, 'flawless': 3049, 'debat': 3050, 'enthusiast': 3051, 'aforement': 3052, 'chew': 3053, 'websit': 3054, 'ho': 3055, '45': 3056, 'lifestyl': 3057, 'destin': 3058, 'stoog': 3059, 'superbl': 3060, 'piano': 3061, 'psychiatrist': 3062, 'cheek': 3063, 'farc': 3064, 'australia': 3065, 'seed': 3066, 'bash': 3067, 'regardless': 3068, 'emili': 3069, 'incompet': 3070, 'abc': 3071, 'akshay': 3072, 'anni': 3073, 'pressur': 3074, 'kitchen': 3075, 'drivel': 3076, 'slice': 3077, 'wick': 3078, 'soviet': 3079, 'dash': 3080, 'directori': 3081, 'dire': 3082, 'splatter': 3083, 'wrestl': 3084, 'pleasantli': 3085, 'glow': 3086, 'flower': 3087, 'mann': 3088, 'seduc': 3089, 'duo': 3090, 'cagney': 3091, 'suppli': 3092, 'recov': 3093, 'dave': 3094, 'judi': 3095, 'doo': 3096, 'distant': 3097, 'increas': 3098, 'ken': 3099, 'boil': 3100, 'beaten': 3101, 'prize': 3102, 'curios': 3103, 'chapter': 3104, 'cameron': 3105, 'jar': 3106, 'artifici': 3107, 'blob': 3108, 'lou': 3109, 'helicopt': 3110, 'cia': 3111, 'perri': 3112, 'hop': 3113, 'combat': 3114, 'ranger': 3115, 'glenn': 3116, 'laurel': 3117, 'splendid': 3118, 'goldberg': 3119, 'web': 3120, 'psychot': 3121, 'francisco': 3122, 'panic': 3123, 'craven': 3124, 'turner': 3125, 'drunken': 3126, 'favour': 3127, 'ellen': 3128, 'craig': 3129, 'eleg': 3130, 'plausibl': 3131, 'greek': 3132, 'wizard': 3133, 'fx': 3134, 'shortli': 3135, '20th': 3136, 'hatr': 3137, 'ruth': 3138, 'modesti': 3139, 'slightest': 3140, 'gentl': 3141, 'falk': 3142, 'graduat': 3143, 'alexand': 3144, 'gandhi': 3145, 'philosophi': 3146, 'rid': 3147, 'flip': 3148, 'min': 3149, 'holi': 3150, 'tall': 3151, 'jealou': 3152, 'lend': 3153, 'legal': 3154, 'ocean': 3155, 'harm': 3156, 'dracula': 3157, 'manhattan': 3158, 'we': 3159, 'preciou': 3160, 'knight': 3161, 'unpleas': 3162, 'futurist': 3163, 'fund': 3164, 'felix': 3165, 'tank': 3166, 'forbidden': 3167, 'ami': 3168, 'mock': 3169, 'thread': 3170, 'explicit': 3171, 'bless': 3172, 'giallo': 3173, 'childish': 3174, 'digniti': 3175, 'overdon': 3176, 'reviv': 3177, 'nod': 3178, 'scientif': 3179, 'repeatedli': 3180, 'fever': 3181, '2004': 3182, 'verhoeven': 3183, 'elderli': 3184, 'awe': 3185, 'yesterday': 3186, 'broad': 3187, 'margaret': 3188, 'unwatch': 3189, '99': 3190, 'torment': 3191, 'eve': 3192, 'nerv': 3193, 'mel': 3194, 'thick': 3195, 'pirat': 3196, 'awaken': 3197, 'launch': 3198, 'roman': 3199, 'politician': 3200, 'royal': 3201, 'rivet': 3202, 'bin': 3203, 'romero': 3204, 'timothi': 3205, 'kay': 3206, 'ambit': 3207, 'custom': 3208, 'stiller': 3209, 'eas': 3210, 'acclaim': 3211, 'lean': 3212, 'absenc': 3213, 'griffith': 3214, 'ah': 3215, 'automat': 3216, 'uniform': 3217, 'publish': 3218, 'warren': 3219, 'homicid': 3220, 'gabriel': 3221, 'antic': 3222, 'transport': 3223, 'wallac': 3224, 'sunshin': 3225, 'foul': 3226, 'darker': 3227, 'pierc': 3228, 'bathroom': 3229, 'phrase': 3230, 'tomato': 3231, 'crook': 3232, 'stinker': 3233, 'pulp': 3234, 'termin': 3235, 'purpl': 3236, 'evolv': 3237, 'contrari': 3238, 'donna': 3239, 'hollow': 3240, 'sixti': 3241, 'q': 3242, 'coloni': 3243, 'horrid': 3244, 'eyr': 3245, 'juvenil': 3246, 'saint': 3247, 'marin': 3248, 'viciou': 3249, 'awak': 3250, 'kenneth': 3251, 'album': 3252, 'brazil': 3253, '2003': 3254, 'pray': 3255, 'rambo': 3256, 'revolutionari': 3257, 'karen': 3258, 'packag': 3259, 'choreographi': 3260, 'ought': 3261, 'prom': 3262, 'li': 3263, 'beatti': 3264, 'overr': 3265, 'defi': 3266, 'mummi': 3267, 'option': 3268, 'blade': 3269, 'mildr': 3270, 'candid': 3271, 'twelv': 3272, 'conserv': 3273, 'ramon': 3274, 'dose': 3275, 'stole': 3276, 'nerd': 3277, 'ireland': 3278, 'boast': 3279, 'kapoor': 3280, 'altman': 3281, 'protest': 3282, 'collabor': 3283, 'flame': 3284, 'global': 3285, 'confirm': 3286, 'kirk': 3287, 'astonish': 3288, 'natali': 3289, 'trio': 3290, 'fulci': 3291, 'jazz': 3292, 'detract': 3293, 'funer': 3294, 'delici': 3295, 'bull': 3296, 'racial': 3297, 'bottl': 3298, 'tommi': 3299, 'blake': 3300, 'shade': 3301, 'mystic': 3302, 'yellow': 3303, 'spit': 3304, 'nicholson': 3305, 'leap': 3306, 'whip': 3307, 'destini': 3308, 'audio': 3309, 'enterpris': 3310, 'neo': 3311, 'vivid': 3312, 'threw': 3313, 'popcorn': 3314, 'pseudo': 3315, 'merci': 3316, 'meaningless': 3317, 'visibl': 3318, 'staff': 3319, 'inherit': 3320, 'enchant': 3321, 'todd': 3322, 'harder': 3323, 'swedish': 3324, 'reunit': 3325, 'altogeth': 3326, 'bedroom': 3327, 'adolesc': 3328, 'fonda': 3329, 'exhibit': 3330, 'wire': 3331, 'tip': 3332, 'reserv': 3333, 'atlanti': 3334, 'suspici': 3335, 'befriend': 3336, 'await': 3337, 'edi': 3338, 'kennedi': 3339, 'decor': 3340, 'ruthless': 3341, 'madonna': 3342, 'respond': 3343, 'moodi': 3344, 'leonard': 3345, 'fanat': 3346, 'bust': 3347, 'uneven': 3348, 'lawrenc': 3349, 'roommat': 3350, 'jew': 3351, 'lemmon': 3352, 'crocodil': 3353, 'synopsi': 3354, 'voight': 3355, 'garner': 3356, '2007': 3357, 'bold': 3358, 'clumsi': 3359, 'unsettl': 3360, 'palma': 3361, 'incident': 3362, 'centr': 3363, 'clint': 3364, 'rural': 3365, 'ventur': 3366, 'bargain': 3367, 'dimens': 3368, 'bradi': 3369, 'abysm': 3370, 'carl': 3371, 'audit': 3372, 'chao': 3373, 'holli': 3374, 'voyag': 3375, 'troop': 3376, 'mall': 3377, 'timon': 3378, 'poetic': 3379, 'cd': 3380, 'hart': 3381, 'imperson': 3382, 'elimin': 3383, 'characterist': 3384, 'wealth': 3385, 'humili': 3386, 'trail': 3387, 'versu': 3388, 'cari': 3389, '2nd': 3390, 'daddi': 3391, 'neglect': 3392, 'echo': 3393, 'lit': 3394, 'immigr': 3395, 'nearbi': 3396, 'ant': 3397, 'cuba': 3398, 'tiger': 3399, 'acknowledg': 3400, 'mistaken': 3401, 'marshal': 3402, 'jeffrey': 3403, 'solo': 3404, 'saga': 3405, 'pun': 3406, 'paus': 3407, 'collaps': 3408, 'celluloid': 3409, 'mickey': 3410, 'homer': 3411, 'domest': 3412, 'repuls': 3413, 'prejudic': 3414, 'infect': 3415, 'equip': 3416, 'milk': 3417, 'promin': 3418, 'interrupt': 3419, 'assembl': 3420, 'gear': 3421, 'pant': 3422, 'chest': 3423, 'cake': 3424, 'undoubtedli': 3425, 'coffe': 3426, 'ginger': 3427, 'sore': 3428, 'hbo': 3429, 'olivi': 3430, 'leon': 3431, 'harvey': 3432, 'tribe': 3433, '1996': 3434, 'inappropri': 3435, 'coat': 3436, 'inan': 3437, 'apolog': 3438, 'aveng': 3439, 'retain': 3440, 'florida': 3441, 'instant': 3442, 'primari': 3443, 'exot': 3444, 'embrac': 3445, 'trace': 3446, 'colonel': 3447, 'vulgar': 3448, 'devast': 3449, 'colleagu': 3450, 'pen': 3451, 'jenni': 3452, 'humbl': 3453, 'furthermor': 3454, 'pot': 3455, 'solut': 3456, 'consum': 3457, 'brooklyn': 3458, 'maggi': 3459, 'institut': 3460, 'highest': 3461, 'airplan': 3462, 'polanski': 3463, 'outer': 3464, '3rd': 3465, 'ya': 3466, 'illog': 3467, 'poke': 3468, 'cope': 3469, 'strain': 3470, 'rick': 3471, 'linda': 3472, 'seduct': 3473, 'bowl': 3474, 'descend': 3475, 'principl': 3476, 'sale': 3477, 'wive': 3478, 'gender': 3479, 'dian': 3480, 'smaller': 3481, 'godzilla': 3482, 'disabl': 3483, '1999': 3484, 'dutch': 3485, 'primarili': 3486, 'predecessor': 3487, 'glamor': 3488, 'bubbl': 3489, 'lol': 3490, 'inferior': 3491, 'dud': 3492, 'vast': 3493, 'yard': 3494, 'beneath': 3495, 'mixtur': 3496, 'cue': 3497, 'devoid': 3498, 'blatant': 3499, 'secondli': 3500, 'scope': 3501, 'hal': 3502, 'rabbit': 3503, 'dive': 3504, 'gloriou': 3505, 'gundam': 3506, 'senseless': 3507, 'aggress': 3508, 'et': 3509, 'talki': 3510, 'shirley': 3511, 'simplist': 3512, 'casual': 3513, 'countrysid': 3514, 'streep': 3515, 'museum': 3516, 'pearl': 3517, 'alfr': 3518, 'disjoint': 3519, 'trademark': 3520, 'arab': 3521, 'shelf': 3522, 'garbo': 3523, 'alert': 3524, 'hideou': 3525, 'breed': 3526, 'z': 3527, 'myer': 3528, 'grinch': 3529, 'invas': 3530, 'domino': 3531, 'april': 3532, 'boom': 3533, 'stack': 3534, 'oz': 3535, 'robberi': 3536, 'hardcor': 3537, 'illeg': 3538, 'uwe': 3539, 'stellar': 3540, 'hopeless': 3541, 'acid': 3542, 'sh': 3543, 'mayor': 3544, 'unhappi': 3545, 'rendit': 3546, 'maci': 3547, 'disgrac': 3548, 'experiment': 3549, 'defens': 3550, 'obtain': 3551, 'loyal': 3552, 'mail': 3553, 'applaud': 3554, 'robinson': 3555, 'vanish': 3556, 'slide': 3557, 'khan': 3558, 'stir': 3559, 'craze': 3560, 'grandfath': 3561, 'psychic': 3562, 'amanda': 3563, 'incomprehens': 3564, 'counter': 3565, 'tenant': 3566, 'fri': 3567, 'recruit': 3568, 'dismiss': 3569, 'emphasi': 3570, 'berlin': 3571, 'declin': 3572, 'blew': 3573, 'topless': 3574, 'wont': 3575, 'span': 3576, 'rifl': 3577, 'scroog': 3578, 'dicken': 3579, 'soccer': 3580, 'diana': 3581, 'tempt': 3582, 'spider': 3583, 'hartley': 3584, 'justin': 3585, 'trashi': 3586, 'wet': 3587, 'shaw': 3588, 'bitch': 3589, 'niro': 3590, 'sibl': 3591, 'ration': 3592, 'faster': 3593, 'revolt': 3594, 'sympath': 3595, 'ethnic': 3596, 'woo': 3597, 'goer': 3598, 'parad': 3599, 'riot': 3600, 'shed': 3601, 'porno': 3602, 'intim': 3603, 'resurrect': 3604, 'lumet': 3605, 'region': 3606, 'wheel': 3607, 'feminist': 3608, 'patriot': 3609, 'slick': 3610, 'weakest': 3611, 'hesit': 3612, 'dealer': 3613, 'choru': 3614, 'honesti': 3615, '00': 3616, 'rider': 3617, 'enlighten': 3618, 'ensur': 3619, 'immort': 3620, 'nephew': 3621, 'mario': 3622, 'partial': 3623, 'hopper': 3624, 'biographi': 3625, 'jonathan': 3626, 'ballet': 3627, 'lena': 3628, 'eager': 3629, 'unreal': 3630, 'andr': 3631, 'commend': 3632, 'farmer': 3633, 'wendi': 3634, 'steam': 3635, 'gap': 3636, 'worm': 3637, 'psychopath': 3638, 'similarli': 3639, 'composit': 3640, 'leo': 3641, 'kingdom': 3642, 'nostalg': 3643, 'properti': 3644, 'hung': 3645, 'prequel': 3646, 'repress': 3647, 'sappi': 3648, 'vice': 3649, 'morri': 3650, 'confin': 3651, 'util': 3652, 'victori': 3653, 'snap': 3654, 'blunt': 3655, 'wore': 3656, 'macarthur': 3657, 'charlott': 3658, 'safeti': 3659, 'skull': 3660, 'franco': 3661, 'mutant': 3662, 'owen': 3663, 'sandra': 3664, 'nervou': 3665, 'cg': 3666, 'bonu': 3667, '1972': 3668, 'drum': 3669, 'hyde': 3670, 'tad': 3671, 'montana': 3672, 'del': 3673, 'rambl': 3674, 'drain': 3675, 'kyle': 3676, 'bumbl': 3677, 'despair': 3678, 'farrel': 3679, 'heartbreak': 3680, 'emperor': 3681, 'dalton': 3682, 'campbel': 3683, 'deed': 3684, 'thru': 3685, 'tail': 3686, 'whoopi': 3687, 'rope': 3688, 'snl': 3689, 'repli': 3690, 'miseri': 3691, 'compass': 3692, 'latin': 3693, 'exit': 3694, 'compens': 3695, 'strand': 3696, 'pattern': 3697, 'valuabl': 3698, 'rocki': 3699, 'acquir': 3700, 'recycl': 3701, 'bergman': 3702, 'dust': 3703, 'bow': 3704, 'speci': 3705, 'da': 3706, 'rapist': 3707, 'pour': 3708, 'gimmick': 3709, 'roth': 3710, 'contempl': 3711, '35': 3712, 'radic': 3713, 'carradin': 3714, 'percept': 3715, 'romp': 3716, 'orson': 3717, 'mistress': 3718, 'bleed': 3719, 'oppress': 3720, 'rotten': 3721, 'wacki': 3722, 'martian': 3723, 'tonight': 3724, 'gal': 3725, 'downhil': 3726, 'airport': 3727, 'slug': 3728, 'chess': 3729, 'olli': 3730, 'pervert': 3731, 'melodi': 3732, 'mislead': 3733, 'shelley': 3734, 'programm': 3735, 'arc': 3736, 'banal': 3737, 'pursuit': 3738, 'tackl': 3739, 'pervers': 3740, 'attorney': 3741, 'belt': 3742, '1983': 3743, 'heal': 3744, 'tooth': 3745, 'dazzl': 3746, 'taught': 3747, 'champion': 3748, 'edgar': 3749, 'stilt': 3750, 'arguabl': 3751, 'unpredict': 3752, 'slash': 3753, 'paltrow': 3754, 'preach': 3755, 'sensat': 3756, 'virginia': 3757, 'plight': 3758, 'graham': 3759, 'conneri': 3760, 'franki': 3761, 'vocal': 3762, 'chicken': 3763, 'maid': 3764, 'cleverli': 3765, 'duval': 3766, 'vengeanc': 3767, 'poem': 3768, 'tiresom': 3769, 'rubi': 3770, 'orang': 3771, 'passeng': 3772, 'raymond': 3773, 'closest': 3774, 'mesmer': 3775, 'bela': 3776, 'gambl': 3777, 'employe': 3778, 'uplift': 3779, 'marti': 3780, 'dixon': 3781, 'quarter': 3782, 'sirk': 3783, 'swallow': 3784, 'volum': 3785, 'climact': 3786, 'abraham': 3787, 'bay': 3788, 'giggl': 3789, 'yawn': 3790, 'habit': 3791, 'tube': 3792, 'profan': 3793, 'extens': 3794, 'scottish': 3795, 'monologu': 3796, '1968': 3797, 'secretli': 3798, 'whine': 3799, 'outing': 3800, 'amitabh': 3801, 'suffic': 3802, 'inject': 3803, 'convincingli': 3804, 'mute': 3805, 'paranoia': 3806, 'calm': 3807, 'numb': 3808, 'crystal': 3809, 'engross': 3810, 'iran': 3811, 'clone': 3812, 'lundgren': 3813, 'gerard': 3814, 'pokemon': 3815, 'frankenstein': 3816, 'taxi': 3817, 'surpass': 3818, 'lowest': 3819, 'grotesqu': 3820, 'fed': 3821, 'bend': 3822, 'earl': 3823, 'richardson': 3824, 'underst': 3825, 'meander': 3826, 'abort': 3827, 'expand': 3828, 'septemb': 3829, 'ethan': 3830, 'nichola': 3831, 'chicago': 3832, 'profess': 3833, 'dispos': 3834, 'poetri': 3835, 'austen': 3836, 'im': 3837, 'trend': 3838, 'plod': 3839, 'junior': 3840, 'spock': 3841, 'linger': 3842, 'franci': 3843, 'backward': 3844, 'rubber': 3845, 'simplic': 3846, 'spoke': 3847, 'dysfunct': 3848, 'greedi': 3849, 'instrument': 3850, 'econom': 3851, 'waitress': 3852, 'descent': 3853, 'literatur': 3854, 'myth': 3855, 'lure': 3856, 'nostalgia': 3857, 'sue': 3858, 'hum': 3859, 'muddl': 3860, 'household': 3861, 'rant': 3862, 'eugen': 3863, 'mundan': 3864, 'compliment': 3865, 'tourist': 3866, 'stallon': 3867, 'der': 3868, 'catchi': 3869, 'cannon': 3870, 'insur': 3871, 'louis': 3872, 'bacal': 3873, 'eaten': 3874, 'irrelev': 3875, 'phantom': 3876, 'dictat': 3877, 'alongsid': 3878, 'june': 3879, 'duck': 3880, 'cent': 3881, 'occupi': 3882, 'stale': 3883, 'map': 3884, 'equival': 3885, 'furi': 3886, 'deaf': 3887, 'coast': 3888, 'firstli': 3889, 'lang': 3890, 'mankind': 3891, 'crucial': 3892, 'phoni': 3893, 'molli': 3894, 'recognit': 3895, 'recognis': 3896, 'sissi': 3897, 'damon': 3898, 'dement': 3899, 'hello': 3900, 'flee': 3901, 'mortal': 3902, 'omen': 3903, 'carel': 3904, 'randi': 3905, 'cyborg': 3906, 'heel': 3907, 'damm': 3908, 'bump': 3909, 'rude': 3910, 'daisi': 3911, 'lengthi': 3912, 'distinguish': 3913, 'newli': 3914, '1973': 3915, 'onlin': 3916, 'bike': 3917, 'reign': 3918, 'twilight': 3919, 'loyalti': 3920, 'freez': 3921, 'buffalo': 3922, 'ashley': 3923, 'drake': 3924, 'rooney': 3925, 'antwon': 3926, 'wisdom': 3927, 'blackmail': 3928, 'grayson': 3929, 'labor': 3930, 'likewis': 3931, 'dreari': 3932, 'biko': 3933, 'startl': 3934, 'incorpor': 3935, 'vein': 3936, 'inher': 3937, 'butler': 3938, 'attribut': 3939, 'basketbal': 3940, 'analysi': 3941, 'provoc': 3942, 'tunnel': 3943, 'nineti': 3944, 'worn': 3945, 'interior': 3946, 'chronicl': 3947, 'emphas': 3948, 'pink': 3949, 'baddi': 3950, 'prey': 3951, 'exposur': 3952, 'unorigin': 3953, 'keith': 3954, 'ridden': 3955, 'barrymor': 3956, 'approv': 3957, 'sailor': 3958, 'proce': 3959, 'boxer': 3960, 'elm': 3961, 'carla': 3962, 'degrad': 3963, 'indiffer': 3964, 'underli': 3965, 'er': 3966, 'predat': 3967, 'millionair': 3968, 'mighti': 3969, 'belushi': 3970, 'improvis': 3971, 'drift': 3972, 'othello': 3973, 'bunni': 3974, 'walsh': 3975, 'unrel': 3976, 'nicol': 3977, 'fleet': 3978, 'julian': 3979, 'undeni': 3980, 'substitut': 3981, 'meg': 3982, 'stalker': 3983, 'condemn': 3984, 'simmon': 3985, 'mormon': 3986, 'barrel': 3987, 'hypnot': 3988, 'meyer': 3989, 'robbin': 3990, 'unawar': 3991, 'exquisit': 3992, 'priceless': 3993, 'marion': 3994, 'agenda': 3995, 'shove': 3996, 'enthusiasm': 3997, 'greed': 3998, 'watson': 3999, 'edgi': 4000, 'mtv': 4001, 'hay': 4002, 'alison': 4003, 'reid': 4004, 'nyc': 4005, 'disord': 4006, 'novak': 4007, 'errol': 4008, 'rukh': 4009, 'roof': 4010, 'dolph': 4011, 'lampoon': 4012, 'warmth': 4013, 'vital': 4014, 'alarm': 4015, 'firm': 4016, 'palac': 4017, '3d': 4018, 'profit': 4019, 'randomli': 4020, 'sergeant': 4021, 'drip': 4022, 'minimum': 4023, '13th': 4024, 'pamela': 4025, 'ponder': 4026, 'iraq': 4027, 'coup': 4028, 'gestur': 4029, 'crown': 4030, 'testament': 4031, 'petti': 4032, 'simultan': 4033, 'preserv': 4034, 'session': 4035, 'thompson': 4036, 'beatl': 4037, 'zizek': 4038, 'showdown': 4039, 'what': 4040, 'valentin': 4041, 'campaign': 4042, 'cassidi': 4043, 'eastern': 4044, 'peck': 4045, 'peril': 4046, 'angela': 4047, 'unleash': 4048, 'championship': 4049, 'orlean': 4050, 'spain': 4051, 'nun': 4052, '1933': 4053, 'distort': 4054, 'israel': 4055, 'glanc': 4056, 'miyazaki': 4057, 'reson': 4058, 'stake': 4059, 'mon': 4060, 'cream': 4061, 'regist': 4062, '1984': 4063, 'fido': 4064, 'stroke': 4065, 'scotland': 4066, 'shootout': 4067, 'crow': 4068, 'unimagin': 4069, 'brenda': 4070, 'bro': 4071, 'cooki': 4072, 'kurosawa': 4073, 'climat': 4074, 'wig': 4075, 'contradict': 4076, 'quinn': 4077, 'din': 4078, 'empathi': 4079, 'exposit': 4080, 'rout': 4081, 'restrain': 4082, 'valley': 4083, 'realm': 4084, 'travesti': 4085, 'gentleman': 4086, 'represent': 4087, 'calib': 4088, 'crawl': 4089, 'sabrina': 4090, 'perpetu': 4091, 'buster': 4092, 'han': 4093, 'jan': 4094, 'cloud': 4095, 'wax': 4096, 'tacki': 4097, 'derang': 4098, 'sammi': 4099, 'demis': 4100, 'meryl': 4101, 'warrant': 4102, 'pretens': 4103, 'perceiv': 4104, 'stargat': 4105, 'ross': 4106, 'fuller': 4107, 'distress': 4108, 'unsatisfi': 4109, 'monoton': 4110, '1997': 4111, 'dana': 4112, 'traumat': 4113, 'censor': 4114, 'shaki': 4115, 'delic': 4116, 'abomin': 4117, 'businessman': 4118, 'spacey': 4119, 'passabl': 4120, 'absent': 4121, 'soderbergh': 4122, 'ustinov': 4123, 'painter': 4124, 'mclaglen': 4125, 'greg': 4126, 'femm': 4127, 'compromis': 4128, 'josh': 4129, 'pole': 4130, 'crawford': 4131, '1987': 4132, 'geek': 4133, 'unseen': 4134, 'sucker': 4135, 'baldwin': 4136, 'darren': 4137, 'shoddi': 4138, 'unravel': 4139, 'sid': 4140, 'furiou': 4141, 'seal': 4142, 'valid': 4143, 'exclus': 4144, 'kumar': 4145, 'verbal': 4146, 'deniro': 4147, 'austin': 4148, 'fenc': 4149, 'uncov': 4150, 'polici': 4151, 'jewel': 4152, 'deceas': 4153, 'clash': 4154, 'tarantino': 4155, 'reluct': 4156, 'nathan': 4157, 'anchor': 4158, 'correctli': 4159, 'judgment': 4160, 'dee': 4161, 'primit': 4162, 'norm': 4163, 'antonioni': 4164, 'click': 4165, 'wholli': 4166, '1993': 4167, 'expedit': 4168, 'fog': 4169, 'accuraci': 4170, 'tech': 4171, '1971': 4172, 'crippl': 4173, 'malon': 4174, 'alec': 4175, 'joel': 4176, 'behold': 4177, 'trait': 4178, 'seldom': 4179, 'mode': 4180, 'debt': 4181, 'tax': 4182, 'pocket': 4183, 'dreck': 4184, 'patienc': 4185, 'roller': 4186, 'slam': 4187, 'darn': 4188, 'murray': 4189, 'fart': 4190, 'fabric': 4191, 'temper': 4192, 'sustain': 4193, 'ritual': 4194, 'sunni': 4195, 'nicola': 4196, '2008': 4197, 'logan': 4198, 'shanghai': 4199, 'conduct': 4200, '3000': 4201, 'fought': 4202, 'sheet': 4203, 'hallucin': 4204, 'unfair': 4205, 'enforc': 4206, 'wang': 4207, 'sand': 4208, 'wretch': 4209, 'bake': 4210, '1995': 4211, 'clerk': 4212, 'vanc': 4213, 'squad': 4214, 'stark': 4215, 'outlin': 4216, 'schedul': 4217, 'despis': 4218, 'phil': 4219, 'critiqu': 4220, 'runner': 4221, 'exhaust': 4222, 'canyon': 4223, 'fundament': 4224, 'preston': 4225, 'isabel': 4226, 'rita': 4227, 'legaci': 4228, 'divid': 4229, 'preposter': 4230, 'shell': 4231, 'tactic': 4232, 'robber': 4233, 'bridget': 4234, 'grief': 4235, 'conscious': 4236, 'helpless': 4237, 'technicolor': 4238, 'soup': 4239, 'sweep': 4240, 'scriptwrit': 4241, 'clau': 4242, 'bias': 4243, 'penni': 4244, 'pete': 4245, 'stuart': 4246, 'guitar': 4247, 'drove': 4248, 'rear': 4249, 'agenc': 4250, 'invad': 4251, 'restrict': 4252, 'sugar': 4253, 'alicia': 4254, 'culmin': 4255, 'bloom': 4256, 'rehash': 4257, 'propos': 4258, 'kansa': 4259, 'flair': 4260, 'liberti': 4261, 'sentinel': 4262, 'passag': 4263, 'consciou': 4264, 'inabl': 4265, 'delv': 4266, 'connor': 4267, 'cigarett': 4268, 'gregori': 4269, 'implic': 4270, 'sniper': 4271, 'newman': 4272, 'marc': 4273, 'russia': 4274, 'boyl': 4275, 'jacket': 4276, 'alley': 4277, 'lacklust': 4278, 'vomit': 4279, 'jodi': 4280, 'downey': 4281, 'unexpectedli': 4282, 'palanc': 4283, 'vet': 4284, 'tripe': 4285, 'wrench': 4286, 'karl': 4287, 'awhil': 4288, '22': 4289, 'rod': 4290, 'behaviour': 4291, 'lush': 4292, 'ladder': 4293, 'rehears': 4294, 'foxx': 4295, 'pale': 4296, 'asylum': 4297, '1936': 4298, 'delet': 4299, 'yeti': 4300, 'bacon': 4301, 'improb': 4302, 'rampag': 4303, 'feat': 4304, 'aesthet': 4305, 'chainsaw': 4306, 'mccoy': 4307, 'tendenc': 4308, 'sharon': 4309, 'horn': 4310, 'cap': 4311, 'arrow': 4312, 'kolchak': 4313, 'amazon': 4314, 'wildli': 4315, 'underneath': 4316, 'lurk': 4317, 'hackney': 4318, 'weav': 4319, 'shortcom': 4320, 'financ': 4321, 'coaster': 4322, 'newcom': 4323, 'scoop': 4324, 'tomorrow': 4325, 'conscienc': 4326, 'sung': 4327, '1920': 4328, 'paramount': 4329, 'visitor': 4330, 'tasteless': 4331, 'aristocrat': 4332, '1978': 4333, 'loneli': 4334, '1988': 4335, 'fright': 4336, 'paradis': 4337, 'spice': 4338, 'basing': 4339, 'hungri': 4340, '19th': 4341, 'filler': 4342, 'elit': 4343, 'el': 4344, 'suspicion': 4345, 'stream': 4346, 'rumor': 4347, 'suffici': 4348, 'hulk': 4349, 'minu': 4350, 'prank': 4351, 'wagner': 4352, 'rhythm': 4353, 'globe': 4354, 'thunderbird': 4355, 'brit': 4356, 'grudg': 4357, 'teas': 4358, 'ingeni': 4359, 'abrupt': 4360, 'immers': 4361, 'ram': 4362, 'standout': 4363, 'paxton': 4364, 'entranc': 4365, 'atroc': 4366, 'smell': 4367, 'couch': 4368, 'secondari': 4369, 'choppi': 4370, 'leigh': 4371, 'curli': 4372, 'worship': 4373, 'hopkin': 4374, 'iv': 4375, 'heist': 4376, 'impos': 4377, '1939': 4378, 'springer': 4379, 'counterpart': 4380, 'literari': 4381, 'quietli': 4382, 'recogniz': 4383, 'en': 4384, '75': 4385, 'inmat': 4386, 'dirt': 4387, 'straightforward': 4388, 'minist': 4389, 'beverli': 4390, 'chavez': 4391, '1989': 4392, 'bread': 4393, 'wwe': 4394, 'lectur': 4395, 'naughti': 4396, 'rub': 4397, 'penn': 4398, 'cancer': 4399, 'tierney': 4400, 'chamberlain': 4401, 'posey': 4402, 'missil': 4403, 'variat': 4404, 'misguid': 4405, 'skeptic': 4406, 'duel': 4407, 'quaid': 4408, 'geni': 4409, 'entitl': 4410, 'watcher': 4411, 'policeman': 4412, 'attenborough': 4413, 'heartfelt': 4414, 'sublim': 4415, 'nemesi': 4416, 'net': 4417, 'laurenc': 4418, 'ace': 4419, 'cattl': 4420, 'esther': 4421, 'convert': 4422, 'clan': 4423, 'morbid': 4424, 'transcend': 4425, 'moreov': 4426, 'lindsay': 4427, 'nolan': 4428, 'enthral': 4429, '1986': 4430, 'injuri': 4431, 'yearn': 4432, 'bernard': 4433, 'ratso': 4434, 'sassi': 4435, 'grin': 4436, 'egg': 4437, 'kitti': 4438, 'tyler': 4439, 'reliabl': 4440, 'graini': 4441, 'spiral': 4442, 'youngest': 4443, 'puppi': 4444, 'out': 4445, '1979': 4446, 'diari': 4447, 'vader': 4448, 'bye': 4449, 'facil': 4450, 'brood': 4451, 'rosemari': 4452, 'obstacl': 4453, 'characteris': 4454, 'carlito': 4455, 'steadi': 4456, 'kidman': 4457, 'hopelessli': 4458, 'setup': 4459, 'moder': 4460, 'dont': 4461, 'poe': 4462, 'buzz': 4463, 'bean': 4464, 'unexplain': 4465, 'mytholog': 4466, 'cruelti': 4467, 'hk': 4468, 'uncut': 4469, 'enabl': 4470, 'artsi': 4471, 'bounc': 4472, 'despic': 4473, 'effici': 4474, 'athlet': 4475, 'heap': 4476, 'gina': 4477, 'oblig': 4478, 'clueless': 4479, 'underworld': 4480, 'decept': 4481, 'brendan': 4482, 'weather': 4483, 'niec': 4484, 'sweat': 4485, 'spontan': 4486, 'baffl': 4487, 'bewar': 4488, 'patricia': 4489, 'narrow': 4490, 'martha': 4491, 'acquaint': 4492, 'fuel': 4493, '1969': 4494, 'gillian': 4495, 'exterior': 4496, 'disastr': 4497, 'bronson': 4498, 'hammi': 4499, 'kline': 4500, 'hain': 4501, 'christin': 4502, 'preming': 4503, 'viewpoint': 4504, '73': 4505, 'outlaw': 4506, 'candl': 4507, 'suprem': 4508, 'uh': 4509, 'enlist': 4510, 'rome': 4511, 'insipid': 4512, '19': 4513, 'dilemma': 4514, 'housewif': 4515, 'angst': 4516, 'loath': 4517, 'analyz': 4518, 'biker': 4519, 'scar': 4520, 'fontain': 4521, 'circu': 4522, 'mayhem': 4523, 'headach': 4524, 'lester': 4525, 'astound': 4526, 'goof': 4527, 'hepburn': 4528, 'harmless': 4529, 'injur': 4530, 'dandi': 4531, 'virtu': 4532, 'loi': 4533, 'taboo': 4534, 'sleepwalk': 4535, 'shatter': 4536, 'trigger': 4537, 'preachi': 4538, 'mermaid': 4539, 'tick': 4540, 'sooner': 4541, 'renaiss': 4542, 'steer': 4543, 'filth': 4544, 'zoom': 4545, 'hokey': 4546, 'contempt': 4547, 'oldest': 4548, 'intric': 4549, 'whore': 4550, 'stimul': 4551, 'dish': 4552, 'macho': 4553, 'bent': 4554, 'cassavet': 4555, 'boston': 4556, 'foolish': 4557, 'glorifi': 4558, 'fluff': 4559, 'ebert': 4560, 'idol': 4561, 'hooker': 4562, 'overlong': 4563, 'spade': 4564, 'slimi': 4565, 'amor': 4566, 'hostag': 4567, 'stair': 4568, 'claustrophob': 4569, 'camcord': 4570, 'sox': 4571, 'redund': 4572, 'immatur': 4573, 'tripl': 4574, 'surgeri': 4575, 'guin': 4576, 'dismal': 4577, 'gere': 4578, 'salt': 4579, 'scorses': 4580, 'ariel': 4581, 'corbett': 4582, 'phenomenon': 4583, 'beard': 4584, 'conquer': 4585, 'frantic': 4586, 'flashi': 4587, 'alvin': 4588, 'dwarf': 4589, 'widescreen': 4590, 'cow': 4591, 'margin': 4592, 'schlock': 4593, 'remad': 4594, 'transplant': 4595, 'trivia': 4596, 'strongest': 4597, 'mutual': 4598, 'antagonist': 4599, 'zane': 4600, 'messi': 4601, 'cush': 4602, 'muscl': 4603, 'flirt': 4604, 'preced': 4605, '1976': 4606, 'gasp': 4607, 'assert': 4608, 'harold': 4609, 'corman': 4610, 'nolt': 4611, 'proport': 4612, 'mount': 4613, 'shred': 4614, 'perman': 4615, 'shield': 4616, 'spree': 4617, 'gabl': 4618, 'flag': 4619, 'keen': 4620, '1981': 4621, 'obligatori': 4622, 'fascist': 4623, 'cohen': 4624, 'astronaut': 4625, 'naschi': 4626, 'faint': 4627, 'joker': 4628, 'rhyme': 4629, 'spinal': 4630, 'down': 4631, 'radiat': 4632, 'sensual': 4633, '95': 4634, 'claud': 4635, 'danish': 4636, 'triangl': 4637, 'divin': 4638, 'info': 4639, 'repris': 4640, 'carey': 4641, 'instruct': 4642, '28': 4643, 'archiv': 4644, 'resum': 4645, 'inflict': 4646, 'hara': 4647, 'vaniti': 4648, 'boob': 4649, 'someday': 4650, 'neurot': 4651, 'barn': 4652, 'scandal': 4653, 'departur': 4654, 'deer': 4655, 'persuad': 4656, 'interestingli': 4657, 'off': 4658, 'www': 4659, 'bachelor': 4660, 'brush': 4661, '1945': 4662, 'ritchi': 4663, 'flock': 4664, 'raj': 4665, 'aborigin': 4666, 'discern': 4667, 'fishburn': 4668, 'wield': 4669, 'mol': 4670, 'strive': 4671, 'mobil': 4672, 'bitten': 4673, 'timberlak': 4674, 'senior': 4675, 'fragil': 4676, 'banter': 4677, 'cliffhang': 4678, 'carlo': 4679, 'parson': 4680, 'traffic': 4681, 'pacif': 4682, 'cher': 4683, 'hilar': 4684, 'kathryn': 4685, 'casino': 4686, 'axe': 4687, 'frontier': 4688, 'harrison': 4689, 'ish': 4690, 'pickford': 4691, 'colin': 4692, 'cycl': 4693, 'loretta': 4694, 'prophet': 4695, 'artwork': 4696, 'hug': 4697, 'heartwarm': 4698, 'dim': 4699, 'helm': 4700, 'dame': 4701, 'dylan': 4702, 'wendigo': 4703, 'melissa': 4704, 'recit': 4705, 'bate': 4706, 'vibrant': 4707, 'clad': 4708, 'mobster': 4709, 'submit': 4710, 'neill': 4711, 'proclaim': 4712, 'earnest': 4713, 'pixar': 4714, 'undermin': 4715, 'hapless': 4716, 'miracul': 4717, 'rot': 4718, 'cb': 4719, 'biblic': 4720, 'luka': 4721, 'jade': 4722, 'anton': 4723, 'europa': 4724, 'nope': 4725, 'seedi': 4726, 'jo': 4727, 'winchest': 4728, 'trier': 4729, 'alexandr': 4730, 'aris': 4731, 'eli': 4732, 'jordan': 4733, 'vile': 4734, 'marlon': 4735, 'vanessa': 4736, 'akin': 4737, 'uma': 4738, 'bondag': 4739, 'redneck': 4740, 'estrang': 4741, 'flavor': 4742, 'bikini': 4743, 'cerebr': 4744, 'shepherd': 4745, 'wardrob': 4746, 'northern': 4747, 'feast': 4748, 'breakfast': 4749, 'antholog': 4750, 'isra': 4751, 'mason': 4752, 'foil': 4753, 'pc': 4754, 'rooki': 4755, 'toronto': 4756, 'lucil': 4757, 'razor': 4758, 'http': 4759, 'holocaust': 4760, 'misfortun': 4761, 'orphan': 4762, 'venom': 4763, 'illus': 4764, 'choke': 4765, 'articl': 4766, 'token': 4767, 'lui': 4768, 'sicken': 4769, 'static': 4770, 'blatantli': 4771, 'legitim': 4772, 'electron': 4773, 'milo': 4774, 'mathieu': 4775, 'cartoonish': 4776, 'styliz': 4777, 'boyer': 4778, 'smack': 4779, 'feminin': 4780, 'abund': 4781, 'affleck': 4782, 'fifth': 4783, 'magician': 4784, 'peer': 4785, 'huston': 4786, 'swept': 4787, 'deem': 4788, 'nightclub': 4789, 'ideolog': 4790, 'disregard': 4791, 'leather': 4792, 'gilbert': 4793, 'turd': 4794, 'glare': 4795, 'gunga': 4796, 'wrestler': 4797, 'linear': 4798, 'audrey': 4799, 'highway': 4800, 'knightley': 4801, 'shorter': 4802, 'psych': 4803, 'howl': 4804, 'clinic': 4805, 'dudley': 4806, 'tack': 4807, 'comprehend': 4808, 'oppon': 4809, 'charlton': 4810, 'retriev': 4811, 'frog': 4812, 'outdat': 4813, 'ceremoni': 4814, 'potter': 4815, 'btw': 4816, 'summar': 4817, 'chip': 4818, 'einstein': 4819, 'senat': 4820, 'braveheart': 4821, 'mitch': 4822, 'whack': 4823, 'newer': 4824, 'cuban': 4825, 'snatch': 4826, 'moe': 4827, 'bogu': 4828, 'corn': 4829, 'tara': 4830, 'boo': 4831, 'evolut': 4832, 'bastard': 4833, 'sleaz': 4834, 'spine': 4835, 'phenomen': 4836, 'durat': 4837, 'greet': 4838, 'lighter': 4839, 'energet': 4840, 'breakdown': 4841, '1994': 4842, 'lifeless': 4843, 'conrad': 4844, 'monument': 4845, 'uniformli': 4846, 'toe': 4847, 'spawn': 4848, 'collector': 4849, 'plate': 4850, 'cemeteri': 4851, 'lavish': 4852, 'client': 4853, '4th': 4854, '1991': 4855, 'deliver': 4856, 'compris': 4857, 'goldsworthi': 4858, 'salman': 4859, '1974': 4860, 'armstrong': 4861, 'randolph': 4862, 'jule': 4863, 'replay': 4864, 'signal': 4865, 'jam': 4866, 'eleven': 4867, 'liu': 4868, 'trauma': 4869, 'lex': 4870, 'inaccuraci': 4871, 'fluid': 4872, 'embark': 4873, 'healthi': 4874, 'capot': 4875, 'spectacl': 4876, 'constitut': 4877, 'undertak': 4878, 'sorrow': 4879, 'bulk': 4880, 'judd': 4881, 'jare': 4882, 'ie': 4883, 'neatli': 4884, 'occup': 4885, 'luxuri': 4886, 'pronounc': 4887, 'alleg': 4888, 'bori': 4889, 'kent': 4890, 'belli': 4891, 'mcqueen': 4892, 'creek': 4893, 'wtf': 4894, 'evelyn': 4895, 'historian': 4896, 'appl': 4897, 'outright': 4898, 'clara': 4899, 'firmli': 4900, 'cecil': 4901, 'undead': 4902, 'gilliam': 4903, 'nina': 4904, '1977': 4905, 'ol': 4906, 'kazan': 4907, 'jedi': 4908, 'vignett': 4909, 'subtli': 4910, 'lauren': 4911, 'abound': 4912, 'inclus': 4913, 'lanc': 4914, 'mum': 4915, 'porter': 4916, 'carmen': 4917, 'antonio': 4918, 'id': 4919, 'knee': 4920, 'meal': 4921, 'pepper': 4922, 'comprehens': 4923, 'vain': 4924, 'unsuspect': 4925, 'inaccur': 4926, 'miami': 4927, 'forgiven': 4928, 'kiddi': 4929, 'palm': 4930, 'walt': 4931, 'truman': 4932, 'blur': 4933, 'fruit': 4934, 'roar': 4935, 'unattract': 4936, 'sacrif': 4937, '1985': 4938, 'tokyo': 4939, 'genet': 4940, 'relentless': 4941, 'miniseri': 4942, 'decapit': 4943, 'comb': 4944, 'conan': 4945, 'basket': 4946, 'congratul': 4947, 'groan': 4948, 'cape': 4949, 'curtain': 4950, 'bait': 4951, 'aussi': 4952, 'propheci': 4953, 'ash': 4954, 'spray': 4955, 'pioneer': 4956, 'paula': 4957, 'sidewalk': 4958, 'galaxi': 4959, 'goldblum': 4960, 'poker': 4961, 'rosario': 4962, 'bsg': 4963, 'profil': 4964, 'masterson': 4965, 'growth': 4966, 'assort': 4967, 'dubiou': 4968, 'frontal': 4969, 'substanti': 4970, 'verg': 4971, 'spill': 4972, 'scarfac': 4973, 'orchestr': 4974, 'drone': 4975, 'vastli': 4976, 'weari': 4977, 'hostil': 4978, 'sparkl': 4979, 'monti': 4980, 'handicap': 4981, 'modest': 4982, 'asset': 4983, 'ingrid': 4984, 'epitom': 4985, 'reincarn': 4986, 'optimist': 4987, 'sophi': 4988, 'evan': 4989, 'playboy': 4990, 'macabr': 4991, 'cypher': 4992, 'ghetto': 4993, 'weaker': 4994, 'mice': 4995, 'turtl': 4996, 'motorcycl': 4997, 'detach': 4998, 'hackman': 4999}\n"
     ]
    }
   ],
   "source": [
    "word_dict = build_dict(train_X)\n"
   ]
  },
  {
   "cell_type": "markdown",
   "metadata": {},
   "source": [
    "**Question:** What are the five most frequently appearing (tokenized) words in the training set? Does it makes sense that these words appear frequently in the training set?"
   ]
  },
  {
   "cell_type": "markdown",
   "metadata": {},
   "source": [
    "**Answer:** The most Frequently appearing words are movi, film, one, like, and time"
   ]
  },
  {
   "cell_type": "code",
   "execution_count": 17,
   "metadata": {},
   "outputs": [
    {
     "name": "stdout",
     "output_type": "stream",
     "text": [
      "{'movi': 2, 'film': 3, 'one': 4, 'like': 5, 'time': 6, 'good': 7, 'make': 8, 'charact': 9, 'get': 10, 'see': 11, 'watch': 12, 'stori': 13, 'even': 14, 'would': 15, 'realli': 16, 'well': 17, 'scene': 18, 'look': 19, 'show': 20, 'much': 21, 'end': 22, 'peopl': 23, 'bad': 24, 'go': 25, 'great': 26, 'also': 27, 'first': 28, 'love': 29, 'think': 30, 'way': 31, 'act': 32, 'play': 33, 'made': 34, 'thing': 35, 'could': 36, 'know': 37, 'say': 38, 'seem': 39, 'work': 40, 'plot': 41, 'two': 42, 'actor': 43, 'year': 44, 'come': 45, 'mani': 46, 'seen': 47, 'take': 48, 'want': 49, 'life': 50, 'never': 51, 'littl': 52, 'best': 53, 'tri': 54, 'man': 55, 'ever': 56, 'give': 57, 'better': 58, 'still': 59, 'perform': 60, 'find': 61, 'feel': 62, 'part': 63, 'back': 64, 'use': 65, 'someth': 66, 'director': 67, 'actual': 68, 'interest': 69, 'lot': 70, 'real': 71, 'old': 72, 'cast': 73, 'though': 74, 'live': 75, 'star': 76, 'enjoy': 77, 'guy': 78, 'anoth': 79, 'new': 80, 'role': 81, 'noth': 82, '10': 83, 'funni': 84, 'music': 85, 'point': 86, 'start': 87, 'set': 88, 'girl': 89, 'origin': 90, 'day': 91, 'world': 92, 'everi': 93, 'believ': 94, 'turn': 95, 'quit': 96, 'direct': 97, 'us': 98, 'thought': 99, 'fact': 100, 'minut': 101, 'horror': 102, 'kill': 103, 'action': 104, 'comedi': 105, 'pretti': 106, 'young': 107, 'wonder': 108, 'happen': 109, 'around': 110, 'got': 111, 'effect': 112, 'right': 113, 'long': 114, 'howev': 115, 'big': 116, 'line': 117, 'famili': 118, 'enough': 119, 'seri': 120, 'may': 121, 'need': 122, 'fan': 123, 'bit': 124, 'script': 125, 'beauti': 126, 'person': 127, 'becom': 128, 'without': 129, 'must': 130, 'alway': 131, 'friend': 132, 'tell': 133, 'reason': 134, 'saw': 135, 'last': 136, 'final': 137, 'kid': 138, 'almost': 139, 'put': 140, 'least': 141, 'sure': 142, 'done': 143, 'whole': 144, 'place': 145, 'complet': 146, 'kind': 147, 'differ': 148, 'expect': 149, 'shot': 150, 'far': 151, 'mean': 152, 'anyth': 153, 'book': 154, 'laugh': 155, 'might': 156, 'name': 157, 'sinc': 158, 'begin': 159, '2': 160, 'probabl': 161, 'woman': 162, 'help': 163, 'entertain': 164, 'let': 165, 'screen': 166, 'call': 167, 'tv': 168, 'moment': 169, 'away': 170, 'read': 171, 'yet': 172, 'rather': 173, 'worst': 174, 'run': 175, 'fun': 176, 'lead': 177, 'hard': 178, 'audienc': 179, 'idea': 180, 'anyon': 181, 'episod': 182, 'american': 183, 'found': 184, 'appear': 185, 'bore': 186, 'especi': 187, 'although': 188, 'hope': 189, 'keep': 190, 'cours': 191, 'anim': 192, 'job': 193, 'goe': 194, 'move': 195, 'sens': 196, 'dvd': 197, 'version': 198, 'war': 199, 'money': 200, 'someon': 201, 'mind': 202, 'mayb': 203, 'problem': 204, 'true': 205, 'hous': 206, 'everyth': 207, 'nice': 208, 'second': 209, 'rate': 210, 'three': 211, 'night': 212, 'follow': 213, 'face': 214, 'recommend': 215, 'product': 216, 'main': 217, 'worth': 218, 'leav': 219, 'human': 220, 'special': 221, 'excel': 222, 'togeth': 223, 'wast': 224, 'everyon': 225, 'sound': 226, 'john': 227, 'hand': 228, '1': 229, 'father': 230, 'later': 231, 'eye': 232, 'said': 233, 'view': 234, 'instead': 235, 'review': 236, 'boy': 237, 'high': 238, 'hour': 239, 'miss': 240, 'talk': 241, 'classic': 242, 'wife': 243, 'understand': 244, 'left': 245, 'care': 246, 'black': 247, 'death': 248, 'open': 249, 'murder': 250, 'write': 251, 'half': 252, 'head': 253, 'rememb': 254, 'chang': 255, 'viewer': 256, 'fight': 257, 'gener': 258, 'surpris': 259, 'includ': 260, 'short': 261, 'die': 262, 'fall': 263, 'less': 264, 'els': 265, 'entir': 266, 'piec': 267, 'involv': 268, 'pictur': 269, 'simpli': 270, 'home': 271, 'power': 272, 'top': 273, 'total': 274, 'usual': 275, 'budget': 276, 'attempt': 277, 'suppos': 278, 'releas': 279, 'hollywood': 280, 'terribl': 281, 'song': 282, 'men': 283, 'possibl': 284, 'featur': 285, 'portray': 286, 'disappoint': 287, 'poor': 288, '3': 289, 'coupl': 290, 'stupid': 291, 'camera': 292, 'dead': 293, 'wrong': 294, 'produc': 295, 'low': 296, 'video': 297, 'either': 298, 'aw': 299, 'definit': 300, 'except': 301, 'rest': 302, 'given': 303, 'absolut': 304, 'women': 305, 'lack': 306, 'word': 307, 'writer': 308, 'titl': 309, 'talent': 310, 'decid': 311, 'full': 312, 'perfect': 313, 'along': 314, 'style': 315, 'close': 316, 'truli': 317, 'school': 318, 'save': 319, 'emot': 320, 'sex': 321, 'age': 322, 'next': 323, 'bring': 324, 'mr': 325, 'case': 326, 'killer': 327, 'heart': 328, 'comment': 329, 'sort': 330, 'creat': 331, 'perhap': 332, 'came': 333, 'brother': 334, 'sever': 335, 'joke': 336, 'art': 337, 'dialogu': 338, 'game': 339, 'small': 340, 'base': 341, 'flick': 342, 'written': 343, 'sequenc': 344, 'meet': 345, 'earli': 346, 'often': 347, 'other': 348, 'mother': 349, 'develop': 350, 'humor': 351, 'actress': 352, 'consid': 353, 'dark': 354, 'guess': 355, 'amaz': 356, 'unfortun': 357, 'lost': 358, 'light': 359, 'exampl': 360, 'cinema': 361, 'drama': 362, 'white': 363, 'ye': 364, 'experi': 365, 'imagin': 366, 'mention': 367, 'stop': 368, 'natur': 369, 'forc': 370, 'manag': 371, 'felt': 372, 'present': 373, 'cut': 374, 'children': 375, 'fail': 376, 'son': 377, 'car': 378, 'qualiti': 379, 'support': 380, 'ask': 381, 'hit': 382, 'side': 383, 'voic': 384, 'extrem': 385, 'impress': 386, 'evil': 387, 'wors': 388, 'stand': 389, 'went': 390, 'certainli': 391, 'basic': 392, 'oh': 393, 'overal': 394, 'favorit': 395, 'horribl': 396, 'mysteri': 397, 'number': 398, 'type': 399, 'danc': 400, 'wait': 401, 'hero': 402, '5': 403, 'alreadi': 404, 'learn': 405, 'matter': 406, '4': 407, 'michael': 408, 'genr': 409, 'fine': 410, 'despit': 411, 'throughout': 412, 'walk': 413, 'success': 414, 'histori': 415, 'question': 416, 'zombi': 417, 'town': 418, 'relationship': 419, 'realiz': 420, 'past': 421, 'child': 422, 'daughter': 423, 'late': 424, 'b': 425, 'wish': 426, 'hate': 427, 'credit': 428, 'event': 429, 'theme': 430, 'touch': 431, 'citi': 432, 'today': 433, 'sometim': 434, 'behind': 435, 'god': 436, 'twist': 437, 'sit': 438, 'deal': 439, 'annoy': 440, 'stay': 441, 'abl': 442, 'rent': 443, 'pleas': 444, 'edit': 445, 'blood': 446, 'deserv': 447, 'comic': 448, 'anyway': 449, 'appar': 450, 'soon': 451, 'gave': 452, 'etc': 453, 'level': 454, 'slow': 455, 'chanc': 456, 'score': 457, 'bodi': 458, 'brilliant': 459, 'incred': 460, 'figur': 461, 'situat': 462, 'self': 463, 'major': 464, 'stuff': 465, 'decent': 466, 'element': 467, 'return': 468, 'dream': 469, 'obvious': 470, 'continu': 471, 'order': 472, 'pace': 473, 'ridicul': 474, 'happi': 475, 'highli': 476, 'group': 477, 'add': 478, 'thank': 479, 'ladi': 480, 'novel': 481, 'pain': 482, 'speak': 483, 'career': 484, 'shoot': 485, 'strang': 486, 'heard': 487, 'sad': 488, 'polic': 489, 'husband': 490, 'import': 491, 'break': 492, 'took': 493, 'strong': 494, 'cannot': 495, 'robert': 496, 'predict': 497, 'violenc': 498, 'hilari': 499, 'recent': 500, 'countri': 501, 'known': 502, 'particularli': 503, 'pick': 504, 'documentari': 505, 'season': 506, 'critic': 507, 'jame': 508, 'compar': 509, 'obviou': 510, 'alon': 511, 'told': 512, 'state': 513, 'rock': 514, 'visual': 515, 'offer': 516, 'exist': 517, 'theater': 518, 'opinion': 519, 'gore': 520, 'hold': 521, 'crap': 522, 'result': 523, 'realiti': 524, 'hear': 525, 'room': 526, 'clich': 527, 'effort': 528, 'thriller': 529, 'caus': 530, 'explain': 531, 'sequel': 532, 'serious': 533, 'king': 534, 'local': 535, 'ago': 536, 'none': 537, 'hell': 538, 'note': 539, 'allow': 540, 'sister': 541, 'david': 542, 'simpl': 543, 'femal': 544, 'deliv': 545, 'ok': 546, 'convinc': 547, 'class': 548, 'check': 549, 'suspens': 550, 'win': 551, 'buy': 552, 'oscar': 553, 'huge': 554, 'valu': 555, 'sexual': 556, 'scari': 557, 'cool': 558, 'similar': 559, 'excit': 560, 'apart': 561, 'exactli': 562, 'provid': 563, 'avoid': 564, 'shown': 565, 'seriou': 566, 'english': 567, 'whose': 568, 'taken': 569, 'cinematographi': 570, 'shock': 571, 'polit': 572, 'spoiler': 573, 'offic': 574, 'across': 575, 'middl': 576, 'pass': 577, 'street': 578, 'messag': 579, 'somewhat': 580, 'charm': 581, 'silli': 582, 'modern': 583, 'filmmak': 584, 'confus': 585, 'form': 586, 'tale': 587, 'singl': 588, 'jack': 589, 'mostli': 590, 'carri': 591, 'attent': 592, 'william': 593, 'sing': 594, 'five': 595, 'subject': 596, 'prove': 597, 'richard': 598, 'stage': 599, 'team': 600, 'cop': 601, 'unlik': 602, 'georg': 603, 'monster': 604, 'televis': 605, 'earth': 606, 'villain': 607, 'cover': 608, 'pay': 609, 'marri': 610, 'toward': 611, 'build': 612, 'pull': 613, 'parent': 614, 'due': 615, 'fill': 616, 'respect': 617, 'dialog': 618, 'four': 619, 'remind': 620, 'futur': 621, 'weak': 622, 'typic': 623, '7': 624, 'cheap': 625, 'intellig': 626, 'atmospher': 627, 'british': 628, '80': 629, 'clearli': 630, 'paul': 631, 'dog': 632, 'non': 633, 'knew': 634, 'fast': 635, '8': 636, 'artist': 637, 'crime': 638, 'easili': 639, 'escap': 640, 'doubt': 641, 'adult': 642, 'detail': 643, 'date': 644, 'fire': 645, 'romant': 646, 'member': 647, 'gun': 648, 'drive': 649, 'straight': 650, 'fit': 651, 'beyond': 652, 'attack': 653, 'imag': 654, 'upon': 655, 'posit': 656, 'whether': 657, 'peter': 658, 'fantast': 659, 'captur': 660, 'aspect': 661, 'appreci': 662, 'ten': 663, 'plan': 664, 'discov': 665, 'remain': 666, 'near': 667, 'period': 668, 'realist': 669, 'air': 670, 'mark': 671, 'red': 672, 'dull': 673, 'adapt': 674, 'within': 675, 'spend': 676, 'lose': 677, 'color': 678, 'materi': 679, 'chase': 680, 'mari': 681, 'storylin': 682, 'forget': 683, 'bunch': 684, 'clear': 685, 'lee': 686, 'victim': 687, 'nearli': 688, 'box': 689, 'york': 690, 'inspir': 691, 'match': 692, 'finish': 693, 'mess': 694, 'standard': 695, 'easi': 696, 'truth': 697, 'busi': 698, 'suffer': 699, 'bill': 700, 'dramat': 701, 'space': 702, 'western': 703, 'e': 704, 'list': 705, 'battl': 706, 'notic': 707, 'de': 708, 'french': 709, 'ad': 710, '9': 711, 'tom': 712, 'larg': 713, 'among': 714, 'eventu': 715, 'accept': 716, 'train': 717, 'agre': 718, 'spirit': 719, 'soundtrack': 720, 'third': 721, 'teenag': 722, 'adventur': 723, 'soldier': 724, 'sorri': 725, 'drug': 726, 'suggest': 727, 'famou': 728, 'normal': 729, 'babi': 730, 'cri': 731, 'troubl': 732, 'ultim': 733, 'contain': 734, 'certain': 735, 'cultur': 736, 'romanc': 737, 'rare': 738, 'lame': 739, 'somehow': 740, 'mix': 741, 'disney': 742, 'gone': 743, 'cartoon': 744, 'student': 745, 'reveal': 746, 'fear': 747, 'kept': 748, 'suck': 749, 'attract': 750, 'appeal': 751, 'premis': 752, 'design': 753, 'greatest': 754, 'secret': 755, 'shame': 756, 'throw': 757, 'copi': 758, 'scare': 759, 'wit': 760, 'admit': 761, 'america': 762, 'brought': 763, 'relat': 764, 'particular': 765, 'screenplay': 766, 'whatev': 767, 'pure': 768, '70': 769, 'harri': 770, 'averag': 771, 'master': 772, 'describ': 773, 'treat': 774, 'male': 775, '20': 776, 'issu': 777, 'fantasi': 778, 'warn': 779, 'inde': 780, 'background': 781, 'forward': 782, 'project': 783, 'free': 784, 'japanes': 785, 'memor': 786, 'poorli': 787, 'award': 788, 'locat': 789, 'potenti': 790, 'amus': 791, 'struggl': 792, 'magic': 793, 'weird': 794, 'societi': 795, 'okay': 796, 'doctor': 797, 'accent': 798, 'imdb': 799, 'hot': 800, 'water': 801, 'express': 802, 'dr': 803, 'alien': 804, '30': 805, 'odd': 806, 'crazi': 807, 'choic': 808, 'fiction': 809, 'studio': 810, 'becam': 811, 'control': 812, 'masterpiec': 813, 'difficult': 814, 'fli': 815, 'joe': 816, 'scream': 817, 'costum': 818, 'lover': 819, 'refer': 820, 'uniqu': 821, 'remak': 822, 'vampir': 823, 'girlfriend': 824, 'prison': 825, 'execut': 826, 'wear': 827, 'jump': 828, 'unless': 829, 'wood': 830, 'creepi': 831, 'cheesi': 832, 'superb': 833, 'otherwis': 834, 'parti': 835, 'roll': 836, 'ghost': 837, 'mad': 838, 'public': 839, 'depict': 840, 'earlier': 841, 'jane': 842, 'week': 843, 'badli': 844, 'moral': 845, 'fi': 846, 'dumb': 847, 'flaw': 848, 'grow': 849, 'deep': 850, 'sci': 851, 'maker': 852, 'cat': 853, 'connect': 854, 'older': 855, 'footag': 856, 'plenti': 857, 'bother': 858, 'outsid': 859, 'stick': 860, 'gay': 861, 'catch': 862, 'co': 863, 'plu': 864, 'popular': 865, 'equal': 866, 'social': 867, 'disturb': 868, 'quickli': 869, 'perfectli': 870, 'dress': 871, '90': 872, 'era': 873, 'mistak': 874, 'lie': 875, 'ride': 876, 'previou': 877, 'combin': 878, 'concept': 879, 'band': 880, 'answer': 881, 'rich': 882, 'surviv': 883, 'front': 884, 'christma': 885, 'sweet': 886, 'insid': 887, 'eat': 888, 'bare': 889, 'concern': 890, 'beat': 891, 'ben': 892, 'listen': 893, 'c': 894, 'serv': 895, 'term': 896, 'meant': 897, 'la': 898, 'german': 899, 'hardli': 900, 'stereotyp': 901, 'innoc': 902, 'law': 903, 'desper': 904, 'memori': 905, 'promis': 906, 'intent': 907, 'cute': 908, 'variou': 909, 'inform': 910, 'steal': 911, 'brain': 912, 'post': 913, 'tone': 914, 'island': 915, 'amount': 916, 'compani': 917, 'nuditi': 918, 'track': 919, 'store': 920, 'claim': 921, '50': 922, 'hair': 923, 'flat': 924, 'univers': 925, 'land': 926, 'kick': 927, 'danger': 928, 'fairli': 929, 'scott': 930, 'player': 931, 'crew': 932, 'plain': 933, 'step': 934, 'toni': 935, 'share': 936, 'centuri': 937, 'tast': 938, 'engag': 939, 'achiev': 940, 'cold': 941, 'travel': 942, 'rip': 943, 'suit': 944, 'record': 945, 'manner': 946, 'sadli': 947, 'tension': 948, 'wrote': 949, 'spot': 950, 'intens': 951, 'fascin': 952, 'familiar': 953, 'depth': 954, 'remark': 955, 'burn': 956, 'destroy': 957, 'histor': 958, 'sleep': 959, 'purpos': 960, 'languag': 961, 'ruin': 962, 'ignor': 963, 'delight': 964, 'italian': 965, 'unbeliev': 966, 'abil': 967, 'soul': 968, 'collect': 969, 'detect': 970, 'clever': 971, 'violent': 972, 'rape': 973, 'reach': 974, 'door': 975, 'liter': 976, 'scienc': 977, 'trash': 978, 'commun': 979, 'caught': 980, 'reveng': 981, 'creatur': 982, 'approach': 983, 'trip': 984, 'fashion': 985, 'intrigu': 986, 'skill': 987, 'introduc': 988, 'paint': 989, 'channel': 990, 'complex': 991, 'camp': 992, 'christian': 993, 'extra': 994, 'hole': 995, 'limit': 996, 'immedi': 997, 'ann': 998, 'mental': 999, 'slightli': 1000, 'million': 1001, 'mere': 1002, '6': 1003, 'comput': 1004, 'conclus': 1005, 'slasher': 1006, 'suddenli': 1007, 'imposs': 1008, 'crimin': 1009, 'teen': 1010, 'neither': 1011, 'spent': 1012, 'physic': 1013, 'nation': 1014, 'respons': 1015, 'planet': 1016, 'receiv': 1017, 'fake': 1018, 'blue': 1019, 'sick': 1020, 'bizarr': 1021, 'embarrass': 1022, 'indian': 1023, 'ring': 1024, '15': 1025, 'pop': 1026, 'drop': 1027, 'drag': 1028, 'haunt': 1029, 'pointless': 1030, 'suspect': 1031, 'search': 1032, 'edg': 1033, 'handl': 1034, 'common': 1035, 'biggest': 1036, 'arriv': 1037, 'faith': 1038, 'hurt': 1039, 'technic': 1040, 'angel': 1041, 'genuin': 1042, 'dad': 1043, 'awesom': 1044, 'solid': 1045, 'f': 1046, 'colleg': 1047, 'former': 1048, 'focu': 1049, 'van': 1050, 'count': 1051, 'tear': 1052, 'heavi': 1053, 'wall': 1054, 'rais': 1055, 'laughabl': 1056, 'younger': 1057, 'visit': 1058, 'sign': 1059, 'fair': 1060, 'excus': 1061, 'cult': 1062, 'tough': 1063, 'motion': 1064, 'key': 1065, 'super': 1066, 'desir': 1067, 'addit': 1068, 'stun': 1069, 'exploit': 1070, 'cloth': 1071, 'smith': 1072, 'tortur': 1073, 'race': 1074, 'davi': 1075, 'author': 1076, 'cross': 1077, 'jim': 1078, 'consist': 1079, 'minor': 1080, 'compel': 1081, 'focus': 1082, 'commit': 1083, 'pathet': 1084, 'chemistri': 1085, 'park': 1086, 'obsess': 1087, 'frank': 1088, 'tradit': 1089, 'grade': 1090, 'asid': 1091, '60': 1092, 'brutal': 1093, 'somewher': 1094, 'steve': 1095, 'u': 1096, 'opportun': 1097, 'rule': 1098, 'grant': 1099, 'explor': 1100, 'depress': 1101, 'besid': 1102, 'honest': 1103, 'anti': 1104, 'dub': 1105, 'trailer': 1106, 'intend': 1107, 'bar': 1108, 'scientist': 1109, 'west': 1110, 'regard': 1111, 'longer': 1112, 'judg': 1113, 'decad': 1114, 'silent': 1115, 'armi': 1116, 'creativ': 1117, 'wild': 1118, 'g': 1119, 'stewart': 1120, 'south': 1121, 'draw': 1122, 'road': 1123, 'govern': 1124, 'boss': 1125, 'ex': 1126, 'practic': 1127, 'gang': 1128, 'surprisingli': 1129, 'motiv': 1130, 'festiv': 1131, 'club': 1132, 'london': 1133, 'redeem': 1134, 'page': 1135, 'green': 1136, 'display': 1137, 'militari': 1138, 'aliv': 1139, 'machin': 1140, 'idiot': 1141, 'repeat': 1142, 'thrill': 1143, 'yeah': 1144, 'folk': 1145, 'nobodi': 1146, '100': 1147, '40': 1148, 'garbag': 1149, 'journey': 1150, 'ground': 1151, 'tire': 1152, 'smile': 1153, 'mood': 1154, 'bought': 1155, 'cost': 1156, 'stone': 1157, 'sam': 1158, 'mouth': 1159, 'noir': 1160, 'agent': 1161, 'terrif': 1162, 'requir': 1163, 'utterli': 1164, 'sexi': 1165, 'area': 1166, 'honestli': 1167, 'report': 1168, 'geniu': 1169, 'enter': 1170, 'glad': 1171, 'humour': 1172, 'investig': 1173, 'serial': 1174, 'narr': 1175, 'passion': 1176, 'occasion': 1177, 'climax': 1178, 'marriag': 1179, 'industri': 1180, 'studi': 1181, 'nowher': 1182, 'demon': 1183, 'center': 1184, 'charli': 1185, 'ship': 1186, 'loos': 1187, 'bear': 1188, 'hors': 1189, 'hang': 1190, 'wow': 1191, 'graphic': 1192, 'admir': 1193, 'giant': 1194, 'send': 1195, 'loud': 1196, 'damn': 1197, 'subtl': 1198, 'nake': 1199, 'rel': 1200, 'profession': 1201, 'blow': 1202, 'bottom': 1203, 'insult': 1204, 'batman': 1205, 'doubl': 1206, 'boyfriend': 1207, 'kelli': 1208, 'r': 1209, 'initi': 1210, 'frame': 1211, 'opera': 1212, 'gem': 1213, 'challeng': 1214, 'drawn': 1215, 'affect': 1216, 'cinemat': 1217, 'church': 1218, 'evid': 1219, 'seek': 1220, 'j': 1221, 'fulli': 1222, 'l': 1223, 'nightmar': 1224, 'arm': 1225, 'essenti': 1226, 'conflict': 1227, 'christoph': 1228, 'wind': 1229, 'henri': 1230, 'grace': 1231, 'assum': 1232, 'narrat': 1233, 'witch': 1234, 'push': 1235, 'hunt': 1236, 'wise': 1237, 'chri': 1238, 'repres': 1239, 'month': 1240, 'nomin': 1241, 'avail': 1242, 'sceneri': 1243, 'hide': 1244, 'affair': 1245, 'smart': 1246, 'thu': 1247, 'bond': 1248, 'justic': 1249, 'interview': 1250, 'flashback': 1251, 'outstand': 1252, 'satisfi': 1253, 'constantli': 1254, 'presenc': 1255, 'bed': 1256, 'central': 1257, 'content': 1258, 'iron': 1259, 'sell': 1260, 'everybodi': 1261, 'gag': 1262, 'hotel': 1263, 'slowli': 1264, 'hire': 1265, 'system': 1266, 'hey': 1267, 'individu': 1268, 'thrown': 1269, 'adam': 1270, 'charl': 1271, 'mediocr': 1272, 'allen': 1273, 'jone': 1274, 'billi': 1275, 'lesson': 1276, 'ray': 1277, 'photographi': 1278, 'cameo': 1279, 'fellow': 1280, 'pari': 1281, 'strike': 1282, 'rise': 1283, 'absurd': 1284, 'independ': 1285, 'brief': 1286, 'neg': 1287, 'phone': 1288, 'impact': 1289, 'born': 1290, 'model': 1291, 'ill': 1292, 'fresh': 1293, 'angl': 1294, 'spoil': 1295, 'abus': 1296, 'likabl': 1297, 'hill': 1298, 'discuss': 1299, 'ahead': 1300, 'sight': 1301, 'photograph': 1302, 'sent': 1303, 'shine': 1304, 'occur': 1305, 'logic': 1306, 'blame': 1307, 'mainli': 1308, 'bruce': 1309, 'forev': 1310, 'skip': 1311, 'commerci': 1312, 'segment': 1313, 'held': 1314, 'surround': 1315, 'teacher': 1316, 'blond': 1317, 'zero': 1318, 'trap': 1319, 'satir': 1320, 'summer': 1321, 'resembl': 1322, 'fool': 1323, 'ball': 1324, 'queen': 1325, 'six': 1326, 'twice': 1327, 'tragedi': 1328, 'sub': 1329, 'pack': 1330, 'reaction': 1331, 'bomb': 1332, 'will': 1333, 'hospit': 1334, 'protagonist': 1335, 'mile': 1336, 'sport': 1337, 'mom': 1338, 'jerri': 1339, 'vote': 1340, 'drink': 1341, 'trust': 1342, 'encount': 1343, 'plane': 1344, 'program': 1345, 'station': 1346, 'al': 1347, 'current': 1348, 'choos': 1349, 'celebr': 1350, 'martin': 1351, 'join': 1352, 'field': 1353, 'lord': 1354, 'tragic': 1355, 'round': 1356, 'favourit': 1357, 'vision': 1358, 'robot': 1359, 'jean': 1360, 'tie': 1361, 'arthur': 1362, 'random': 1363, 'fortun': 1364, 'roger': 1365, 'psycholog': 1366, 'dread': 1367, 'intern': 1368, 'nonsens': 1369, 'epic': 1370, 'improv': 1371, 'prefer': 1372, 'formula': 1373, 'legend': 1374, 'highlight': 1375, 'pleasur': 1376, 'tape': 1377, 'dollar': 1378, '11': 1379, 'thin': 1380, 'gorgeou': 1381, 'object': 1382, 'fox': 1383, 'wide': 1384, 'porn': 1385, 'influenc': 1386, 'ugli': 1387, 'buddi': 1388, 'prepar': 1389, 'nasti': 1390, 'ii': 1391, 'progress': 1392, 'supposedli': 1393, 'reflect': 1394, 'warm': 1395, 'worthi': 1396, 'youth': 1397, 'length': 1398, 'unusu': 1399, 'latter': 1400, 'crash': 1401, 'seven': 1402, 'shop': 1403, 'childhood': 1404, 'superior': 1405, 'remot': 1406, 'theatr': 1407, 'funniest': 1408, 'disgust': 1409, 'pilot': 1410, 'paid': 1411, 'trick': 1412, 'fell': 1413, 'convers': 1414, 'castl': 1415, 'gangster': 1416, 'disast': 1417, 'rob': 1418, 'establish': 1419, 'heaven': 1420, 'mine': 1421, 'disappear': 1422, 'ident': 1423, 'suicid': 1424, 'decis': 1425, 'mask': 1426, 'heroin': 1427, 'tend': 1428, 'forgotten': 1429, 'singer': 1430, 'partner': 1431, 'brian': 1432, 'recogn': 1433, 'desert': 1434, 'alan': 1435, 'stuck': 1436, 'ms': 1437, 'sky': 1438, 'thoroughli': 1439, 'p': 1440, 'accur': 1441, 'replac': 1442, 'market': 1443, 'danni': 1444, 'seemingli': 1445, 'uncl': 1446, 'commentari': 1447, 'clue': 1448, 'eddi': 1449, 'andi': 1450, 'devil': 1451, 'jackson': 1452, 'pair': 1453, 'that': 1454, 'therefor': 1455, 'refus': 1456, 'fate': 1457, 'river': 1458, 'unit': 1459, 'fault': 1460, 'ed': 1461, 'accid': 1462, 'tune': 1463, 'afraid': 1464, 'russian': 1465, 'hidden': 1466, 'stephen': 1467, 'clean': 1468, 'quick': 1469, 'readi': 1470, 'convey': 1471, 'irrit': 1472, 'instanc': 1473, 'captain': 1474, 'test': 1475, 'european': 1476, 'daniel': 1477, 'frustrat': 1478, 'insan': 1479, '1950': 1480, 'rescu': 1481, 'wed': 1482, 'chines': 1483, 'food': 1484, 'angri': 1485, 'lock': 1486, 'dirti': 1487, 'joy': 1488, 'steven': 1489, 'price': 1490, 'bland': 1491, 'cage': 1492, 'rang': 1493, 'anymor': 1494, 'wooden': 1495, 'rush': 1496, 'n': 1497, 'jason': 1498, 'news': 1499, 'twenti': 1500, 'led': 1501, 'martial': 1502, '12': 1503, 'worri': 1504, 'board': 1505, 'symbol': 1506, 'cgi': 1507, 'transform': 1508, 'hunter': 1509, 'invent': 1510, 'sentiment': 1511, 'x': 1512, 'piti': 1513, 'johnni': 1514, 'onto': 1515, 'attitud': 1516, 'explan': 1517, 'process': 1518, 'owner': 1519, 'awar': 1520, 'aim': 1521, 'favor': 1522, 'floor': 1523, 'target': 1524, 'necessari': 1525, 'energi': 1526, 'opposit': 1527, 'religi': 1528, 'window': 1529, 'insight': 1530, 'chick': 1531, 'blind': 1532, 'movement': 1533, 'deepli': 1534, 'mountain': 1535, 'research': 1536, 'possess': 1537, 'comparison': 1538, 'grand': 1539, 'rain': 1540, 'whatsoev': 1541, 'comed': 1542, 'began': 1543, 'mid': 1544, 'shadow': 1545, 'bank': 1546, 'parodi': 1547, 'princ': 1548, 'credibl': 1549, 'pre': 1550, 'friendship': 1551, 'weapon': 1552, 'taylor': 1553, 'dougla': 1554, 'teach': 1555, 'flesh': 1556, 'bloodi': 1557, 'terror': 1558, 'protect': 1559, 'hint': 1560, 'marvel': 1561, 'superman': 1562, 'leader': 1563, 'watchabl': 1564, 'accord': 1565, 'anybodi': 1566, 'drunk': 1567, 'load': 1568, 'freddi': 1569, 'brown': 1570, 'appropri': 1571, 'tim': 1572, 'seat': 1573, 'hitler': 1574, 'jeff': 1575, 'villag': 1576, 'unknown': 1577, 'charg': 1578, 'keaton': 1579, 'knock': 1580, 'england': 1581, 'media': 1582, 'unnecessari': 1583, 'empti': 1584, 'enemi': 1585, 'strength': 1586, 'wave': 1587, 'buck': 1588, 'perspect': 1589, 'craft': 1590, 'utter': 1591, 'dare': 1592, 'ford': 1593, 'contrast': 1594, 'kiss': 1595, 'correct': 1596, 'nativ': 1597, 'distract': 1598, 'nazi': 1599, 'magnific': 1600, 'soap': 1601, 'chill': 1602, 'knowledg': 1603, 'speed': 1604, 'anywher': 1605, 'breath': 1606, 'fred': 1607, '1980': 1608, 'mission': 1609, 'ice': 1610, 'moon': 1611, 'crowd': 1612, 'jr': 1613, 'joan': 1614, 'frighten': 1615, '000': 1616, 'soft': 1617, 'kate': 1618, 'hundr': 1619, 'dan': 1620, 'dick': 1621, 'nick': 1622, 'radio': 1623, 'somebodi': 1624, 'dozen': 1625, 'simon': 1626, 'loss': 1627, 'thousand': 1628, 'andrew': 1629, 'academi': 1630, 'shakespear': 1631, 'root': 1632, 'quot': 1633, 'sum': 1634, 'account': 1635, 'vehicl': 1636, 'leg': 1637, 'behavior': 1638, 'convent': 1639, '1970': 1640, 'regular': 1641, 'gold': 1642, 'worker': 1643, 'compet': 1644, 'pretenti': 1645, 'demand': 1646, 'privat': 1647, 'notabl': 1648, 'explos': 1649, 'candi': 1650, 'interpret': 1651, 'japan': 1652, 'lynch': 1653, 'stretch': 1654, 'constant': 1655, 'tarzan': 1656, 'debut': 1657, 'revolv': 1658, 'sea': 1659, 'prais': 1660, 'spi': 1661, 'translat': 1662, 'technolog': 1663, 'ass': 1664, 'failur': 1665, 'quiet': 1666, 'sat': 1667, 'jesu': 1668, 'franc': 1669, 'threaten': 1670, 'higher': 1671, 'aid': 1672, 'met': 1673, 'punch': 1674, 'kevin': 1675, 'toy': 1676, 'vh': 1677, 'abandon': 1678, 'interact': 1679, 'mike': 1680, 'separ': 1681, 'command': 1682, 'confront': 1683, 'bet': 1684, 'site': 1685, 'stunt': 1686, 'techniqu': 1687, 'gotten': 1688, 'servic': 1689, 'recal': 1690, 'belong': 1691, 'foot': 1692, 'cabl': 1693, 'bug': 1694, 'freak': 1695, 'capabl': 1696, 'fu': 1697, 'jimmi': 1698, 'african': 1699, 'bright': 1700, 'clark': 1701, 'stock': 1702, 'succeed': 1703, 'boat': 1704, 'presid': 1705, 'fat': 1706, 'structur': 1707, 'gene': 1708, 'spanish': 1709, 'kidnap': 1710, 'paper': 1711, 'belief': 1712, 'factor': 1713, 'whilst': 1714, 'realism': 1715, 'witti': 1716, 'bob': 1717, 'complic': 1718, 'educ': 1719, 'realis': 1720, 'tree': 1721, 'attend': 1722, 'assist': 1723, 'broken': 1724, 'finest': 1725, 'santa': 1726, 'determin': 1727, 'smoke': 1728, 'observ': 1729, 'up': 1730, 'depart': 1731, 'v': 1732, 'oper': 1733, 'lewi': 1734, 'routin': 1735, 'hat': 1736, 'fame': 1737, 'domin': 1738, 'rubbish': 1739, 'foreign': 1740, 'morgan': 1741, 'advanc': 1742, 'safe': 1743, 'kinda': 1744, 'hook': 1745, 'lone': 1746, 'numer': 1747, 'rank': 1748, 'shape': 1749, 'washington': 1750, 'shallow': 1751, 'werewolf': 1752, 'rose': 1753, 'vs': 1754, 'civil': 1755, 'gari': 1756, 'morn': 1757, 'accomplish': 1758, 'ordinari': 1759, 'winner': 1760, 'kong': 1761, 'whenev': 1762, 'peac': 1763, 'virtual': 1764, 'grab': 1765, 'h': 1766, 'offens': 1767, 'luck': 1768, 'patient': 1769, 'bigger': 1770, 'unfunni': 1771, 'activ': 1772, 'complain': 1773, 'welcom': 1774, 'contriv': 1775, 'dimension': 1776, 'con': 1777, 'pretend': 1778, 'trek': 1779, 'lesbian': 1780, 'cain': 1781, 'dri': 1782, 'eric': 1783, 'flash': 1784, 'wake': 1785, 'code': 1786, 'guard': 1787, 'albert': 1788, 'manipul': 1789, 'corrupt': 1790, 'statu': 1791, 'dancer': 1792, 'signific': 1793, 'speech': 1794, 'sourc': 1795, 'awkward': 1796, 'gain': 1797, 'context': 1798, '13': 1799, 'corni': 1800, 'anthoni': 1801, 'sean': 1802, 'clip': 1803, 'psycho': 1804, 'curiou': 1805, 'reli': 1806, 'religion': 1807, 'theatric': 1808, 'advic': 1809, 'w': 1810, 'priest': 1811, 'addict': 1812, 'flow': 1813, 'asian': 1814, 'howard': 1815, 'secur': 1816, 'specif': 1817, 'jennif': 1818, 'skin': 1819, 'organ': 1820, 'comfort': 1821, 'core': 1822, 'golden': 1823, 'promot': 1824, 'luke': 1825, 'cheat': 1826, 'lucki': 1827, 'cash': 1828, 'associ': 1829, 'dislik': 1830, 'lower': 1831, 'balanc': 1832, 'regret': 1833, 'degre': 1834, 'devic': 1835, 'frequent': 1836, 'frankli': 1837, 'contribut': 1838, 'spell': 1839, 'wing': 1840, 'forgiv': 1841, 'lake': 1842, 'print': 1843, 'sake': 1844, 'thoma': 1845, 'mass': 1846, 'betti': 1847, 'crack': 1848, 'unexpect': 1849, 'gordon': 1850, 'unfold': 1851, 'construct': 1852, 'depend': 1853, 'amateur': 1854, 'categori': 1855, 'grown': 1856, 'invit': 1857, 'grew': 1858, 'intellectu': 1859, 'condit': 1860, 'matur': 1861, 'honor': 1862, 'anna': 1863, 'walter': 1864, 'veteran': 1865, 'spectacular': 1866, 'sole': 1867, 'sudden': 1868, 'mirror': 1869, 'demonstr': 1870, 'card': 1871, 'meanwhil': 1872, 'freedom': 1873, 'liner': 1874, 'robin': 1875, 'experienc': 1876, 'grip': 1877, 'overli': 1878, 'gift': 1879, 'crappi': 1880, 'brilliantli': 1881, 'colour': 1882, 'section': 1883, 'drew': 1884, 'theori': 1885, 'circumst': 1886, 'oliv': 1887, 'sheriff': 1888, 'unabl': 1889, 'subtitl': 1890, 'sheer': 1891, 'path': 1892, 'matt': 1893, 'laughter': 1894, 'cook': 1895, 'parker': 1896, 'altern': 1897, 'pile': 1898, 'relief': 1899, 'defin': 1900, 'treatment': 1901, 'hall': 1902, 'accident': 1903, 'lawyer': 1904, 'wander': 1905, 'sinatra': 1906, 'dragon': 1907, 'captiv': 1908, 'hank': 1909, 'gratuit': 1910, 'halloween': 1911, 'moor': 1912, 'unintent': 1913, 'k': 1914, 'kung': 1915, 'jacki': 1916, 'cowboy': 1917, 'broadway': 1918, 'wayn': 1919, 'wound': 1920, 'barbara': 1921, 'statement': 1922, 'canadian': 1923, 'winter': 1924, 'surreal': 1925, 'spoof': 1926, 'fish': 1927, 'treasur': 1928, 'fare': 1929, 'cheer': 1930, 'gonna': 1931, 'compos': 1932, 'emerg': 1933, 'victor': 1934, 'woodi': 1935, 'unrealist': 1936, 'sensit': 1937, 'driven': 1938, 'sympathet': 1939, 'neighbor': 1940, 'ran': 1941, 'overlook': 1942, 'menac': 1943, 'authent': 1944, 'glass': 1945, 'expos': 1946, 'topic': 1947, 'chief': 1948, 'handsom': 1949, 'michel': 1950, 'gross': 1951, 'ancient': 1952, 'stranger': 1953, 'contemporari': 1954, 'pleasant': 1955, 'russel': 1956, 'comedian': 1957, 'feet': 1958, 'built': 1959, 'nevertheless': 1960, 'network': 1961, 'cinderella': 1962, 'underr': 1963, 'consider': 1964, 'blockbust': 1965, 'earn': 1966, 'miser': 1967, 'endless': 1968, 'letter': 1969, 'gori': 1970, 'brook': 1971, 'solv': 1972, 'switch': 1973, 'convict': 1974, 'edward': 1975, 'joseph': 1976, 'virgin': 1977, 'bullet': 1978, 'victoria': 1979, 'scenario': 1980, 'cynic': 1981, 'chosen': 1982, 'scale': 1983, '0': 1984, 'alex': 1985, 'sword': 1986, 'gut': 1987, 'outrag': 1988, 'curs': 1989, 'com': 1990, 'screenwrit': 1991, 'uk': 1992, 'substanc': 1993, 'wrap': 1994, 'driver': 1995, 'proper': 1996, 'monkey': 1997, 'juli': 1998, 'court': 1999, 'remov': 2000, 'indic': 2001, 'par': 2002, 'bird': 2003, 'consequ': 2004, 'grave': 2005, 'advertis': 2006, 'roy': 2007, 'nanci': 2008, 'naiv': 2009, 'rental': 2010, 'loser': 2011, 'inevit': 2012, 'slap': 2013, 'le': 2014, 'germani': 2015, 'invis': 2016, 'bridg': 2017, 'fatal': 2018, 'brave': 2019, 'anger': 2020, 'provok': 2021, 'loui': 2022, 'ador': 2023, 'footbal': 2024, 'anderson': 2025, 'alcohol': 2026, 'chan': 2027, 'willi': 2028, 'professor': 2029, 'stumbl': 2030, 'ryan': 2031, '1930': 2032, 'bat': 2033, 'assassin': 2034, 'patrick': 2035, 'sharp': 2036, 'australian': 2037, 'refresh': 2038, 'cell': 2039, 'deni': 2040, 'amateurish': 2041, 'trilog': 2042, 'heck': 2043, 'ape': 2044, 'eight': 2045, 'saturday': 2046, 'lousi': 2047, 'liber': 2048, 'strongli': 2049, 'sin': 2050, 'vagu': 2051, 'justifi': 2052, 'resid': 2053, 'san': 2054, 'defeat': 2055, 'sympathi': 2056, 'mini': 2057, 'creator': 2058, 'reput': 2059, 'indi': 2060, 'terrifi': 2061, 'tediou': 2062, 'endur': 2063, 'task': 2064, 'prevent': 2065, 'expert': 2066, 'tabl': 2067, 'rival': 2068, 'offend': 2069, 'che': 2070, 'basebal': 2071, 'employ': 2072, 'imit': 2073, 'trial': 2074, 'fairi': 2075, 'beach': 2076, 'pitch': 2077, 'dig': 2078, 'europ': 2079, 'complaint': 2080, 'max': 2081, 'weekend': 2082, 'purchas': 2083, 'format': 2084, 'risk': 2085, 'murphi': 2086, 'nois': 2087, 'hype': 2088, 'titan': 2089, 'harsh': 2090, 'tini': 2091, 'bite': 2092, 'reminisc': 2093, 'glimps': 2094, 'powel': 2095, 'asleep': 2096, 'till': 2097, 'north': 2098, 'strip': 2099, 'prime': 2100, 'fals': 2101, '14': 2102, 'descript': 2103, 'texa': 2104, 'revel': 2105, 'africa': 2106, 'destruct': 2107, 'arrest': 2108, 'spin': 2109, 'surfac': 2110, 'semi': 2111, 'uninterest': 2112, 'sitcom': 2113, 'inner': 2114, 'excess': 2115, 'controversi': 2116, 'maintain': 2117, 'dinosaur': 2118, 'makeup': 2119, 'twin': 2120, 'hitchcock': 2121, 'massiv': 2122, 'argu': 2123, 'stare': 2124, 'melodrama': 2125, 'reject': 2126, 'ideal': 2127, 'ludicr': 2128, 'insist': 2129, 'expens': 2130, 'kim': 2131, 'subplot': 2132, 'atroci': 2133, 'press': 2134, 'supernatur': 2135, 'nail': 2136, 'columbo': 2137, 'erot': 2138, 'ala': 2139, 'ga': 2140, 'forest': 2141, 'host': 2142, 'presum': 2143, 'notch': 2144, 'identifi': 2145, 'cant': 2146, 'dude': 2147, 'closer': 2148, 'character': 2149, 'crude': 2150, 'guest': 2151, 'method': 2152, 'plagu': 2153, 'forgett': 2154, 'ear': 2155, 'princess': 2156, 'lion': 2157, 'border': 2158, 'landscap': 2159, 'foster': 2160, 'beast': 2161, 'accus': 2162, 'bound': 2163, 'pacino': 2164, 'storytel': 2165, 'damag': 2166, 'aunt': 2167, 'jungl': 2168, 'birth': 2169, 'urban': 2170, 'previous': 2171, 'propaganda': 2172, 'nude': 2173, 'guid': 2174, 'doll': 2175, 'thirti': 2176, 'jess': 2177, 'emma': 2178, 'chose': 2179, 'warrior': 2180, 'mate': 2181, 'whoever': 2182, 'mainstream': 2183, '25': 2184, 'pet': 2185, 'merit': 2186, 'gritti': 2187, 'exact': 2188, 'friday': 2189, 'cooper': 2190, 'upset': 2191, 'latest': 2192, 'size': 2193, 'deadli': 2194, 'poster': 2195, 'settl': 2196, 'popul': 2197, 'rough': 2198, '1990': 2199, 'corps': 2200, 'citizen': 2201, 'contest': 2202, 'contact': 2203, 'warner': 2204, 'sun': 2205, 'ton': 2206, 'buff': 2207, 'wilson': 2208, 'blend': 2209, 'environ': 2210, 'widow': 2211, 'overcom': 2212, 'alic': 2213, 'metal': 2214, 'select': 2215, 'bu': 2216, 'mgm': 2217, 'pitt': 2218, 'rat': 2219, 'guilti': 2220, 'particip': 2221, 'revolut': 2222, 'lift': 2223, 'ted': 2224, 'link': 2225, 'accompani': 2226, 'prostitut': 2227, '1960': 2228, 'exagger': 2229, 'johnson': 2230, 'corner': 2231, 'matrix': 2232, 'afternoon': 2233, 'moron': 2234, 'corpor': 2235, 'hood': 2236, 'friendli': 2237, 'sincer': 2238, 'multipl': 2239, 'leagu': 2240, 'clair': 2241, 'doom': 2242, 'instal': 2243, 'holm': 2244, 'aka': 2245, 'junk': 2246, 'string': 2247, 'sunday': 2248, 'advis': 2249, 'hip': 2250, 'examin': 2251, 'grim': 2252, 'defend': 2253, 'blah': 2254, 'lugosi': 2255, 'campi': 2256, 'irish': 2257, 'shake': 2258, 'pro': 2259, 'icon': 2260, 'tight': 2261, 'confid': 2262, 'shut': 2263, 'varieti': 2264, 'rachel': 2265, 'medic': 2266, 'attach': 2267, 'goal': 2268, 'denni': 2269, 'jaw': 2270, 'sullivan': 2271, 'directli': 2272, 'mexican': 2273, 'vietnam': 2274, 'prior': 2275, 'sentenc': 2276, 'dean': 2277, 'breast': 2278, 'courag': 2279, 'legendari': 2280, 'sarah': 2281, 'bourn': 2282, 'truck': 2283, 'terrorist': 2284, 'duke': 2285, 'behav': 2286, 'un': 2287, 'split': 2288, 'donald': 2289, 'proceed': 2290, 'entri': 2291, 'nose': 2292, 'hong': 2293, 'yell': 2294, 'forth': 2295, 'crush': 2296, 'borrow': 2297, 'unconvinc': 2298, 'lifetim': 2299, 'confess': 2300, 'concentr': 2301, 'gather': 2302, 'everywher': 2303, 'stolen': 2304, 'buri': 2305, 'jerk': 2306, 'swim': 2307, 'lip': 2308, 'deliveri': 2309, 'california': 2310, 'spite': 2311, 'julia': 2312, 'pan': 2313, 'turkey': 2314, 'hoffman': 2315, 'reward': 2316, 'quest': 2317, 'downright': 2318, 'proud': 2319, 'offici': 2320, 'china': 2321, 'freeman': 2322, 'flight': 2323, 'worthwhil': 2324, 'betray': 2325, 'lazi': 2326, 'sink': 2327, 'jon': 2328, 'fade': 2329, 'notori': 2330, 'sir': 2331, 'inept': 2332, 'jail': 2333, 'encourag': 2334, 'fabul': 2335, 'branagh': 2336, 'teeth': 2337, 'shower': 2338, 'lisa': 2339, 'storm': 2340, 'bag': 2341, 'cousin': 2342, 'bell': 2343, 'imageri': 2344, 'relev': 2345, 'survivor': 2346, 'retard': 2347, 'susan': 2348, 'quirki': 2349, 'finger': 2350, 'stab': 2351, 'alright': 2352, 'shark': 2353, 'hugh': 2354, 'facial': 2355, 'tremend': 2356, 'mexico': 2357, 'toler': 2358, 'bride': 2359, 'trade': 2360, 'summari': 2361, 'von': 2362, 'hyster': 2363, 'bitter': 2364, 'blown': 2365, 'pose': 2366, 'ha': 2367, 'bone': 2368, 'ron': 2369, 'scheme': 2370, 'christ': 2371, 'cruel': 2372, 'address': 2373, 'afterward': 2374, 'larri': 2375, 'ned': 2376, 'thumb': 2377, 'swear': 2378, 'tour': 2379, 'screw': 2380, 'feed': 2381, 'pursu': 2382, 'distinct': 2383, 'beg': 2384, 'traci': 2385, 'snake': 2386, 'chair': 2387, 'mechan': 2388, 'obscur': 2389, 'stomach': 2390, 'occas': 2391, 'photo': 2392, 'raw': 2393, 'cabin': 2394, 'sidney': 2395, 'render': 2396, 'southern': 2397, 'gruesom': 2398, 'hardi': 2399, 'holiday': 2400, 'necessarili': 2401, 'heavili': 2402, 'resist': 2403, 'argument': 2404, 'chain': 2405, 'racist': 2406, 'satan': 2407, 'understood': 2408, 'philip': 2409, 'indulg': 2410, 'india': 2411, 'forgot': 2412, 'pregnant': 2413, 'belov': 2414, 'fourth': 2415, 'outfit': 2416, 'obnoxi': 2417, 'lay': 2418, 'tongu': 2419, 'stalk': 2420, 'integr': 2421, 'midnight': 2422, 'carol': 2423, 'slapstick': 2424, 'ticket': 2425, 'inhabit': 2426, 'magazin': 2427, 'garden': 2428, 'deeper': 2429, 'restor': 2430, '17': 2431, 'shoe': 2432, 'devot': 2433, 'incid': 2434, 'brad': 2435, 'lincoln': 2436, 'guarante': 2437, 'anticip': 2438, 'elizabeth': 2439, 'disbelief': 2440, 'underground': 2441, 'sandler': 2442, 'maria': 2443, 'benefit': 2444, 'lili': 2445, 'divorc': 2446, 'greater': 2447, 'explod': 2448, 'creation': 2449, 'princip': 2450, 'amazingli': 2451, 'capit': 2452, 'mildli': 2453, 'bbc': 2454, 'slave': 2455, 'cring': 2456, 'halfway': 2457, 'lesli': 2458, 'funnier': 2459, 'extraordinari': 2460, 'introduct': 2461, 'transfer': 2462, 'wreck': 2463, 'tap': 2464, 'punish': 2465, 'overwhelm': 2466, 'extent': 2467, 'advantag': 2468, 'text': 2469, 'enhanc': 2470, 'deliber': 2471, 'dynam': 2472, 'error': 2473, 'horrif': 2474, 'jessica': 2475, 'east': 2476, 'lane': 2477, 'lo': 2478, 'preview': 2479, 'plant': 2480, 'vincent': 2481, 'basi': 2482, '2000': 2483, 'ensu': 2484, 'sophist': 2485, 'miller': 2486, 'homosexu': 2487, 'appli': 2488, 'vacat': 2489, 'miscast': 2490, 'spoken': 2491, 'sleazi': 2492, 'reed': 2493, 'elev': 2494, 'extend': 2495, 'measur': 2496, 'uncomfort': 2497, 'via': 2498, 'mansion': 2499, 'steel': 2500, 'bollywood': 2501, 'breathtak': 2502, 'dentist': 2503, 'melt': 2504, 'hippi': 2505, 'alter': 2506, 'conceiv': 2507, 'assign': 2508, 'blair': 2509, 'beer': 2510, 'fix': 2511, 'savag': 2512, 'overact': 2513, 'goofi': 2514, 'daili': 2515, 'mous': 2516, 'stanley': 2517, 'cathol': 2518, 'everyday': 2519, 'subsequ': 2520, 'succe': 2521, 'properli': 2522, 'sacrific': 2523, 'burt': 2524, 'carpent': 2525, 'nowaday': 2526, 'oppos': 2527, 'inspector': 2528, 'block': 2529, 'laura': 2530, 'neck': 2531, 'massacr': 2532, 'circl': 2533, 'concert': 2534, 'access': 2535, 'christi': 2536, 'pool': 2537, 'fallen': 2538, 'mob': 2539, 'lesser': 2540, 'portrait': 2541, 'grey': 2542, 'fay': 2543, 'seagal': 2544, 'react': 2545, 'relax': 2546, 'competit': 2547, 'jake': 2548, 'isol': 2549, 'chees': 2550, 'sinist': 2551, 'jewish': 2552, 'usa': 2553, 'ironi': 2554, 'stink': 2555, '2006': 2556, 'immens': 2557, 'spiritu': 2558, 'lyric': 2559, 'chop': 2560, 'creep': 2561, 'suitabl': 2562, 'nine': 2563, 'appal': 2564, 'nonetheless': 2565, 'user': 2566, 'franchis': 2567, 'showcas': 2568, 'navi': 2569, 'reduc': 2570, 'rage': 2571, 'luci': 2572, 'spring': 2573, 'adopt': 2574, 'retir': 2575, 'sold': 2576, 'nut': 2577, 'shirt': 2578, 'needless': 2579, 'nurs': 2580, 'asham': 2581, 'uninspir': 2582, 'bulli': 2583, 'per': 2584, 'zone': 2585, 'stanwyck': 2586, 'jay': 2587, 'digit': 2588, 'bath': 2589, 'upper': 2590, 'amongst': 2591, 'illustr': 2592, 'laid': 2593, 'oddli': 2594, '1940': 2595, '2001': 2596, 'broadcast': 2597, 'sutherland': 2598, 'stylish': 2599, 'baker': 2600, 'throat': 2601, 'fulfil': 2602, 'aspir': 2603, 'brando': 2604, 'disguis': 2605, 'neighborhood': 2606, 'thief': 2607, 'impli': 2608, 'pound': 2609, 'nobl': 2610, 'wwii': 2611, 'endear': 2612, 'pride': 2613, '18': 2614, 'wanna': 2615, 'em': 2616, 'shift': 2617, 'tens': 2618, 'cinematograph': 2619, 'dawn': 2620, 'bett': 2621, 'shoulder': 2622, 'rochest': 2623, 'diseas': 2624, '16': 2625, 'coher': 2626, 'dinner': 2627, 'albeit': 2628, 'bo': 2629, 'distribut': 2630, 'prop': 2631, 'forti': 2632, 'silenc': 2633, 'contract': 2634, 'snow': 2635, 'shout': 2636, 'function': 2637, 'rebel': 2638, 'poignant': 2639, 'wash': 2640, 'knife': 2641, 'surf': 2642, 'matthau': 2643, 'heat': 2644, 'instinct': 2645, 'derek': 2646, 'reunion': 2647, 'eeri': 2648, 'elvira': 2649, 'mindless': 2650, 'widmark': 2651, 'chuck': 2652, 'internet': 2653, 'proof': 2654, 'horrend': 2655, 'cannib': 2656, 'cancel': 2657, 'henc': 2658, 'silver': 2659, 'duti': 2660, 'height': 2661, 'alik': 2662, 'etern': 2663, 'absorb': 2664, 'premier': 2665, 'repetit': 2666, 'innov': 2667, 'torn': 2668, 'neat': 2669, 'elvi': 2670, 'incoher': 2671, 'greatli': 2672, 'spielberg': 2673, 'pie': 2674, 'glori': 2675, 'musician': 2676, 'mill': 2677, 'racism': 2678, 'bang': 2679, 'precis': 2680, 'burton': 2681, 'blank': 2682, 'infam': 2683, 'britain': 2684, 'lovabl': 2685, 'homag': 2686, 'itali': 2687, 'trite': 2688, 'diamond': 2689, 'wealthi': 2690, 'crisi': 2691, 'announc': 2692, 'fbi': 2693, 'nelson': 2694, 'redempt': 2695, 'horrifi': 2696, 'happili': 2697, 'chaplin': 2698, 'parallel': 2699, 'ensembl': 2700, 'flop': 2701, 'dedic': 2702, 'pat': 2703, 'hammer': 2704, 'streisand': 2705, 'resolut': 2706, 'wilder': 2707, 'helen': 2708, 'conclud': 2709, 'carter': 2710, 'oil': 2711, 'factori': 2712, 'st': 2713, 'broke': 2714, 'triumph': 2715, 'plastic': 2716, 'disagre': 2717, 'cube': 2718, 'mar': 2719, 'fighter': 2720, 'own': 2721, 'vega': 2722, 'rocket': 2723, 'climb': 2724, 'weight': 2725, 'march': 2726, 'row': 2727, 'bush': 2728, 'chuckl': 2729, 'enorm': 2730, 'lust': 2731, 'meaning': 2732, 'dane': 2733, 'boot': 2734, 'kurt': 2735, 'luca': 2736, 'unforgett': 2737, 'sensibl': 2738, 'wherea': 2739, 'thug': 2740, 'dump': 2741, 'spare': 2742, 'mst3k': 2743, 'caricatur': 2744, 'difficulti': 2745, 'adequ': 2746, 'butt': 2747, 'engin': 2748, 'bobbi': 2749, 'stress': 2750, 'rap': 2751, 'arnold': 2752, 'threat': 2753, 'karloff': 2754, 'fifti': 2755, 'brand': 2756, 'dear': 2757, 'homeless': 2758, 'polish': 2759, 'barri': 2760, 'hamlet': 2761, 'arrog': 2762, 'ego': 2763, 'secretari': 2764, 'swing': 2765, 'fest': 2766, 'flynn': 2767, 'ralph': 2768, 'journalist': 2769, 'elabor': 2770, 'induc': 2771, 'puppet': 2772, 'spike': 2773, 'grate': 2774, 'resort': 2775, 'fanci': 2776, 'arrang': 2777, 'float': 2778, 'simpson': 2779, 'tool': 2780, 'conspiraci': 2781, 'unbear': 2782, 'basement': 2783, 'cruis': 2784, 'boll': 2785, 'exercis': 2786, 'phillip': 2787, 'guilt': 2788, 'tribut': 2789, 'muppet': 2790, 'choreograph': 2791, 'pig': 2792, 'ham': 2793, 'item': 2794, 'puzzl': 2795, 'toilet': 2796, 'medium': 2797, 'layer': 2798, 'korean': 2799, 'ward': 2800, 'babe': 2801, '24': 2802, 'stan': 2803, 'document': 2804, 'slip': 2805, 'editor': 2806, 'tower': 2807, 'fianc': 2808, 'scarecrow': 2809, 'file': 2810, 'spark': 2811, 'persona': 2812, 'assur': 2813, 'minim': 2814, 'larger': 2815, 'superfici': 2816, 'philosoph': 2817, 'librari': 2818, 'catherin': 2819, 'orient': 2820, 'doc': 2821, 'inexplic': 2822, 'portion': 2823, 'territori': 2824, 'denzel': 2825, 'slaughter': 2826, 'transit': 2827, 'glover': 2828, 'dorothi': 2829, 'jeremi': 2830, 'wolf': 2831, 'financi': 2832, 'jet': 2833, 'curti': 2834, 'owe': 2835, 'sneak': 2836, 'walken': 2837, 'ban': 2838, 'pg': 2839, 'shi': 2840, 'boredom': 2841, 'hudson': 2842, 'backdrop': 2843, 'profound': 2844, 'eleph': 2845, 'ambigu': 2846, 'cusack': 2847, 'multi': 2848, 'whale': 2849, 'metaphor': 2850, 'viru': 2851, 'elsewher': 2852, 'stiff': 2853, 'rave': 2854, 'implaus': 2855, 'ultra': 2856, 'union': 2857, '2005': 2858, 'gadget': 2859, 'notion': 2860, 'birthday': 2861, 'hack': 2862, 'poison': 2863, 'lloyd': 2864, 'slight': 2865, 'pad': 2866, 'hawk': 2867, 'bibl': 2868, 'urg': 2869, 'reader': 2870, 'distanc': 2871, 'squar': 2872, 'afford': 2873, 'eva': 2874, 'eastwood': 2875, '1st': 2876, 'newspap': 2877, 'canada': 2878, 'superhero': 2879, 'deriv': 2880, 'disc': 2881, 'button': 2882, 'huh': 2883, 'health': 2884, 'restaur': 2885, 'heston': 2886, 'cure': 2887, 'skit': 2888, 'montag': 2889, 'drown': 2890, 'charisma': 2891, 'essenc': 2892, 'sadist': 2893, 'spread': 2894, 'dealt': 2895, 'lab': 2896, 'estat': 2897, 'companion': 2898, 'gradual': 2899, 'maniac': 2900, 'muslim': 2901, 'fetch': 2902, 'invest': 2903, 'peak': 2904, 'scoobi': 2905, 'godfath': 2906, 'countless': 2907, 'ritter': 2908, 'miik': 2909, 'servant': 2910, 'alli': 2911, 'kane': 2912, 'cup': 2913, 'subtleti': 2914, 'tea': 2915, 'gothic': 2916, 'heroic': 2917, 'iii': 2918, 'briefli': 2919, 'charismat': 2920, 'salli': 2921, 'electr': 2922, 'elect': 2923, 'cole': 2924, 'reel': 2925, 'neil': 2926, 'nuanc': 2927, 'tender': 2928, 'bud': 2929, 'admittedli': 2930, 'toss': 2931, 'resourc': 2932, 'ingredi': 2933, 'grandmoth': 2934, 'wannab': 2935, 'reev': 2936, 'punk': 2937, 'stood': 2938, 'mafia': 2939, 'poverti': 2940, 'carrey': 2941, 'shall': 2942, 'kubrick': 2943, 'gate': 2944, 'stronger': 2945, 'mild': 2946, 'pit': 2947, 'label': 2948, 'dawson': 2949, 'pauli': 2950, 'fond': 2951, 'outcom': 2952, 'useless': 2953, 'ian': 2954, 'tag': 2955, 'astair': 2956, 'burst': 2957, 'smooth': 2958, 'terri': 2959, 'easier': 2960, 'updat': 2961, 'assault': 2962, 'cox': 2963, 'smash': 2964, 'cardboard': 2965, 'bakshi': 2966, 'fist': 2967, 'divers': 2968, 'vulner': 2969, 'exchang': 2970, 'rex': 2971, 'sketch': 2972, 'samurai': 2973, 'vari': 2974, 'coincid': 2975, 'increasingli': 2976, '2002': 2977, 'resolv': 2978, 'melodramat': 2979, 'qualifi': 2980, 'conveni': 2981, 'luckili': 2982, 'templ': 2983, 'scratch': 2984, 'tame': 2985, 'insert': 2986, 'be': 2987, 'blast': 2988, 'brillianc': 2989, 'reynold': 2990, 'suspend': 2991, 'ambiti': 2992, 'fisher': 2993, 'meat': 2994, 'walker': 2995, 'strictli': 2996, 'seventi': 2997, 'matthew': 2998, 'pin': 2999, 'coach': 3000, 'gotta': 3001, 'hamilton': 3002, 'nuclear': 3003, 'farm': 3004, 'jami': 3005, 'soprano': 3006, 'struck': 3007, 'instantli': 3008, 'revers': 3009, 'cave': 3010, 'discoveri': 3011, 'clock': 3012, 'worthless': 3013, 'grasp': 3014, 'convolut': 3015, 'kudo': 3016, 'recreat': 3017, 'closet': 3018, 'butcher': 3019, 'eccentr': 3020, 'timeless': 3021, 'ninja': 3022, 'empir': 3023, 'monk': 3024, 'brosnan': 3025, 'joey': 3026, 'spooki': 3027, 'gray': 3028, 'evok': 3029, 'fifteen': 3030, 'pal': 3031, 'sidekick': 3032, 'mitchel': 3033, 'wipe': 3034, 'selfish': 3035, 'clown': 3036, 'norman': 3037, 'communist': 3038, 'eighti': 3039, 'declar': 3040, 'inconsist': 3041, 'seller': 3042, 'partli': 3043, 'importantli': 3044, 'bleak': 3045, 'cliff': 3046, 'sloppi': 3047, 'miracl': 3048, 'flawless': 3049, 'debat': 3050, 'enthusiast': 3051, 'aforement': 3052, 'chew': 3053, 'websit': 3054, 'ho': 3055, '45': 3056, 'lifestyl': 3057, 'destin': 3058, 'stoog': 3059, 'superbl': 3060, 'piano': 3061, 'psychiatrist': 3062, 'cheek': 3063, 'farc': 3064, 'australia': 3065, 'seed': 3066, 'bash': 3067, 'regardless': 3068, 'emili': 3069, 'incompet': 3070, 'abc': 3071, 'akshay': 3072, 'anni': 3073, 'pressur': 3074, 'kitchen': 3075, 'drivel': 3076, 'slice': 3077, 'wick': 3078, 'soviet': 3079, 'dash': 3080, 'directori': 3081, 'dire': 3082, 'splatter': 3083, 'wrestl': 3084, 'pleasantli': 3085, 'glow': 3086, 'flower': 3087, 'mann': 3088, 'seduc': 3089, 'duo': 3090, 'cagney': 3091, 'suppli': 3092, 'recov': 3093, 'dave': 3094, 'judi': 3095, 'doo': 3096, 'distant': 3097, 'increas': 3098, 'ken': 3099, 'boil': 3100, 'beaten': 3101, 'prize': 3102, 'curios': 3103, 'chapter': 3104, 'cameron': 3105, 'jar': 3106, 'artifici': 3107, 'blob': 3108, 'lou': 3109, 'helicopt': 3110, 'cia': 3111, 'perri': 3112, 'hop': 3113, 'combat': 3114, 'ranger': 3115, 'glenn': 3116, 'laurel': 3117, 'splendid': 3118, 'goldberg': 3119, 'web': 3120, 'psychot': 3121, 'francisco': 3122, 'panic': 3123, 'craven': 3124, 'turner': 3125, 'drunken': 3126, 'favour': 3127, 'ellen': 3128, 'craig': 3129, 'eleg': 3130, 'plausibl': 3131, 'greek': 3132, 'wizard': 3133, 'fx': 3134, 'shortli': 3135, '20th': 3136, 'hatr': 3137, 'ruth': 3138, 'modesti': 3139, 'slightest': 3140, 'gentl': 3141, 'falk': 3142, 'graduat': 3143, 'alexand': 3144, 'gandhi': 3145, 'philosophi': 3146, 'rid': 3147, 'flip': 3148, 'min': 3149, 'holi': 3150, 'tall': 3151, 'jealou': 3152, 'lend': 3153, 'legal': 3154, 'ocean': 3155, 'harm': 3156, 'dracula': 3157, 'manhattan': 3158, 'we': 3159, 'preciou': 3160, 'knight': 3161, 'unpleas': 3162, 'futurist': 3163, 'fund': 3164, 'felix': 3165, 'tank': 3166, 'forbidden': 3167, 'ami': 3168, 'mock': 3169, 'thread': 3170, 'explicit': 3171, 'bless': 3172, 'giallo': 3173, 'childish': 3174, 'digniti': 3175, 'overdon': 3176, 'reviv': 3177, 'nod': 3178, 'scientif': 3179, 'repeatedli': 3180, 'fever': 3181, '2004': 3182, 'verhoeven': 3183, 'elderli': 3184, 'awe': 3185, 'yesterday': 3186, 'broad': 3187, 'margaret': 3188, 'unwatch': 3189, '99': 3190, 'torment': 3191, 'eve': 3192, 'nerv': 3193, 'mel': 3194, 'thick': 3195, 'pirat': 3196, 'awaken': 3197, 'launch': 3198, 'roman': 3199, 'politician': 3200, 'royal': 3201, 'rivet': 3202, 'bin': 3203, 'romero': 3204, 'timothi': 3205, 'kay': 3206, 'ambit': 3207, 'custom': 3208, 'stiller': 3209, 'eas': 3210, 'acclaim': 3211, 'lean': 3212, 'absenc': 3213, 'griffith': 3214, 'ah': 3215, 'automat': 3216, 'uniform': 3217, 'publish': 3218, 'warren': 3219, 'homicid': 3220, 'gabriel': 3221, 'antic': 3222, 'transport': 3223, 'wallac': 3224, 'sunshin': 3225, 'foul': 3226, 'darker': 3227, 'pierc': 3228, 'bathroom': 3229, 'phrase': 3230, 'tomato': 3231, 'crook': 3232, 'stinker': 3233, 'pulp': 3234, 'termin': 3235, 'purpl': 3236, 'evolv': 3237, 'contrari': 3238, 'donna': 3239, 'hollow': 3240, 'sixti': 3241, 'q': 3242, 'coloni': 3243, 'horrid': 3244, 'eyr': 3245, 'juvenil': 3246, 'saint': 3247, 'marin': 3248, 'viciou': 3249, 'awak': 3250, 'kenneth': 3251, 'album': 3252, 'brazil': 3253, '2003': 3254, 'pray': 3255, 'rambo': 3256, 'revolutionari': 3257, 'karen': 3258, 'packag': 3259, 'choreographi': 3260, 'ought': 3261, 'prom': 3262, 'li': 3263, 'beatti': 3264, 'overr': 3265, 'defi': 3266, 'mummi': 3267, 'option': 3268, 'blade': 3269, 'mildr': 3270, 'candid': 3271, 'twelv': 3272, 'conserv': 3273, 'ramon': 3274, 'dose': 3275, 'stole': 3276, 'nerd': 3277, 'ireland': 3278, 'boast': 3279, 'kapoor': 3280, 'altman': 3281, 'protest': 3282, 'collabor': 3283, 'flame': 3284, 'global': 3285, 'confirm': 3286, 'kirk': 3287, 'astonish': 3288, 'natali': 3289, 'trio': 3290, 'fulci': 3291, 'jazz': 3292, 'detract': 3293, 'funer': 3294, 'delici': 3295, 'bull': 3296, 'racial': 3297, 'bottl': 3298, 'tommi': 3299, 'blake': 3300, 'shade': 3301, 'mystic': 3302, 'yellow': 3303, 'spit': 3304, 'nicholson': 3305, 'leap': 3306, 'whip': 3307, 'destini': 3308, 'audio': 3309, 'enterpris': 3310, 'neo': 3311, 'vivid': 3312, 'threw': 3313, 'popcorn': 3314, 'pseudo': 3315, 'merci': 3316, 'meaningless': 3317, 'visibl': 3318, 'staff': 3319, 'inherit': 3320, 'enchant': 3321, 'todd': 3322, 'harder': 3323, 'swedish': 3324, 'reunit': 3325, 'altogeth': 3326, 'bedroom': 3327, 'adolesc': 3328, 'fonda': 3329, 'exhibit': 3330, 'wire': 3331, 'tip': 3332, 'reserv': 3333, 'atlanti': 3334, 'suspici': 3335, 'befriend': 3336, 'await': 3337, 'edi': 3338, 'kennedi': 3339, 'decor': 3340, 'ruthless': 3341, 'madonna': 3342, 'respond': 3343, 'moodi': 3344, 'leonard': 3345, 'fanat': 3346, 'bust': 3347, 'uneven': 3348, 'lawrenc': 3349, 'roommat': 3350, 'jew': 3351, 'lemmon': 3352, 'crocodil': 3353, 'synopsi': 3354, 'voight': 3355, 'garner': 3356, '2007': 3357, 'bold': 3358, 'clumsi': 3359, 'unsettl': 3360, 'palma': 3361, 'incident': 3362, 'centr': 3363, 'clint': 3364, 'rural': 3365, 'ventur': 3366, 'bargain': 3367, 'dimens': 3368, 'bradi': 3369, 'abysm': 3370, 'carl': 3371, 'audit': 3372, 'chao': 3373, 'holli': 3374, 'voyag': 3375, 'troop': 3376, 'mall': 3377, 'timon': 3378, 'poetic': 3379, 'cd': 3380, 'hart': 3381, 'imperson': 3382, 'elimin': 3383, 'characterist': 3384, 'wealth': 3385, 'humili': 3386, 'trail': 3387, 'versu': 3388, 'cari': 3389, '2nd': 3390, 'daddi': 3391, 'neglect': 3392, 'echo': 3393, 'lit': 3394, 'immigr': 3395, 'nearbi': 3396, 'ant': 3397, 'cuba': 3398, 'tiger': 3399, 'acknowledg': 3400, 'mistaken': 3401, 'marshal': 3402, 'jeffrey': 3403, 'solo': 3404, 'saga': 3405, 'pun': 3406, 'paus': 3407, 'collaps': 3408, 'celluloid': 3409, 'mickey': 3410, 'homer': 3411, 'domest': 3412, 'repuls': 3413, 'prejudic': 3414, 'infect': 3415, 'equip': 3416, 'milk': 3417, 'promin': 3418, 'interrupt': 3419, 'assembl': 3420, 'gear': 3421, 'pant': 3422, 'chest': 3423, 'cake': 3424, 'undoubtedli': 3425, 'coffe': 3426, 'ginger': 3427, 'sore': 3428, 'hbo': 3429, 'olivi': 3430, 'leon': 3431, 'harvey': 3432, 'tribe': 3433, '1996': 3434, 'inappropri': 3435, 'coat': 3436, 'inan': 3437, 'apolog': 3438, 'aveng': 3439, 'retain': 3440, 'florida': 3441, 'instant': 3442, 'primari': 3443, 'exot': 3444, 'embrac': 3445, 'trace': 3446, 'colonel': 3447, 'vulgar': 3448, 'devast': 3449, 'colleagu': 3450, 'pen': 3451, 'jenni': 3452, 'humbl': 3453, 'furthermor': 3454, 'pot': 3455, 'solut': 3456, 'consum': 3457, 'brooklyn': 3458, 'maggi': 3459, 'institut': 3460, 'highest': 3461, 'airplan': 3462, 'polanski': 3463, 'outer': 3464, '3rd': 3465, 'ya': 3466, 'illog': 3467, 'poke': 3468, 'cope': 3469, 'strain': 3470, 'rick': 3471, 'linda': 3472, 'seduct': 3473, 'bowl': 3474, 'descend': 3475, 'principl': 3476, 'sale': 3477, 'wive': 3478, 'gender': 3479, 'dian': 3480, 'smaller': 3481, 'godzilla': 3482, 'disabl': 3483, '1999': 3484, 'dutch': 3485, 'primarili': 3486, 'predecessor': 3487, 'glamor': 3488, 'bubbl': 3489, 'lol': 3490, 'inferior': 3491, 'dud': 3492, 'vast': 3493, 'yard': 3494, 'beneath': 3495, 'mixtur': 3496, 'cue': 3497, 'devoid': 3498, 'blatant': 3499, 'secondli': 3500, 'scope': 3501, 'hal': 3502, 'rabbit': 3503, 'dive': 3504, 'gloriou': 3505, 'gundam': 3506, 'senseless': 3507, 'aggress': 3508, 'et': 3509, 'talki': 3510, 'shirley': 3511, 'simplist': 3512, 'casual': 3513, 'countrysid': 3514, 'streep': 3515, 'museum': 3516, 'pearl': 3517, 'alfr': 3518, 'disjoint': 3519, 'trademark': 3520, 'arab': 3521, 'shelf': 3522, 'garbo': 3523, 'alert': 3524, 'hideou': 3525, 'breed': 3526, 'z': 3527, 'myer': 3528, 'grinch': 3529, 'invas': 3530, 'domino': 3531, 'april': 3532, 'boom': 3533, 'stack': 3534, 'oz': 3535, 'robberi': 3536, 'hardcor': 3537, 'illeg': 3538, 'uwe': 3539, 'stellar': 3540, 'hopeless': 3541, 'acid': 3542, 'sh': 3543, 'mayor': 3544, 'unhappi': 3545, 'rendit': 3546, 'maci': 3547, 'disgrac': 3548, 'experiment': 3549, 'defens': 3550, 'obtain': 3551, 'loyal': 3552, 'mail': 3553, 'applaud': 3554, 'robinson': 3555, 'vanish': 3556, 'slide': 3557, 'khan': 3558, 'stir': 3559, 'craze': 3560, 'grandfath': 3561, 'psychic': 3562, 'amanda': 3563, 'incomprehens': 3564, 'counter': 3565, 'tenant': 3566, 'fri': 3567, 'recruit': 3568, 'dismiss': 3569, 'emphasi': 3570, 'berlin': 3571, 'declin': 3572, 'blew': 3573, 'topless': 3574, 'wont': 3575, 'span': 3576, 'rifl': 3577, 'scroog': 3578, 'dicken': 3579, 'soccer': 3580, 'diana': 3581, 'tempt': 3582, 'spider': 3583, 'hartley': 3584, 'justin': 3585, 'trashi': 3586, 'wet': 3587, 'shaw': 3588, 'bitch': 3589, 'niro': 3590, 'sibl': 3591, 'ration': 3592, 'faster': 3593, 'revolt': 3594, 'sympath': 3595, 'ethnic': 3596, 'woo': 3597, 'goer': 3598, 'parad': 3599, 'riot': 3600, 'shed': 3601, 'porno': 3602, 'intim': 3603, 'resurrect': 3604, 'lumet': 3605, 'region': 3606, 'wheel': 3607, 'feminist': 3608, 'patriot': 3609, 'slick': 3610, 'weakest': 3611, 'hesit': 3612, 'dealer': 3613, 'choru': 3614, 'honesti': 3615, '00': 3616, 'rider': 3617, 'enlighten': 3618, 'ensur': 3619, 'immort': 3620, 'nephew': 3621, 'mario': 3622, 'partial': 3623, 'hopper': 3624, 'biographi': 3625, 'jonathan': 3626, 'ballet': 3627, 'lena': 3628, 'eager': 3629, 'unreal': 3630, 'andr': 3631, 'commend': 3632, 'farmer': 3633, 'wendi': 3634, 'steam': 3635, 'gap': 3636, 'worm': 3637, 'psychopath': 3638, 'similarli': 3639, 'composit': 3640, 'leo': 3641, 'kingdom': 3642, 'nostalg': 3643, 'properti': 3644, 'hung': 3645, 'prequel': 3646, 'repress': 3647, 'sappi': 3648, 'vice': 3649, 'morri': 3650, 'confin': 3651, 'util': 3652, 'victori': 3653, 'snap': 3654, 'blunt': 3655, 'wore': 3656, 'macarthur': 3657, 'charlott': 3658, 'safeti': 3659, 'skull': 3660, 'franco': 3661, 'mutant': 3662, 'owen': 3663, 'sandra': 3664, 'nervou': 3665, 'cg': 3666, 'bonu': 3667, '1972': 3668, 'drum': 3669, 'hyde': 3670, 'tad': 3671, 'montana': 3672, 'del': 3673, 'rambl': 3674, 'drain': 3675, 'kyle': 3676, 'bumbl': 3677, 'despair': 3678, 'farrel': 3679, 'heartbreak': 3680, 'emperor': 3681, 'dalton': 3682, 'campbel': 3683, 'deed': 3684, 'thru': 3685, 'tail': 3686, 'whoopi': 3687, 'rope': 3688, 'snl': 3689, 'repli': 3690, 'miseri': 3691, 'compass': 3692, 'latin': 3693, 'exit': 3694, 'compens': 3695, 'strand': 3696, 'pattern': 3697, 'valuabl': 3698, 'rocki': 3699, 'acquir': 3700, 'recycl': 3701, 'bergman': 3702, 'dust': 3703, 'bow': 3704, 'speci': 3705, 'da': 3706, 'rapist': 3707, 'pour': 3708, 'gimmick': 3709, 'roth': 3710, 'contempl': 3711, '35': 3712, 'radic': 3713, 'carradin': 3714, 'percept': 3715, 'romp': 3716, 'orson': 3717, 'mistress': 3718, 'bleed': 3719, 'oppress': 3720, 'rotten': 3721, 'wacki': 3722, 'martian': 3723, 'tonight': 3724, 'gal': 3725, 'downhil': 3726, 'airport': 3727, 'slug': 3728, 'chess': 3729, 'olli': 3730, 'pervert': 3731, 'melodi': 3732, 'mislead': 3733, 'shelley': 3734, 'programm': 3735, 'arc': 3736, 'banal': 3737, 'pursuit': 3738, 'tackl': 3739, 'pervers': 3740, 'attorney': 3741, 'belt': 3742, '1983': 3743, 'heal': 3744, 'tooth': 3745, 'dazzl': 3746, 'taught': 3747, 'champion': 3748, 'edgar': 3749, 'stilt': 3750, 'arguabl': 3751, 'unpredict': 3752, 'slash': 3753, 'paltrow': 3754, 'preach': 3755, 'sensat': 3756, 'virginia': 3757, 'plight': 3758, 'graham': 3759, 'conneri': 3760, 'franki': 3761, 'vocal': 3762, 'chicken': 3763, 'maid': 3764, 'cleverli': 3765, 'duval': 3766, 'vengeanc': 3767, 'poem': 3768, 'tiresom': 3769, 'rubi': 3770, 'orang': 3771, 'passeng': 3772, 'raymond': 3773, 'closest': 3774, 'mesmer': 3775, 'bela': 3776, 'gambl': 3777, 'employe': 3778, 'uplift': 3779, 'marti': 3780, 'dixon': 3781, 'quarter': 3782, 'sirk': 3783, 'swallow': 3784, 'volum': 3785, 'climact': 3786, 'abraham': 3787, 'bay': 3788, 'giggl': 3789, 'yawn': 3790, 'habit': 3791, 'tube': 3792, 'profan': 3793, 'extens': 3794, 'scottish': 3795, 'monologu': 3796, '1968': 3797, 'secretli': 3798, 'whine': 3799, 'outing': 3800, 'amitabh': 3801, 'suffic': 3802, 'inject': 3803, 'convincingli': 3804, 'mute': 3805, 'paranoia': 3806, 'calm': 3807, 'numb': 3808, 'crystal': 3809, 'engross': 3810, 'iran': 3811, 'clone': 3812, 'lundgren': 3813, 'gerard': 3814, 'pokemon': 3815, 'frankenstein': 3816, 'taxi': 3817, 'surpass': 3818, 'lowest': 3819, 'grotesqu': 3820, 'fed': 3821, 'bend': 3822, 'earl': 3823, 'richardson': 3824, 'underst': 3825, 'meander': 3826, 'abort': 3827, 'expand': 3828, 'septemb': 3829, 'ethan': 3830, 'nichola': 3831, 'chicago': 3832, 'profess': 3833, 'dispos': 3834, 'poetri': 3835, 'austen': 3836, 'im': 3837, 'trend': 3838, 'plod': 3839, 'junior': 3840, 'spock': 3841, 'linger': 3842, 'franci': 3843, 'backward': 3844, 'rubber': 3845, 'simplic': 3846, 'spoke': 3847, 'dysfunct': 3848, 'greedi': 3849, 'instrument': 3850, 'econom': 3851, 'waitress': 3852, 'descent': 3853, 'literatur': 3854, 'myth': 3855, 'lure': 3856, 'nostalgia': 3857, 'sue': 3858, 'hum': 3859, 'muddl': 3860, 'household': 3861, 'rant': 3862, 'eugen': 3863, 'mundan': 3864, 'compliment': 3865, 'tourist': 3866, 'stallon': 3867, 'der': 3868, 'catchi': 3869, 'cannon': 3870, 'insur': 3871, 'louis': 3872, 'bacal': 3873, 'eaten': 3874, 'irrelev': 3875, 'phantom': 3876, 'dictat': 3877, 'alongsid': 3878, 'june': 3879, 'duck': 3880, 'cent': 3881, 'occupi': 3882, 'stale': 3883, 'map': 3884, 'equival': 3885, 'furi': 3886, 'deaf': 3887, 'coast': 3888, 'firstli': 3889, 'lang': 3890, 'mankind': 3891, 'crucial': 3892, 'phoni': 3893, 'molli': 3894, 'recognit': 3895, 'recognis': 3896, 'sissi': 3897, 'damon': 3898, 'dement': 3899, 'hello': 3900, 'flee': 3901, 'mortal': 3902, 'omen': 3903, 'carel': 3904, 'randi': 3905, 'cyborg': 3906, 'heel': 3907, 'damm': 3908, 'bump': 3909, 'rude': 3910, 'daisi': 3911, 'lengthi': 3912, 'distinguish': 3913, 'newli': 3914, '1973': 3915, 'onlin': 3916, 'bike': 3917, 'reign': 3918, 'twilight': 3919, 'loyalti': 3920, 'freez': 3921, 'buffalo': 3922, 'ashley': 3923, 'drake': 3924, 'rooney': 3925, 'antwon': 3926, 'wisdom': 3927, 'blackmail': 3928, 'grayson': 3929, 'labor': 3930, 'likewis': 3931, 'dreari': 3932, 'biko': 3933, 'startl': 3934, 'incorpor': 3935, 'vein': 3936, 'inher': 3937, 'butler': 3938, 'attribut': 3939, 'basketbal': 3940, 'analysi': 3941, 'provoc': 3942, 'tunnel': 3943, 'nineti': 3944, 'worn': 3945, 'interior': 3946, 'chronicl': 3947, 'emphas': 3948, 'pink': 3949, 'baddi': 3950, 'prey': 3951, 'exposur': 3952, 'unorigin': 3953, 'keith': 3954, 'ridden': 3955, 'barrymor': 3956, 'approv': 3957, 'sailor': 3958, 'proce': 3959, 'boxer': 3960, 'elm': 3961, 'carla': 3962, 'degrad': 3963, 'indiffer': 3964, 'underli': 3965, 'er': 3966, 'predat': 3967, 'millionair': 3968, 'mighti': 3969, 'belushi': 3970, 'improvis': 3971, 'drift': 3972, 'othello': 3973, 'bunni': 3974, 'walsh': 3975, 'unrel': 3976, 'nicol': 3977, 'fleet': 3978, 'julian': 3979, 'undeni': 3980, 'substitut': 3981, 'meg': 3982, 'stalker': 3983, 'condemn': 3984, 'simmon': 3985, 'mormon': 3986, 'barrel': 3987, 'hypnot': 3988, 'meyer': 3989, 'robbin': 3990, 'unawar': 3991, 'exquisit': 3992, 'priceless': 3993, 'marion': 3994, 'agenda': 3995, 'shove': 3996, 'enthusiasm': 3997, 'greed': 3998, 'watson': 3999, 'edgi': 4000, 'mtv': 4001, 'hay': 4002, 'alison': 4003, 'reid': 4004, 'nyc': 4005, 'disord': 4006, 'novak': 4007, 'errol': 4008, 'rukh': 4009, 'roof': 4010, 'dolph': 4011, 'lampoon': 4012, 'warmth': 4013, 'vital': 4014, 'alarm': 4015, 'firm': 4016, 'palac': 4017, '3d': 4018, 'profit': 4019, 'randomli': 4020, 'sergeant': 4021, 'drip': 4022, 'minimum': 4023, '13th': 4024, 'pamela': 4025, 'ponder': 4026, 'iraq': 4027, 'coup': 4028, 'gestur': 4029, 'crown': 4030, 'testament': 4031, 'petti': 4032, 'simultan': 4033, 'preserv': 4034, 'session': 4035, 'thompson': 4036, 'beatl': 4037, 'zizek': 4038, 'showdown': 4039, 'what': 4040, 'valentin': 4041, 'campaign': 4042, 'cassidi': 4043, 'eastern': 4044, 'peck': 4045, 'peril': 4046, 'angela': 4047, 'unleash': 4048, 'championship': 4049, 'orlean': 4050, 'spain': 4051, 'nun': 4052, '1933': 4053, 'distort': 4054, 'israel': 4055, 'glanc': 4056, 'miyazaki': 4057, 'reson': 4058, 'stake': 4059, 'mon': 4060, 'cream': 4061, 'regist': 4062, '1984': 4063, 'fido': 4064, 'stroke': 4065, 'scotland': 4066, 'shootout': 4067, 'crow': 4068, 'unimagin': 4069, 'brenda': 4070, 'bro': 4071, 'cooki': 4072, 'kurosawa': 4073, 'climat': 4074, 'wig': 4075, 'contradict': 4076, 'quinn': 4077, 'din': 4078, 'empathi': 4079, 'exposit': 4080, 'rout': 4081, 'restrain': 4082, 'valley': 4083, 'realm': 4084, 'travesti': 4085, 'gentleman': 4086, 'represent': 4087, 'calib': 4088, 'crawl': 4089, 'sabrina': 4090, 'perpetu': 4091, 'buster': 4092, 'han': 4093, 'jan': 4094, 'cloud': 4095, 'wax': 4096, 'tacki': 4097, 'derang': 4098, 'sammi': 4099, 'demis': 4100, 'meryl': 4101, 'warrant': 4102, 'pretens': 4103, 'perceiv': 4104, 'stargat': 4105, 'ross': 4106, 'fuller': 4107, 'distress': 4108, 'unsatisfi': 4109, 'monoton': 4110, '1997': 4111, 'dana': 4112, 'traumat': 4113, 'censor': 4114, 'shaki': 4115, 'delic': 4116, 'abomin': 4117, 'businessman': 4118, 'spacey': 4119, 'passabl': 4120, 'absent': 4121, 'soderbergh': 4122, 'ustinov': 4123, 'painter': 4124, 'mclaglen': 4125, 'greg': 4126, 'femm': 4127, 'compromis': 4128, 'josh': 4129, 'pole': 4130, 'crawford': 4131, '1987': 4132, 'geek': 4133, 'unseen': 4134, 'sucker': 4135, 'baldwin': 4136, 'darren': 4137, 'shoddi': 4138, 'unravel': 4139, 'sid': 4140, 'furiou': 4141, 'seal': 4142, 'valid': 4143, 'exclus': 4144, 'kumar': 4145, 'verbal': 4146, 'deniro': 4147, 'austin': 4148, 'fenc': 4149, 'uncov': 4150, 'polici': 4151, 'jewel': 4152, 'deceas': 4153, 'clash': 4154, 'tarantino': 4155, 'reluct': 4156, 'nathan': 4157, 'anchor': 4158, 'correctli': 4159, 'judgment': 4160, 'dee': 4161, 'primit': 4162, 'norm': 4163, 'antonioni': 4164, 'click': 4165, 'wholli': 4166, '1993': 4167, 'expedit': 4168, 'fog': 4169, 'accuraci': 4170, 'tech': 4171, '1971': 4172, 'crippl': 4173, 'malon': 4174, 'alec': 4175, 'joel': 4176, 'behold': 4177, 'trait': 4178, 'seldom': 4179, 'mode': 4180, 'debt': 4181, 'tax': 4182, 'pocket': 4183, 'dreck': 4184, 'patienc': 4185, 'roller': 4186, 'slam': 4187, 'darn': 4188, 'murray': 4189, 'fart': 4190, 'fabric': 4191, 'temper': 4192, 'sustain': 4193, 'ritual': 4194, 'sunni': 4195, 'nicola': 4196, '2008': 4197, 'logan': 4198, 'shanghai': 4199, 'conduct': 4200, '3000': 4201, 'fought': 4202, 'sheet': 4203, 'hallucin': 4204, 'unfair': 4205, 'enforc': 4206, 'wang': 4207, 'sand': 4208, 'wretch': 4209, 'bake': 4210, '1995': 4211, 'clerk': 4212, 'vanc': 4213, 'squad': 4214, 'stark': 4215, 'outlin': 4216, 'schedul': 4217, 'despis': 4218, 'phil': 4219, 'critiqu': 4220, 'runner': 4221, 'exhaust': 4222, 'canyon': 4223, 'fundament': 4224, 'preston': 4225, 'isabel': 4226, 'rita': 4227, 'legaci': 4228, 'divid': 4229, 'preposter': 4230, 'shell': 4231, 'tactic': 4232, 'robber': 4233, 'bridget': 4234, 'grief': 4235, 'conscious': 4236, 'helpless': 4237, 'technicolor': 4238, 'soup': 4239, 'sweep': 4240, 'scriptwrit': 4241, 'clau': 4242, 'bias': 4243, 'penni': 4244, 'pete': 4245, 'stuart': 4246, 'guitar': 4247, 'drove': 4248, 'rear': 4249, 'agenc': 4250, 'invad': 4251, 'restrict': 4252, 'sugar': 4253, 'alicia': 4254, 'culmin': 4255, 'bloom': 4256, 'rehash': 4257, 'propos': 4258, 'kansa': 4259, 'flair': 4260, 'liberti': 4261, 'sentinel': 4262, 'passag': 4263, 'consciou': 4264, 'inabl': 4265, 'delv': 4266, 'connor': 4267, 'cigarett': 4268, 'gregori': 4269, 'implic': 4270, 'sniper': 4271, 'newman': 4272, 'marc': 4273, 'russia': 4274, 'boyl': 4275, 'jacket': 4276, 'alley': 4277, 'lacklust': 4278, 'vomit': 4279, 'jodi': 4280, 'downey': 4281, 'unexpectedli': 4282, 'palanc': 4283, 'vet': 4284, 'tripe': 4285, 'wrench': 4286, 'karl': 4287, 'awhil': 4288, '22': 4289, 'rod': 4290, 'behaviour': 4291, 'lush': 4292, 'ladder': 4293, 'rehears': 4294, 'foxx': 4295, 'pale': 4296, 'asylum': 4297, '1936': 4298, 'delet': 4299, 'yeti': 4300, 'bacon': 4301, 'improb': 4302, 'rampag': 4303, 'feat': 4304, 'aesthet': 4305, 'chainsaw': 4306, 'mccoy': 4307, 'tendenc': 4308, 'sharon': 4309, 'horn': 4310, 'cap': 4311, 'arrow': 4312, 'kolchak': 4313, 'amazon': 4314, 'wildli': 4315, 'underneath': 4316, 'lurk': 4317, 'hackney': 4318, 'weav': 4319, 'shortcom': 4320, 'financ': 4321, 'coaster': 4322, 'newcom': 4323, 'scoop': 4324, 'tomorrow': 4325, 'conscienc': 4326, 'sung': 4327, '1920': 4328, 'paramount': 4329, 'visitor': 4330, 'tasteless': 4331, 'aristocrat': 4332, '1978': 4333, 'loneli': 4334, '1988': 4335, 'fright': 4336, 'paradis': 4337, 'spice': 4338, 'basing': 4339, 'hungri': 4340, '19th': 4341, 'filler': 4342, 'elit': 4343, 'el': 4344, 'suspicion': 4345, 'stream': 4346, 'rumor': 4347, 'suffici': 4348, 'hulk': 4349, 'minu': 4350, 'prank': 4351, 'wagner': 4352, 'rhythm': 4353, 'globe': 4354, 'thunderbird': 4355, 'brit': 4356, 'grudg': 4357, 'teas': 4358, 'ingeni': 4359, 'abrupt': 4360, 'immers': 4361, 'ram': 4362, 'standout': 4363, 'paxton': 4364, 'entranc': 4365, 'atroc': 4366, 'smell': 4367, 'couch': 4368, 'secondari': 4369, 'choppi': 4370, 'leigh': 4371, 'curli': 4372, 'worship': 4373, 'hopkin': 4374, 'iv': 4375, 'heist': 4376, 'impos': 4377, '1939': 4378, 'springer': 4379, 'counterpart': 4380, 'literari': 4381, 'quietli': 4382, 'recogniz': 4383, 'en': 4384, '75': 4385, 'inmat': 4386, 'dirt': 4387, 'straightforward': 4388, 'minist': 4389, 'beverli': 4390, 'chavez': 4391, '1989': 4392, 'bread': 4393, 'wwe': 4394, 'lectur': 4395, 'naughti': 4396, 'rub': 4397, 'penn': 4398, 'cancer': 4399, 'tierney': 4400, 'chamberlain': 4401, 'posey': 4402, 'missil': 4403, 'variat': 4404, 'misguid': 4405, 'skeptic': 4406, 'duel': 4407, 'quaid': 4408, 'geni': 4409, 'entitl': 4410, 'watcher': 4411, 'policeman': 4412, 'attenborough': 4413, 'heartfelt': 4414, 'sublim': 4415, 'nemesi': 4416, 'net': 4417, 'laurenc': 4418, 'ace': 4419, 'cattl': 4420, 'esther': 4421, 'convert': 4422, 'clan': 4423, 'morbid': 4424, 'transcend': 4425, 'moreov': 4426, 'lindsay': 4427, 'nolan': 4428, 'enthral': 4429, '1986': 4430, 'injuri': 4431, 'yearn': 4432, 'bernard': 4433, 'ratso': 4434, 'sassi': 4435, 'grin': 4436, 'egg': 4437, 'kitti': 4438, 'tyler': 4439, 'reliabl': 4440, 'graini': 4441, 'spiral': 4442, 'youngest': 4443, 'puppi': 4444, 'out': 4445, '1979': 4446, 'diari': 4447, 'vader': 4448, 'bye': 4449, 'facil': 4450, 'brood': 4451, 'rosemari': 4452, 'obstacl': 4453, 'characteris': 4454, 'carlito': 4455, 'steadi': 4456, 'kidman': 4457, 'hopelessli': 4458, 'setup': 4459, 'moder': 4460, 'dont': 4461, 'poe': 4462, 'buzz': 4463, 'bean': 4464, 'unexplain': 4465, 'mytholog': 4466, 'cruelti': 4467, 'hk': 4468, 'uncut': 4469, 'enabl': 4470, 'artsi': 4471, 'bounc': 4472, 'despic': 4473, 'effici': 4474, 'athlet': 4475, 'heap': 4476, 'gina': 4477, 'oblig': 4478, 'clueless': 4479, 'underworld': 4480, 'decept': 4481, 'brendan': 4482, 'weather': 4483, 'niec': 4484, 'sweat': 4485, 'spontan': 4486, 'baffl': 4487, 'bewar': 4488, 'patricia': 4489, 'narrow': 4490, 'martha': 4491, 'acquaint': 4492, 'fuel': 4493, '1969': 4494, 'gillian': 4495, 'exterior': 4496, 'disastr': 4497, 'bronson': 4498, 'hammi': 4499, 'kline': 4500, 'hain': 4501, 'christin': 4502, 'preming': 4503, 'viewpoint': 4504, '73': 4505, 'outlaw': 4506, 'candl': 4507, 'suprem': 4508, 'uh': 4509, 'enlist': 4510, 'rome': 4511, 'insipid': 4512, '19': 4513, 'dilemma': 4514, 'housewif': 4515, 'angst': 4516, 'loath': 4517, 'analyz': 4518, 'biker': 4519, 'scar': 4520, 'fontain': 4521, 'circu': 4522, 'mayhem': 4523, 'headach': 4524, 'lester': 4525, 'astound': 4526, 'goof': 4527, 'hepburn': 4528, 'harmless': 4529, 'injur': 4530, 'dandi': 4531, 'virtu': 4532, 'loi': 4533, 'taboo': 4534, 'sleepwalk': 4535, 'shatter': 4536, 'trigger': 4537, 'preachi': 4538, 'mermaid': 4539, 'tick': 4540, 'sooner': 4541, 'renaiss': 4542, 'steer': 4543, 'filth': 4544, 'zoom': 4545, 'hokey': 4546, 'contempt': 4547, 'oldest': 4548, 'intric': 4549, 'whore': 4550, 'stimul': 4551, 'dish': 4552, 'macho': 4553, 'bent': 4554, 'cassavet': 4555, 'boston': 4556, 'foolish': 4557, 'glorifi': 4558, 'fluff': 4559, 'ebert': 4560, 'idol': 4561, 'hooker': 4562, 'overlong': 4563, 'spade': 4564, 'slimi': 4565, 'amor': 4566, 'hostag': 4567, 'stair': 4568, 'claustrophob': 4569, 'camcord': 4570, 'sox': 4571, 'redund': 4572, 'immatur': 4573, 'tripl': 4574, 'surgeri': 4575, 'guin': 4576, 'dismal': 4577, 'gere': 4578, 'salt': 4579, 'scorses': 4580, 'ariel': 4581, 'corbett': 4582, 'phenomenon': 4583, 'beard': 4584, 'conquer': 4585, 'frantic': 4586, 'flashi': 4587, 'alvin': 4588, 'dwarf': 4589, 'widescreen': 4590, 'cow': 4591, 'margin': 4592, 'schlock': 4593, 'remad': 4594, 'transplant': 4595, 'trivia': 4596, 'strongest': 4597, 'mutual': 4598, 'antagonist': 4599, 'zane': 4600, 'messi': 4601, 'cush': 4602, 'muscl': 4603, 'flirt': 4604, 'preced': 4605, '1976': 4606, 'gasp': 4607, 'assert': 4608, 'harold': 4609, 'corman': 4610, 'nolt': 4611, 'proport': 4612, 'mount': 4613, 'shred': 4614, 'perman': 4615, 'shield': 4616, 'spree': 4617, 'gabl': 4618, 'flag': 4619, 'keen': 4620, '1981': 4621, 'obligatori': 4622, 'fascist': 4623, 'cohen': 4624, 'astronaut': 4625, 'naschi': 4626, 'faint': 4627, 'joker': 4628, 'rhyme': 4629, 'spinal': 4630, 'down': 4631, 'radiat': 4632, 'sensual': 4633, '95': 4634, 'claud': 4635, 'danish': 4636, 'triangl': 4637, 'divin': 4638, 'info': 4639, 'repris': 4640, 'carey': 4641, 'instruct': 4642, '28': 4643, 'archiv': 4644, 'resum': 4645, 'inflict': 4646, 'hara': 4647, 'vaniti': 4648, 'boob': 4649, 'someday': 4650, 'neurot': 4651, 'barn': 4652, 'scandal': 4653, 'departur': 4654, 'deer': 4655, 'persuad': 4656, 'interestingli': 4657, 'off': 4658, 'www': 4659, 'bachelor': 4660, 'brush': 4661, '1945': 4662, 'ritchi': 4663, 'flock': 4664, 'raj': 4665, 'aborigin': 4666, 'discern': 4667, 'fishburn': 4668, 'wield': 4669, 'mol': 4670, 'strive': 4671, 'mobil': 4672, 'bitten': 4673, 'timberlak': 4674, 'senior': 4675, 'fragil': 4676, 'banter': 4677, 'cliffhang': 4678, 'carlo': 4679, 'parson': 4680, 'traffic': 4681, 'pacif': 4682, 'cher': 4683, 'hilar': 4684, 'kathryn': 4685, 'casino': 4686, 'axe': 4687, 'frontier': 4688, 'harrison': 4689, 'ish': 4690, 'pickford': 4691, 'colin': 4692, 'cycl': 4693, 'loretta': 4694, 'prophet': 4695, 'artwork': 4696, 'hug': 4697, 'heartwarm': 4698, 'dim': 4699, 'helm': 4700, 'dame': 4701, 'dylan': 4702, 'wendigo': 4703, 'melissa': 4704, 'recit': 4705, 'bate': 4706, 'vibrant': 4707, 'clad': 4708, 'mobster': 4709, 'submit': 4710, 'neill': 4711, 'proclaim': 4712, 'earnest': 4713, 'pixar': 4714, 'undermin': 4715, 'hapless': 4716, 'miracul': 4717, 'rot': 4718, 'cb': 4719, 'biblic': 4720, 'luka': 4721, 'jade': 4722, 'anton': 4723, 'europa': 4724, 'nope': 4725, 'seedi': 4726, 'jo': 4727, 'winchest': 4728, 'trier': 4729, 'alexandr': 4730, 'aris': 4731, 'eli': 4732, 'jordan': 4733, 'vile': 4734, 'marlon': 4735, 'vanessa': 4736, 'akin': 4737, 'uma': 4738, 'bondag': 4739, 'redneck': 4740, 'estrang': 4741, 'flavor': 4742, 'bikini': 4743, 'cerebr': 4744, 'shepherd': 4745, 'wardrob': 4746, 'northern': 4747, 'feast': 4748, 'breakfast': 4749, 'antholog': 4750, 'isra': 4751, 'mason': 4752, 'foil': 4753, 'pc': 4754, 'rooki': 4755, 'toronto': 4756, 'lucil': 4757, 'razor': 4758, 'http': 4759, 'holocaust': 4760, 'misfortun': 4761, 'orphan': 4762, 'venom': 4763, 'illus': 4764, 'choke': 4765, 'articl': 4766, 'token': 4767, 'lui': 4768, 'sicken': 4769, 'static': 4770, 'blatantli': 4771, 'legitim': 4772, 'electron': 4773, 'milo': 4774, 'mathieu': 4775, 'cartoonish': 4776, 'styliz': 4777, 'boyer': 4778, 'smack': 4779, 'feminin': 4780, 'abund': 4781, 'affleck': 4782, 'fifth': 4783, 'magician': 4784, 'peer': 4785, 'huston': 4786, 'swept': 4787, 'deem': 4788, 'nightclub': 4789, 'ideolog': 4790, 'disregard': 4791, 'leather': 4792, 'gilbert': 4793, 'turd': 4794, 'glare': 4795, 'gunga': 4796, 'wrestler': 4797, 'linear': 4798, 'audrey': 4799, 'highway': 4800, 'knightley': 4801, 'shorter': 4802, 'psych': 4803, 'howl': 4804, 'clinic': 4805, 'dudley': 4806, 'tack': 4807, 'comprehend': 4808, 'oppon': 4809, 'charlton': 4810, 'retriev': 4811, 'frog': 4812, 'outdat': 4813, 'ceremoni': 4814, 'potter': 4815, 'btw': 4816, 'summar': 4817, 'chip': 4818, 'einstein': 4819, 'senat': 4820, 'braveheart': 4821, 'mitch': 4822, 'whack': 4823, 'newer': 4824, 'cuban': 4825, 'snatch': 4826, 'moe': 4827, 'bogu': 4828, 'corn': 4829, 'tara': 4830, 'boo': 4831, 'evolut': 4832, 'bastard': 4833, 'sleaz': 4834, 'spine': 4835, 'phenomen': 4836, 'durat': 4837, 'greet': 4838, 'lighter': 4839, 'energet': 4840, 'breakdown': 4841, '1994': 4842, 'lifeless': 4843, 'conrad': 4844, 'monument': 4845, 'uniformli': 4846, 'toe': 4847, 'spawn': 4848, 'collector': 4849, 'plate': 4850, 'cemeteri': 4851, 'lavish': 4852, 'client': 4853, '4th': 4854, '1991': 4855, 'deliver': 4856, 'compris': 4857, 'goldsworthi': 4858, 'salman': 4859, '1974': 4860, 'armstrong': 4861, 'randolph': 4862, 'jule': 4863, 'replay': 4864, 'signal': 4865, 'jam': 4866, 'eleven': 4867, 'liu': 4868, 'trauma': 4869, 'lex': 4870, 'inaccuraci': 4871, 'fluid': 4872, 'embark': 4873, 'healthi': 4874, 'capot': 4875, 'spectacl': 4876, 'constitut': 4877, 'undertak': 4878, 'sorrow': 4879, 'bulk': 4880, 'judd': 4881, 'jare': 4882, 'ie': 4883, 'neatli': 4884, 'occup': 4885, 'luxuri': 4886, 'pronounc': 4887, 'alleg': 4888, 'bori': 4889, 'kent': 4890, 'belli': 4891, 'mcqueen': 4892, 'creek': 4893, 'wtf': 4894, 'evelyn': 4895, 'historian': 4896, 'appl': 4897, 'outright': 4898, 'clara': 4899, 'firmli': 4900, 'cecil': 4901, 'undead': 4902, 'gilliam': 4903, 'nina': 4904, '1977': 4905, 'ol': 4906, 'kazan': 4907, 'jedi': 4908, 'vignett': 4909, 'subtli': 4910, 'lauren': 4911, 'abound': 4912, 'inclus': 4913, 'lanc': 4914, 'mum': 4915, 'porter': 4916, 'carmen': 4917, 'antonio': 4918, 'id': 4919, 'knee': 4920, 'meal': 4921, 'pepper': 4922, 'comprehens': 4923, 'vain': 4924, 'unsuspect': 4925, 'inaccur': 4926, 'miami': 4927, 'forgiven': 4928, 'kiddi': 4929, 'palm': 4930, 'walt': 4931, 'truman': 4932, 'blur': 4933, 'fruit': 4934, 'roar': 4935, 'unattract': 4936, 'sacrif': 4937, '1985': 4938, 'tokyo': 4939, 'genet': 4940, 'relentless': 4941, 'miniseri': 4942, 'decapit': 4943, 'comb': 4944, 'conan': 4945, 'basket': 4946, 'congratul': 4947, 'groan': 4948, 'cape': 4949, 'curtain': 4950, 'bait': 4951, 'aussi': 4952, 'propheci': 4953, 'ash': 4954, 'spray': 4955, 'pioneer': 4956, 'paula': 4957, 'sidewalk': 4958, 'galaxi': 4959, 'goldblum': 4960, 'poker': 4961, 'rosario': 4962, 'bsg': 4963, 'profil': 4964, 'masterson': 4965, 'growth': 4966, 'assort': 4967, 'dubiou': 4968, 'frontal': 4969, 'substanti': 4970, 'verg': 4971, 'spill': 4972, 'scarfac': 4973, 'orchestr': 4974, 'drone': 4975, 'vastli': 4976, 'weari': 4977, 'hostil': 4978, 'sparkl': 4979, 'monti': 4980, 'handicap': 4981, 'modest': 4982, 'asset': 4983, 'ingrid': 4984, 'epitom': 4985, 'reincarn': 4986, 'optimist': 4987, 'sophi': 4988, 'evan': 4989, 'playboy': 4990, 'macabr': 4991, 'cypher': 4992, 'ghetto': 4993, 'weaker': 4994, 'mice': 4995, 'turtl': 4996, 'motorcycl': 4997, 'detach': 4998, 'hackman': 4999}\n"
     ]
    }
   ],
   "source": [
    "# TODO: Use this space to determine the five most frequently appearing words in the training set.\n",
    "print(word_dict)\n"
   ]
  },
  {
   "cell_type": "markdown",
   "metadata": {},
   "source": [
    "### Save `word_dict`\n",
    "\n",
    "Later on when we construct an endpoint which processes a submitted review we will need to make use of the `word_dict` which we have created. As such, we will save it to a file now for future use."
   ]
  },
  {
   "cell_type": "code",
   "execution_count": 18,
   "metadata": {},
   "outputs": [],
   "source": [
    "data_dir = '../data/pytorch' # The folder we will use for storing data\n",
    "if not os.path.exists(data_dir): # Make sure that the folder exists\n",
    "    os.makedirs(data_dir)"
   ]
  },
  {
   "cell_type": "code",
   "execution_count": 19,
   "metadata": {},
   "outputs": [],
   "source": [
    "with open(os.path.join(data_dir, 'word_dict.pkl'), \"wb\") as f:\n",
    "    pickle.dump(word_dict, f)"
   ]
  },
  {
   "cell_type": "markdown",
   "metadata": {},
   "source": [
    "### Transform the reviews\n",
    "\n",
    "Now that we have our word dictionary which allows us to transform the words appearing in the reviews into integers, it is time to make use of it and convert our reviews to their integer sequence representation, making sure to pad or truncate to a fixed length, which in our case is `500`."
   ]
  },
  {
   "cell_type": "code",
   "execution_count": 20,
   "metadata": {},
   "outputs": [],
   "source": [
    "def convert_and_pad(word_dict, sentence, pad=500):\n",
    "    NOWORD = 0 # We will use 0 to represent the 'no word' category\n",
    "    INFREQ = 1 # and we use 1 to represent the infrequent words, i.e., words not appearing in word_dict\n",
    "    \n",
    "    working_sentence = [NOWORD] * pad\n",
    "    \n",
    "    for word_index, word in enumerate(sentence[:pad]):\n",
    "        if word in word_dict:\n",
    "            working_sentence[word_index] = word_dict[word]\n",
    "        else:\n",
    "            working_sentence[word_index] = INFREQ\n",
    "            \n",
    "    return working_sentence, min(len(sentence), pad)\n",
    "\n",
    "def convert_and_pad_data(word_dict, data, pad=500):\n",
    "    result = []\n",
    "    lengths = []\n",
    "    \n",
    "    for sentence in data:\n",
    "        converted, leng = convert_and_pad(word_dict, sentence, pad)\n",
    "        result.append(converted)\n",
    "        lengths.append(leng)\n",
    "        \n",
    "    return np.array(result), np.array(lengths)"
   ]
  },
  {
   "cell_type": "code",
   "execution_count": 21,
   "metadata": {},
   "outputs": [],
   "source": [
    "train_X, train_X_len = convert_and_pad_data(word_dict, train_X)\n",
    "test_X, test_X_len = convert_and_pad_data(word_dict, test_X)"
   ]
  },
  {
   "cell_type": "markdown",
   "metadata": {},
   "source": [
    "As a quick check to make sure that things are working as intended, check to see what one of the reviews in the training set looks like after having been processeed. Does this look reasonable? What is the length of a review in the training set?"
   ]
  },
  {
   "cell_type": "code",
   "execution_count": 22,
   "metadata": {},
   "outputs": [
    {
     "data": {
      "text/plain": [
       "array([2245,    1,   59,  157,  532,   19,    5,  143, 2452, 1252, 1476,\n",
       "        689,  574,  414,  167,    1,    6, 1976,  704,    1,    1,    1,\n",
       "        269,   49, 2452,  762,   17,   24,   10,  151,  158, 1298,    1,\n",
       "        269, 4592,  414, 1096,  713,  186, 1215,    3,  163,    1,    1,\n",
       "       2378,  262,  230,  770, 4641, 1613,  128,  414, 4506,   48,  246,\n",
       "        231,   10,  268, 1225,    1,    1,  648,    1,    1,   30, 1453,\n",
       "          1, 1161, 1229,  263,  924, 2311,  290,   84,   18,  187,    4,\n",
       "          1,    1, 2776,  709, 2885,   37,  591,   18, 1871, 2353, 2453,\n",
       "        351,   17,  249,  309,   85, 4327, 1708, 3199,  226,    5, 1060,\n",
       "       2749,    1,    5,  346,  769, 1026,  282,   85, 3497,    1,  412,\n",
       "          2,  106,    7,  142,   49,  552, 3380,  720,  348,  156,    3,\n",
       "         36,  252,  239, 4823, 1028,  114,   19,    5,   70, 1243, 3053,\n",
       "        100,  358,   69,  160, 3465,   31,  197,   27,  281, 1655, 3859,\n",
       "        720,  288, 1843,   19,    5, 1303,   26,    1, 4476, 1438,  116,\n",
       "        934,  877,    3,  407,   83,    0,    0,    0,    0,    0,    0,\n",
       "          0,    0,    0,    0,    0,    0,    0,    0,    0,    0,    0,\n",
       "          0,    0,    0,    0,    0,    0,    0,    0,    0,    0,    0,\n",
       "          0,    0,    0,    0,    0,    0,    0,    0,    0,    0,    0,\n",
       "          0,    0,    0,    0,    0,    0,    0,    0,    0,    0,    0,\n",
       "          0,    0,    0,    0,    0,    0,    0,    0,    0,    0,    0,\n",
       "          0,    0,    0,    0,    0,    0,    0,    0,    0,    0,    0,\n",
       "          0,    0,    0,    0,    0,    0,    0,    0,    0,    0,    0,\n",
       "          0,    0,    0,    0,    0,    0,    0,    0,    0,    0,    0,\n",
       "          0,    0,    0,    0,    0,    0,    0,    0,    0,    0,    0,\n",
       "          0,    0,    0,    0,    0,    0,    0,    0,    0,    0,    0,\n",
       "          0,    0,    0,    0,    0,    0,    0,    0,    0,    0,    0,\n",
       "          0,    0,    0,    0,    0,    0,    0,    0,    0,    0,    0,\n",
       "          0,    0,    0,    0,    0,    0,    0,    0,    0,    0,    0,\n",
       "          0,    0,    0,    0,    0,    0,    0,    0,    0,    0,    0,\n",
       "          0,    0,    0,    0,    0,    0,    0,    0,    0,    0,    0,\n",
       "          0,    0,    0,    0,    0,    0,    0,    0,    0,    0,    0,\n",
       "          0,    0,    0,    0,    0,    0,    0,    0,    0,    0,    0,\n",
       "          0,    0,    0,    0,    0,    0,    0,    0,    0,    0,    0,\n",
       "          0,    0,    0,    0,    0,    0,    0,    0,    0,    0,    0,\n",
       "          0,    0,    0,    0,    0,    0,    0,    0,    0,    0,    0,\n",
       "          0,    0,    0,    0,    0,    0,    0,    0,    0,    0,    0,\n",
       "          0,    0,    0,    0,    0,    0,    0,    0,    0,    0,    0,\n",
       "          0,    0,    0,    0,    0,    0,    0,    0,    0,    0,    0,\n",
       "          0,    0,    0,    0,    0,    0,    0,    0,    0,    0,    0,\n",
       "          0,    0,    0,    0,    0,    0,    0,    0,    0,    0,    0,\n",
       "          0,    0,    0,    0,    0,    0,    0,    0,    0,    0,    0,\n",
       "          0,    0,    0,    0,    0,    0,    0,    0,    0,    0,    0,\n",
       "          0,    0,    0,    0,    0,    0,    0,    0,    0,    0,    0,\n",
       "          0,    0,    0,    0,    0,    0,    0,    0,    0,    0,    0,\n",
       "          0,    0,    0,    0,    0,    0,    0,    0,    0,    0,    0,\n",
       "          0,    0,    0,    0,    0])"
      ]
     },
     "execution_count": 22,
     "metadata": {},
     "output_type": "execute_result"
    }
   ],
   "source": [
    "# Use this cell to examine one of the processed reviews to make sure everything is working as intended.\n",
    "train_X[100]"
   ]
  },
  {
   "cell_type": "markdown",
   "metadata": {},
   "source": [
    "**Question:** In the cells above we use the `preprocess_data` and `convert_and_pad_data` methods to process both the training and testing set. Why or why not might this be a problem?"
   ]
  },
  {
   "cell_type": "markdown",
   "metadata": {},
   "source": [
    "**Answer:** It checks out if the words is apperaing in the word_dict and make input vectos have the same size"
   ]
  },
  {
   "cell_type": "markdown",
   "metadata": {},
   "source": [
    "## Step 3: Upload the data to S3\n",
    "\n",
    "As in the XGBoost notebook, we will need to upload the training dataset to S3 in order for our training code to access it. For now we will save it locally and we will upload to S3 later on.\n",
    "\n",
    "### Save the processed training dataset locally\n",
    "\n",
    "It is important to note the format of the data that we are saving as we will need to know it when we write the training code. In our case, each row of the dataset has the form `label`, `length`, `review[500]` where `review[500]` is a sequence of `500` integers representing the words in the review."
   ]
  },
  {
   "cell_type": "code",
   "execution_count": 23,
   "metadata": {},
   "outputs": [],
   "source": [
    "import pandas as pd\n",
    "    \n",
    "pd.concat([pd.DataFrame(train_y), pd.DataFrame(train_X_len), pd.DataFrame(train_X)], axis=1) \\\n",
    "        .to_csv(os.path.join(data_dir, 'train.csv'), header=False, index=False)"
   ]
  },
  {
   "cell_type": "markdown",
   "metadata": {},
   "source": [
    "### Uploading the training data\n",
    "\n",
    "\n",
    "Next, we need to upload the training data to the SageMaker default S3 bucket so that we can provide access to it while training our model."
   ]
  },
  {
   "cell_type": "code",
   "execution_count": 24,
   "metadata": {},
   "outputs": [],
   "source": [
    "import sagemaker\n",
    "\n",
    "sagemaker_session = sagemaker.Session()\n",
    "\n",
    "bucket = sagemaker_session.default_bucket()\n",
    "prefix = 'sagemaker/sentiment_rnn'\n",
    "\n",
    "role = sagemaker.get_execution_role()"
   ]
  },
  {
   "cell_type": "code",
   "execution_count": 25,
   "metadata": {},
   "outputs": [],
   "source": [
    "input_data = sagemaker_session.upload_data(path=data_dir, bucket=bucket, key_prefix=prefix)"
   ]
  },
  {
   "cell_type": "markdown",
   "metadata": {},
   "source": [
    "**NOTE:** The cell above uploads the entire contents of our data directory. This includes the `word_dict.pkl` file. This is fortunate as we will need this later on when we create an endpoint that accepts an arbitrary review. For now, we will just take note of the fact that it resides in the data directory (and so also in the S3 training bucket) and that we will need to make sure it gets saved in the model directory."
   ]
  },
  {
   "cell_type": "markdown",
   "metadata": {},
   "source": [
    "## Step 4: Build and Train the PyTorch Model\n",
    "\n",
    "In the XGBoost notebook we discussed what a model is in the SageMaker framework. In particular, a model comprises three objects\n",
    "\n",
    " - Model Artifacts,\n",
    " - Training Code, and\n",
    " - Inference Code,\n",
    " \n",
    "each of which interact with one another. In the XGBoost example we used training and inference code that was provided by Amazon. Here we will still be using containers provided by Amazon with the added benefit of being able to include our own custom code.\n",
    "\n",
    "We will start by implementing our own neural network in PyTorch along with a training script. For the purposes of this project we have provided the necessary model object in the `model.py` file, inside of the `train` folder. You can see the provided implementation by running the cell below."
   ]
  },
  {
   "cell_type": "code",
   "execution_count": 26,
   "metadata": {},
   "outputs": [
    {
     "name": "stdout",
     "output_type": "stream",
     "text": [
      "\u001b[34mimport\u001b[39;49;00m \u001b[04m\u001b[36mtorch\u001b[39;49;00m\u001b[04m\u001b[36m.\u001b[39;49;00m\u001b[04m\u001b[36mnn\u001b[39;49;00m \u001b[34mas\u001b[39;49;00m \u001b[04m\u001b[36mnn\u001b[39;49;00m\r\n",
      "\r\n",
      "\u001b[34mclass\u001b[39;49;00m \u001b[04m\u001b[32mLSTMClassifier\u001b[39;49;00m(nn.Module):\r\n",
      "    \u001b[33m\"\"\"\u001b[39;49;00m\r\n",
      "\u001b[33m    This is the simple RNN model we will be using to perform Sentiment Analysis.\u001b[39;49;00m\r\n",
      "\u001b[33m    \"\"\"\u001b[39;49;00m\r\n",
      "\r\n",
      "    \u001b[34mdef\u001b[39;49;00m \u001b[32m__init__\u001b[39;49;00m(\u001b[36mself\u001b[39;49;00m, embedding_dim, hidden_dim, vocab_size):\r\n",
      "        \u001b[33m\"\"\"\u001b[39;49;00m\r\n",
      "\u001b[33m        Initialize the model by settingg up the various layers.\u001b[39;49;00m\r\n",
      "\u001b[33m        \"\"\"\u001b[39;49;00m\r\n",
      "        \u001b[36msuper\u001b[39;49;00m(LSTMClassifier, \u001b[36mself\u001b[39;49;00m).\u001b[32m__init__\u001b[39;49;00m()\r\n",
      "\r\n",
      "        \u001b[36mself\u001b[39;49;00m.embedding = nn.Embedding(vocab_size, embedding_dim, padding_idx=\u001b[34m0\u001b[39;49;00m)\r\n",
      "        \u001b[36mself\u001b[39;49;00m.lstm = nn.LSTM(embedding_dim, hidden_dim)\r\n",
      "        \u001b[36mself\u001b[39;49;00m.dense = nn.Linear(in_features=hidden_dim, out_features=\u001b[34m1\u001b[39;49;00m)\r\n",
      "        \u001b[36mself\u001b[39;49;00m.sig = nn.Sigmoid()\r\n",
      "        \r\n",
      "        \u001b[36mself\u001b[39;49;00m.word_dict = \u001b[34mNone\u001b[39;49;00m\r\n",
      "\r\n",
      "    \u001b[34mdef\u001b[39;49;00m \u001b[32mforward\u001b[39;49;00m(\u001b[36mself\u001b[39;49;00m, x):\r\n",
      "        \u001b[33m\"\"\"\u001b[39;49;00m\r\n",
      "\u001b[33m        Perform a forward pass of our model on some input.\u001b[39;49;00m\r\n",
      "\u001b[33m        \"\"\"\u001b[39;49;00m\r\n",
      "        x = x.t()\r\n",
      "        lengths = x[\u001b[34m0\u001b[39;49;00m,:]\r\n",
      "        reviews = x[\u001b[34m1\u001b[39;49;00m:,:]\r\n",
      "        embeds = \u001b[36mself\u001b[39;49;00m.embedding(reviews)\r\n",
      "        lstm_out, _ = \u001b[36mself\u001b[39;49;00m.lstm(embeds)\r\n",
      "        out = \u001b[36mself\u001b[39;49;00m.dense(lstm_out)\r\n",
      "        out = out[lengths - \u001b[34m1\u001b[39;49;00m, \u001b[36mrange\u001b[39;49;00m(\u001b[36mlen\u001b[39;49;00m(lengths))]\r\n",
      "        \u001b[34mreturn\u001b[39;49;00m \u001b[36mself\u001b[39;49;00m.sig(out.squeeze())\r\n"
     ]
    }
   ],
   "source": [
    "!pygmentize train/model.py"
   ]
  },
  {
   "cell_type": "markdown",
   "metadata": {},
   "source": [
    "The important takeaway from the implementation provided is that there are three parameters that we may wish to tweak to improve the performance of our model. These are the embedding dimension, the hidden dimension and the size of the vocabulary. We will likely want to make these parameters configurable in the training script so that if we wish to modify them we do not need to modify the script itself. We will see how to do this later on. To start we will write some of the training code in the notebook so that we can more easily diagnose any issues that arise.\n",
    "\n",
    "First we will load a small portion of the training data set to use as a sample. It would be very time consuming to try and train the model completely in the notebook as we do not have access to a gpu and the compute instance that we are using is not particularly powerful. However, we can work on a small bit of the data to get a feel for how our training script is behaving."
   ]
  },
  {
   "cell_type": "code",
   "execution_count": 27,
   "metadata": {},
   "outputs": [],
   "source": [
    "import torch\n",
    "import torch.utils.data\n",
    "\n",
    "# Read in only the first 250 rows\n",
    "train_sample = pd.read_csv(os.path.join(data_dir, 'train.csv'), header=None, names=None, nrows=250)\n",
    "\n",
    "# Turn the input pandas dataframe into tensors\n",
    "train_sample_y = torch.from_numpy(train_sample[[0]].values).float().squeeze()\n",
    "train_sample_X = torch.from_numpy(train_sample.drop([0], axis=1).values).long()\n",
    "\n",
    "# Build the dataset\n",
    "train_sample_ds = torch.utils.data.TensorDataset(train_sample_X, train_sample_y)\n",
    "# Build the dataloader\n",
    "train_sample_dl = torch.utils.data.DataLoader(train_sample_ds, batch_size=50)"
   ]
  },
  {
   "cell_type": "markdown",
   "metadata": {},
   "source": [
    "### (TODO) Writing the training method\n",
    "\n",
    "Next we need to write the training code itself. This should be very similar to training methods that you have written before to train PyTorch models. We will leave any difficult aspects such as model saving / loading and parameter loading until a little later."
   ]
  },
  {
   "cell_type": "code",
   "execution_count": 28,
   "metadata": {},
   "outputs": [],
   "source": [
    "def train(model, train_loader, epochs, optimizer, loss_fn, device):\n",
    "    for epoch in range(1, epochs + 1):\n",
    "        model.train()\n",
    "        total_loss = 0\n",
    "        for batch in train_loader:         \n",
    "            batch_X, batch_y = batch\n",
    "            \n",
    "            batch_X = batch_X.to(device)\n",
    "            batch_y = batch_y.to(device)\n",
    "            \n",
    "            # TODO: Complete this train method to train the model provided.\n",
    "            optimizer.zero_grad()\n",
    "            output = model.forward(batch_X)\n",
    "            loss = loss_fn(output, batch_y)\n",
    "            loss.backward()\n",
    "            optimizer.step()\n",
    "            \n",
    "            total_loss += loss.data.item()\n",
    "        print(\"Epoch: {}, BCELoss: {}\".format(epoch, total_loss / len(train_loader)))"
   ]
  },
  {
   "cell_type": "markdown",
   "metadata": {},
   "source": [
    "Supposing we have the training method above, we will test that it is working by writing a bit of code in the notebook that executes our training method on the small sample training set that we loaded earlier. The reason for doing this in the notebook is so that we have an opportunity to fix any errors that arise early when they are easier to diagnose."
   ]
  },
  {
   "cell_type": "code",
   "execution_count": 29,
   "metadata": {},
   "outputs": [
    {
     "name": "stdout",
     "output_type": "stream",
     "text": [
      "Epoch: 1, BCELoss: 0.6973636269569397\n",
      "Epoch: 2, BCELoss: 0.6873036623001099\n",
      "Epoch: 3, BCELoss: 0.6795083522796631\n",
      "Epoch: 4, BCELoss: 0.6717368245124817\n",
      "Epoch: 5, BCELoss: 0.6629242897033691\n"
     ]
    }
   ],
   "source": [
    "import torch.optim as optim\n",
    "from train.model import LSTMClassifier\n",
    "\n",
    "device = torch.device(\"cuda\" if torch.cuda.is_available() else \"cpu\")\n",
    "model = LSTMClassifier(32, 100, 5000).to(device)\n",
    "optimizer = optim.Adam(model.parameters())\n",
    "loss_fn = torch.nn.BCELoss()\n",
    "\n",
    "train(model, train_sample_dl, 5, optimizer, loss_fn, device)"
   ]
  },
  {
   "cell_type": "markdown",
   "metadata": {},
   "source": [
    "In order to construct a PyTorch model using SageMaker we must provide SageMaker with a training script. We may optionally include a directory which will be copied to the container and from which our training code will be run. When the training container is executed it will check the uploaded directory (if there is one) for a `requirements.txt` file and install any required Python libraries, after which the training script will be run."
   ]
  },
  {
   "cell_type": "markdown",
   "metadata": {},
   "source": [
    "### (TODO) Training the model\n",
    "\n",
    "When a PyTorch model is constructed in SageMaker, an entry point must be specified. This is the Python file which will be executed when the model is trained. Inside of the `train` directory is a file called `train.py` which has been provided and which contains most of the necessary code to train our model. The only thing that is missing is the implementation of the `train()` method which you wrote earlier in this notebook.\n",
    "\n",
    "**TODO**: Copy the `train()` method written above and paste it into the `train/train.py` file where required.\n",
    "\n",
    "The way that SageMaker passes hyperparameters to the training script is by way of arguments. These arguments can then be parsed and used in the training script. To see how this is done take a look at the provided `train/train.py` file."
   ]
  },
  {
   "cell_type": "code",
   "execution_count": 41,
   "metadata": {},
   "outputs": [],
   "source": [
    "from sagemaker.pytorch import PyTorch\n",
    "\n",
    "estimator = PyTorch(entry_point=\"train.py\",\n",
    "                    source_dir=\"train\",\n",
    "                    role=role,\n",
    "                    framework_version='0.4.0',\n",
    "                    train_instance_count=1,\n",
    "                    train_instance_type='ml.m4.xlarge',\n",
    "                    hyperparameters={\n",
    "                        'epochs': 5,\n",
    "                        'hidden_dim': 200,\n",
    "                    })"
   ]
  },
  {
   "cell_type": "code",
   "execution_count": 42,
   "metadata": {},
   "outputs": [
    {
     "name": "stderr",
     "output_type": "stream",
     "text": [
      "'create_image_uri' will be deprecated in favor of 'ImageURIProvider' class in SageMaker Python SDK v2.\n",
      "'s3_input' class will be renamed to 'TrainingInput' in SageMaker Python SDK v2.\n",
      "'create_image_uri' will be deprecated in favor of 'ImageURIProvider' class in SageMaker Python SDK v2.\n"
     ]
    },
    {
     "name": "stdout",
     "output_type": "stream",
     "text": [
      "2021-01-14 22:00:20 Starting - Starting the training job...\n",
      "2021-01-14 22:00:22 Starting - Launching requested ML instances......\n",
      "2021-01-14 22:01:27 Starting - Preparing the instances for training......\n",
      "2021-01-14 22:02:51 Downloading - Downloading input data\n",
      "2021-01-14 22:02:51 Training - Downloading the training image...\n",
      "2021-01-14 22:03:12 Training - Training image download completed. Training in progress.\u001b[34mbash: cannot set terminal process group (-1): Inappropriate ioctl for device\u001b[0m\n",
      "\u001b[34mbash: no job control in this shell\u001b[0m\n",
      "\u001b[34m2021-01-14 22:03:13,385 sagemaker-containers INFO     Imported framework sagemaker_pytorch_container.training\u001b[0m\n",
      "\u001b[34m2021-01-14 22:03:13,387 sagemaker-containers INFO     No GPUs detected (normal if no gpus installed)\u001b[0m\n",
      "\u001b[34m2021-01-14 22:03:13,401 sagemaker_pytorch_container.training INFO     Block until all host DNS lookups succeed.\u001b[0m\n",
      "\u001b[34m2021-01-14 22:03:19,657 sagemaker_pytorch_container.training INFO     Invoking user training script.\u001b[0m\n",
      "\u001b[34m2021-01-14 22:03:19,973 sagemaker-containers INFO     Module train does not provide a setup.py. \u001b[0m\n",
      "\u001b[34mGenerating setup.py\u001b[0m\n",
      "\u001b[34m2021-01-14 22:03:19,974 sagemaker-containers INFO     Generating setup.cfg\u001b[0m\n",
      "\u001b[34m2021-01-14 22:03:19,974 sagemaker-containers INFO     Generating MANIFEST.in\u001b[0m\n",
      "\u001b[34m2021-01-14 22:03:19,974 sagemaker-containers INFO     Installing module with the following command:\u001b[0m\n",
      "\u001b[34m/usr/bin/python -m pip install -U . -r requirements.txt\u001b[0m\n",
      "\u001b[34mProcessing /opt/ml/code\u001b[0m\n",
      "\u001b[34mCollecting pandas (from -r requirements.txt (line 1))\u001b[0m\n",
      "\u001b[34m  Downloading https://files.pythonhosted.org/packages/74/24/0cdbf8907e1e3bc5a8da03345c23cbed7044330bb8f73bb12e711a640a00/pandas-0.24.2-cp35-cp35m-manylinux1_x86_64.whl (10.0MB)\u001b[0m\n",
      "\u001b[34mCollecting numpy (from -r requirements.txt (line 2))\u001b[0m\n",
      "\u001b[34m  Downloading https://files.pythonhosted.org/packages/b5/36/88723426b4ff576809fec7d73594fe17a35c27f8d01f93637637a29ae25b/numpy-1.18.5-cp35-cp35m-manylinux1_x86_64.whl (19.9MB)\u001b[0m\n",
      "\u001b[34mCollecting nltk (from -r requirements.txt (line 3))\n",
      "  Downloading https://files.pythonhosted.org/packages/92/75/ce35194d8e3022203cca0d2f896dbb88689f9b3fce8e9f9cff942913519d/nltk-3.5.zip (1.4MB)\u001b[0m\n",
      "\u001b[34mCollecting beautifulsoup4 (from -r requirements.txt (line 4))\n",
      "  Downloading https://files.pythonhosted.org/packages/d1/41/e6495bd7d3781cee623ce23ea6ac73282a373088fcd0ddc809a047b18eae/beautifulsoup4-4.9.3-py3-none-any.whl (115kB)\u001b[0m\n",
      "\u001b[34mCollecting html5lib (from -r requirements.txt (line 5))\n",
      "  Downloading https://files.pythonhosted.org/packages/6c/dd/a834df6482147d48e225a49515aabc28974ad5a4ca3215c18a882565b028/html5lib-1.1-py2.py3-none-any.whl (112kB)\u001b[0m\n",
      "\u001b[34mRequirement already satisfied, skipping upgrade: python-dateutil>=2.5.0 in /usr/local/lib/python3.5/dist-packages (from pandas->-r requirements.txt (line 1)) (2.7.5)\u001b[0m\n",
      "\u001b[34mCollecting pytz>=2011k (from pandas->-r requirements.txt (line 1))\n",
      "  Downloading https://files.pythonhosted.org/packages/89/06/2c2d3034b4d6bf22f2a4ae546d16925898658a33b4400cfb7e2c1e2871a3/pytz-2020.5-py2.py3-none-any.whl (510kB)\u001b[0m\n",
      "\u001b[34mRequirement already satisfied, skipping upgrade: click in /usr/local/lib/python3.5/dist-packages (from nltk->-r requirements.txt (line 3)) (7.0)\u001b[0m\n",
      "\u001b[34mCollecting joblib (from nltk->-r requirements.txt (line 3))\u001b[0m\n",
      "\u001b[34m  Downloading https://files.pythonhosted.org/packages/28/5c/cf6a2b65a321c4a209efcdf64c2689efae2cb62661f8f6f4bb28547cf1bf/joblib-0.14.1-py2.py3-none-any.whl (294kB)\u001b[0m\n",
      "\u001b[34mCollecting regex (from nltk->-r requirements.txt (line 3))\n",
      "  Downloading https://files.pythonhosted.org/packages/2e/e4/3447fed9ab29944333f48730ecff4dca92f0868c5b188d6ab2b2078e32c2/regex-2020.11.13.tar.gz (694kB)\u001b[0m\n",
      "\u001b[34mCollecting tqdm (from nltk->-r requirements.txt (line 3))\n",
      "  Downloading https://files.pythonhosted.org/packages/80/02/8f8880a4fd6625461833abcf679d4c12a44c76f9925f92bf212bb6cefaad/tqdm-4.56.0-py2.py3-none-any.whl (72kB)\u001b[0m\n",
      "\u001b[34mCollecting soupsieve>1.2; python_version >= \"3.0\" (from beautifulsoup4->-r requirements.txt (line 4))\n",
      "  Downloading https://files.pythonhosted.org/packages/02/fb/1c65691a9aeb7bd6ac2aa505b84cb8b49ac29c976411c6ab3659425e045f/soupsieve-2.1-py3-none-any.whl\u001b[0m\n",
      "\u001b[34mRequirement already satisfied, skipping upgrade: six>=1.9 in /usr/local/lib/python3.5/dist-packages (from html5lib->-r requirements.txt (line 5)) (1.11.0)\u001b[0m\n",
      "\u001b[34mCollecting webencodings (from html5lib->-r requirements.txt (line 5))\n",
      "  Downloading https://files.pythonhosted.org/packages/f4/24/2a3e3df732393fed8b3ebf2ec078f05546de641fe1b667ee316ec1dcf3b7/webencodings-0.5.1-py2.py3-none-any.whl\u001b[0m\n",
      "\u001b[34mBuilding wheels for collected packages: nltk, train, regex\n",
      "  Running setup.py bdist_wheel for nltk: started\u001b[0m\n",
      "\u001b[34m  Running setup.py bdist_wheel for nltk: finished with status 'done'\n",
      "  Stored in directory: /root/.cache/pip/wheels/ae/8c/3f/b1fe0ba04555b08b57ab52ab7f86023639a526d8bc8d384306\n",
      "  Running setup.py bdist_wheel for train: started\n",
      "  Running setup.py bdist_wheel for train: finished with status 'done'\n",
      "  Stored in directory: /tmp/pip-ephem-wheel-cache-uygw8b0g/wheels/35/24/16/37574d11bf9bde50616c67372a334f94fa8356bc7164af8ca3\n",
      "  Running setup.py bdist_wheel for regex: started\u001b[0m\n",
      "\u001b[34m  Running setup.py bdist_wheel for regex: finished with status 'done'\n",
      "  Stored in directory: /root/.cache/pip/wheels/27/f6/66/a4243e485a0ebc73dc59033ae26c48e82526f77dbfe158ac59\u001b[0m\n",
      "\u001b[34mSuccessfully built nltk train regex\u001b[0m\n",
      "\u001b[34mInstalling collected packages: pytz, numpy, pandas, joblib, regex, tqdm, nltk, soupsieve, beautifulsoup4, webencodings, html5lib, train\n",
      "  Found existing installation: numpy 1.15.4\n",
      "    Uninstalling numpy-1.15.4:\u001b[0m\n",
      "\u001b[34m      Successfully uninstalled numpy-1.15.4\u001b[0m\n",
      "\u001b[34mSuccessfully installed beautifulsoup4-4.9.3 html5lib-1.1 joblib-0.14.1 nltk-3.5 numpy-1.18.5 pandas-0.24.2 pytz-2020.5 regex-2020.11.13 soupsieve-2.1 tqdm-4.56.0 train-1.0.0 webencodings-0.5.1\u001b[0m\n",
      "\u001b[34mYou are using pip version 18.1, however version 20.3.3 is available.\u001b[0m\n",
      "\u001b[34mYou should consider upgrading via the 'pip install --upgrade pip' command.\u001b[0m\n",
      "\u001b[34m2021-01-14 22:03:43,554 sagemaker-containers INFO     No GPUs detected (normal if no gpus installed)\u001b[0m\n",
      "\u001b[34m2021-01-14 22:03:43,568 sagemaker-containers INFO     Invoking user script\n",
      "\u001b[0m\n",
      "\u001b[34mTraining Env:\n",
      "\u001b[0m\n",
      "\u001b[34m{\n",
      "    \"output_data_dir\": \"/opt/ml/output/data\",\n",
      "    \"num_cpus\": 4,\n",
      "    \"module_name\": \"train\",\n",
      "    \"model_dir\": \"/opt/ml/model\",\n",
      "    \"input_dir\": \"/opt/ml/input\",\n",
      "    \"output_intermediate_dir\": \"/opt/ml/output/intermediate\",\n",
      "    \"log_level\": 20,\n",
      "    \"hyperparameters\": {\n",
      "        \"epochs\": 5,\n",
      "        \"hidden_dim\": 200\n",
      "    },\n",
      "    \"additional_framework_parameters\": {},\n",
      "    \"current_host\": \"algo-1\",\n",
      "    \"input_data_config\": {\n",
      "        \"training\": {\n",
      "            \"TrainingInputMode\": \"File\",\n",
      "            \"RecordWrapperType\": \"None\",\n",
      "            \"S3DistributionType\": \"FullyReplicated\"\n",
      "        }\n",
      "    },\n",
      "    \"num_gpus\": 0,\n",
      "    \"hosts\": [\n",
      "        \"algo-1\"\n",
      "    ],\n",
      "    \"resource_config\": {\n",
      "        \"hosts\": [\n",
      "            \"algo-1\"\n",
      "        ],\n",
      "        \"current_host\": \"algo-1\",\n",
      "        \"network_interface_name\": \"eth0\"\n",
      "    },\n",
      "    \"output_dir\": \"/opt/ml/output\",\n",
      "    \"module_dir\": \"s3://sagemaker-us-east-2-188023696677/sagemaker-pytorch-2021-01-14-22-00-20-120/source/sourcedir.tar.gz\",\n",
      "    \"job_name\": \"sagemaker-pytorch-2021-01-14-22-00-20-120\",\n",
      "    \"network_interface_name\": \"eth0\",\n",
      "    \"channel_input_dirs\": {\n",
      "        \"training\": \"/opt/ml/input/data/training\"\n",
      "    },\n",
      "    \"framework_module\": \"sagemaker_pytorch_container.training:main\",\n",
      "    \"user_entry_point\": \"train.py\",\n",
      "    \"input_config_dir\": \"/opt/ml/input/config\"\u001b[0m\n",
      "\u001b[34m}\n",
      "\u001b[0m\n",
      "\u001b[34mEnvironment variables:\n",
      "\u001b[0m\n",
      "\u001b[34mSM_USER_ARGS=[\"--epochs\",\"5\",\"--hidden_dim\",\"200\"]\u001b[0m\n",
      "\u001b[34mSM_FRAMEWORK_PARAMS={}\u001b[0m\n",
      "\u001b[34mPYTHONPATH=/usr/local/bin:/usr/lib/python35.zip:/usr/lib/python3.5:/usr/lib/python3.5/plat-x86_64-linux-gnu:/usr/lib/python3.5/lib-dynload:/usr/local/lib/python3.5/dist-packages:/usr/lib/python3/dist-packages\u001b[0m\n",
      "\u001b[34mSM_MODEL_DIR=/opt/ml/model\u001b[0m\n",
      "\u001b[34mSM_NUM_CPUS=4\u001b[0m\n",
      "\u001b[34mSM_HOSTS=[\"algo-1\"]\u001b[0m\n",
      "\u001b[34mSM_MODULE_DIR=s3://sagemaker-us-east-2-188023696677/sagemaker-pytorch-2021-01-14-22-00-20-120/source/sourcedir.tar.gz\u001b[0m\n",
      "\u001b[34mSM_INPUT_DATA_CONFIG={\"training\":{\"RecordWrapperType\":\"None\",\"S3DistributionType\":\"FullyReplicated\",\"TrainingInputMode\":\"File\"}}\u001b[0m\n",
      "\u001b[34mSM_CURRENT_HOST=algo-1\u001b[0m\n",
      "\u001b[34mSM_HP_HIDDEN_DIM=200\u001b[0m\n",
      "\u001b[34mSM_CHANNELS=[\"training\"]\u001b[0m\n",
      "\u001b[34mSM_INPUT_CONFIG_DIR=/opt/ml/input/config\u001b[0m\n",
      "\u001b[34mSM_MODULE_NAME=train\u001b[0m\n",
      "\u001b[34mSM_RESOURCE_CONFIG={\"current_host\":\"algo-1\",\"hosts\":[\"algo-1\"],\"network_interface_name\":\"eth0\"}\u001b[0m\n",
      "\u001b[34mSM_OUTPUT_DATA_DIR=/opt/ml/output/data\u001b[0m\n",
      "\u001b[34mSM_NUM_GPUS=0\u001b[0m\n",
      "\u001b[34mSM_TRAINING_ENV={\"additional_framework_parameters\":{},\"channel_input_dirs\":{\"training\":\"/opt/ml/input/data/training\"},\"current_host\":\"algo-1\",\"framework_module\":\"sagemaker_pytorch_container.training:main\",\"hosts\":[\"algo-1\"],\"hyperparameters\":{\"epochs\":5,\"hidden_dim\":200},\"input_config_dir\":\"/opt/ml/input/config\",\"input_data_config\":{\"training\":{\"RecordWrapperType\":\"None\",\"S3DistributionType\":\"FullyReplicated\",\"TrainingInputMode\":\"File\"}},\"input_dir\":\"/opt/ml/input\",\"job_name\":\"sagemaker-pytorch-2021-01-14-22-00-20-120\",\"log_level\":20,\"model_dir\":\"/opt/ml/model\",\"module_dir\":\"s3://sagemaker-us-east-2-188023696677/sagemaker-pytorch-2021-01-14-22-00-20-120/source/sourcedir.tar.gz\",\"module_name\":\"train\",\"network_interface_name\":\"eth0\",\"num_cpus\":4,\"num_gpus\":0,\"output_data_dir\":\"/opt/ml/output/data\",\"output_dir\":\"/opt/ml/output\",\"output_intermediate_dir\":\"/opt/ml/output/intermediate\",\"resource_config\":{\"current_host\":\"algo-1\",\"hosts\":[\"algo-1\"],\"network_interface_name\":\"eth0\"},\"user_entry_point\":\"train.py\"}\u001b[0m\n",
      "\u001b[34mSM_CHANNEL_TRAINING=/opt/ml/input/data/training\u001b[0m\n",
      "\u001b[34mSM_LOG_LEVEL=20\u001b[0m\n",
      "\u001b[34mSM_FRAMEWORK_MODULE=sagemaker_pytorch_container.training:main\u001b[0m\n",
      "\u001b[34mSM_OUTPUT_DIR=/opt/ml/output\u001b[0m\n",
      "\u001b[34mSM_OUTPUT_INTERMEDIATE_DIR=/opt/ml/output/intermediate\u001b[0m\n",
      "\u001b[34mSM_HPS={\"epochs\":5,\"hidden_dim\":200}\u001b[0m\n",
      "\u001b[34mSM_NETWORK_INTERFACE_NAME=eth0\u001b[0m\n",
      "\u001b[34mSM_USER_ENTRY_POINT=train.py\u001b[0m\n",
      "\u001b[34mSM_HP_EPOCHS=5\u001b[0m\n",
      "\u001b[34mSM_INPUT_DIR=/opt/ml/input\n",
      "\u001b[0m\n",
      "\u001b[34mInvoking script with the following command:\n",
      "\u001b[0m\n",
      "\u001b[34m/usr/bin/python -m train --epochs 5 --hidden_dim 200\n",
      "\n",
      "\u001b[0m\n",
      "\u001b[34mUsing device cpu.\u001b[0m\n",
      "\u001b[34mGet train data loader.\u001b[0m\n",
      "\u001b[34mModel loaded with embedding_dim 32, hidden_dim 200, vocab_size 5000.\u001b[0m\n",
      "\u001b[34mEpoch: 1, BCELoss: 0.668798357856517\u001b[0m\n",
      "\u001b[34mEpoch: 2, BCELoss: 0.5794044672226419\u001b[0m\n",
      "\u001b[34mEpoch: 3, BCELoss: 0.49439859755185184\u001b[0m\n",
      "\u001b[34mEpoch: 4, BCELoss: 0.4272042567632636\u001b[0m\n",
      "\u001b[34mEpoch: 5, BCELoss: 0.37576849424109166\u001b[0m\n",
      "\u001b[34m2021-01-14 23:03:13,278 sagemaker-containers INFO     Reporting training SUCCESS\u001b[0m\n",
      "\n",
      "2021-01-14 23:04:08 Uploading - Uploading generated training model\n",
      "2021-01-14 23:04:16 Completed - Training job completed\n",
      "Training seconds: 3705\n",
      "Billable seconds: 3705\n"
     ]
    }
   ],
   "source": [
    "estimator.fit({'training': input_data})"
   ]
  },
  {
   "cell_type": "markdown",
   "metadata": {},
   "source": [
    "## Step 5: Testing the model\n",
    "\n",
    "As mentioned at the top of this notebook, we will be testing this model by first deploying it and then sending the testing data to the deployed endpoint. We will do this so that we can make sure that the deployed model is working correctly.\n",
    "\n",
    "## Step 6: Deploy the model for testing\n",
    "\n",
    "Now that we have trained our model, we would like to test it to see how it performs. Currently our model takes input of the form `review_length, review[500]` where `review[500]` is a sequence of `500` integers which describe the words present in the review, encoded using `word_dict`. Fortunately for us, SageMaker provides built-in inference code for models with simple inputs such as this.\n",
    "\n",
    "There is one thing that we need to provide, however, and that is a function which loads the saved model. This function must be called `model_fn()` and takes as its only parameter a path to the directory where the model artifacts are stored. This function must also be present in the python file which we specified as the entry point. In our case the model loading function has been provided and so no changes need to be made.\n",
    "\n",
    "**NOTE**: When the built-in inference code is run it must import the `model_fn()` method from the `train.py` file. This is why the training code is wrapped in a main guard ( ie, `if __name__ == '__main__':` )\n",
    "\n",
    "Since we don't need to change anything in the code that was uploaded during training, we can simply deploy the current model as-is.\n",
    "\n",
    "**NOTE:** When deploying a model you are asking SageMaker to launch an compute instance that will wait for data to be sent to it. As a result, this compute instance will continue to run until *you* shut it down. This is important to know since the cost of a deployed endpoint depends on how long it has been running for.\n",
    "\n",
    "In other words **If you are no longer using a deployed endpoint, shut it down!**\n",
    "\n",
    "**TODO:** Deploy the trained model."
   ]
  },
  {
   "cell_type": "code",
   "execution_count": 43,
   "metadata": {},
   "outputs": [
    {
     "name": "stderr",
     "output_type": "stream",
     "text": [
      "Parameter image will be renamed to image_uri in SageMaker Python SDK v2.\n",
      "'create_image_uri' will be deprecated in favor of 'ImageURIProvider' class in SageMaker Python SDK v2.\n"
     ]
    },
    {
     "name": "stdout",
     "output_type": "stream",
     "text": [
      "---------------!"
     ]
    }
   ],
   "source": [
    "# TODO: Deploy the trained model\n",
    "predictor = estimator.deploy(initial_instance_count=1, instance_type='ml.m4.xlarge')"
   ]
  },
  {
   "cell_type": "markdown",
   "metadata": {},
   "source": [
    "## Step 7 - Use the model for testing\n",
    "\n",
    "Once deployed, we can read in the test data and send it off to our deployed model to get some results. Once we collect all of the results we can determine how accurate our model is."
   ]
  },
  {
   "cell_type": "code",
   "execution_count": 44,
   "metadata": {},
   "outputs": [],
   "source": [
    "test_X = pd.concat([pd.DataFrame(test_X_len), pd.DataFrame(test_X)], axis=1)"
   ]
  },
  {
   "cell_type": "code",
   "execution_count": 45,
   "metadata": {},
   "outputs": [],
   "source": [
    "# We split the data into chunks and send each chunk seperately, accumulating the results.\n",
    "\n",
    "def predict(data, rows=512):\n",
    "    split_array = np.array_split(data, int(data.shape[0] / float(rows) + 1))\n",
    "    predictions = np.array([])\n",
    "    for array in split_array:\n",
    "        predictions = np.append(predictions, predictor.predict(array))\n",
    "    \n",
    "    return predictions"
   ]
  },
  {
   "cell_type": "code",
   "execution_count": 46,
   "metadata": {},
   "outputs": [],
   "source": [
    "predictions = predict(test_X.values)\n",
    "predictions = [round(num) for num in predictions]"
   ]
  },
  {
   "cell_type": "code",
   "execution_count": 47,
   "metadata": {},
   "outputs": [
    {
     "data": {
      "text/plain": [
       "0.82956"
      ]
     },
     "execution_count": 47,
     "metadata": {},
     "output_type": "execute_result"
    }
   ],
   "source": [
    "from sklearn.metrics import accuracy_score\n",
    "accuracy_score(test_y, predictions)"
   ]
  },
  {
   "cell_type": "markdown",
   "metadata": {},
   "source": [
    "**Question:** How does this model compare to the XGBoost model you created earlier? Why might these two models perform differently on this dataset? Which do *you* think is better for sentiment analysis?"
   ]
  },
  {
   "cell_type": "markdown",
   "metadata": {},
   "source": [
    "**Answer:** I see both of them are performing well however, I think my model as designed by RNN and taking the consideration of the memory and pattern can perfrom better in sentiment analysis"
   ]
  },
  {
   "cell_type": "markdown",
   "metadata": {},
   "source": [
    "### (TODO) More testing\n",
    "\n",
    "We now have a trained model which has been deployed and which we can send processed reviews to and which returns the predicted sentiment. However, ultimately we would like to be able to send our model an unprocessed review. That is, we would like to send the review itself as a string. For example, suppose we wish to send the following review to our model."
   ]
  },
  {
   "cell_type": "code",
   "execution_count": 48,
   "metadata": {},
   "outputs": [],
   "source": [
    "test_review = 'The simplest pleasures in life are the best, and this film is one of them. Combining a rather basic storyline of love and adventure this movie transcends the usual weekend fair with wit and unmitigated charm.'"
   ]
  },
  {
   "cell_type": "markdown",
   "metadata": {},
   "source": [
    "The question we now need to answer is, how do we send this review to our model?\n",
    "\n",
    "Recall in the first section of this notebook we did a bunch of data processing to the IMDb dataset. In particular, we did two specific things to the provided reviews.\n",
    " - Removed any html tags and stemmed the input\n",
    " - Encoded the review as a sequence of integers using `word_dict`\n",
    " \n",
    "In order process the review we will need to repeat these two steps.\n",
    "\n",
    "**TODO**: Using the `review_to_words` and `convert_and_pad` methods from section one, convert `test_review` into a numpy array `test_data` suitable to send to our model. Remember that our model expects input of the form `review_length, review[500]`."
   ]
  },
  {
   "cell_type": "code",
   "execution_count": 49,
   "metadata": {},
   "outputs": [],
   "source": [
    "# TODO: Convert test_review into a form usable by the model and save the results in test_data\n",
    "#test_data= convert_and_pad(word_dict, review_to_words(test_review))\n",
    "test_data = [np.array(convert_and_pad(word_dict, review_to_words(test_review))[0])]"
   ]
  },
  {
   "cell_type": "markdown",
   "metadata": {},
   "source": [
    "Now that we have processed the review, we can send the resulting array to our model to predict the sentiment of the review."
   ]
  },
  {
   "cell_type": "code",
   "execution_count": 50,
   "metadata": {},
   "outputs": [
    {
     "data": {
      "text/plain": [
       "array(0.488423, dtype=float32)"
      ]
     },
     "execution_count": 50,
     "metadata": {},
     "output_type": "execute_result"
    }
   ],
   "source": [
    "predictor.predict(test_data)"
   ]
  },
  {
   "cell_type": "markdown",
   "metadata": {},
   "source": [
    "Since the return value of our model is close to `1`, we can be certain that the review we submitted is positive."
   ]
  },
  {
   "cell_type": "markdown",
   "metadata": {},
   "source": [
    "### Delete the endpoint\n",
    "\n",
    "Of course, just like in the XGBoost notebook, once we've deployed an endpoint it continues to run until we tell it to shut down. Since we are done using our endpoint for now, we can delete it."
   ]
  },
  {
   "cell_type": "code",
   "execution_count": 51,
   "metadata": {},
   "outputs": [
    {
     "name": "stderr",
     "output_type": "stream",
     "text": [
      "estimator.delete_endpoint() will be deprecated in SageMaker Python SDK v2. Please use the delete_endpoint() function on your predictor instead.\n"
     ]
    }
   ],
   "source": [
    "estimator.delete_endpoint()"
   ]
  },
  {
   "cell_type": "markdown",
   "metadata": {},
   "source": [
    "## Step 6 (again) - Deploy the model for the web app\n",
    "\n",
    "Now that we know that our model is working, it's time to create some custom inference code so that we can send the model a review which has not been processed and have it determine the sentiment of the review.\n",
    "\n",
    "As we saw above, by default the estimator which we created, when deployed, will use the entry script and directory which we provided when creating the model. However, since we now wish to accept a string as input and our model expects a processed review, we need to write some custom inference code.\n",
    "\n",
    "We will store the code that we write in the `serve` directory. Provided in this directory is the `model.py` file that we used to construct our model, a `utils.py` file which contains the `review_to_words` and `convert_and_pad` pre-processing functions which we used during the initial data processing, and `predict.py`, the file which will contain our custom inference code. Note also that `requirements.txt` is present which will tell SageMaker what Python libraries are required by our custom inference code.\n",
    "\n",
    "When deploying a PyTorch model in SageMaker, you are expected to provide four functions which the SageMaker inference container will use.\n",
    " - `model_fn`: This function is the same function that we used in the training script and it tells SageMaker how to load our model.\n",
    " - `input_fn`: This function receives the raw serialized input that has been sent to the model's endpoint and its job is to de-serialize and make the input available for the inference code.\n",
    " - `output_fn`: This function takes the output of the inference code and its job is to serialize this output and return it to the caller of the model's endpoint.\n",
    " - `predict_fn`: The heart of the inference script, this is where the actual prediction is done and is the function which you will need to complete.\n",
    "\n",
    "For the simple website that we are constructing during this project, the `input_fn` and `output_fn` methods are relatively straightforward. We only require being able to accept a string as input and we expect to return a single value as output. You might imagine though that in a more complex application the input or output may be image data or some other binary data which would require some effort to serialize.\n",
    "\n",
    "### (TODO) Writing inference code\n",
    "\n",
    "Before writing our custom inference code, we will begin by taking a look at the code which has been provided."
   ]
  },
  {
   "cell_type": "code",
   "execution_count": 52,
   "metadata": {},
   "outputs": [
    {
     "name": "stdout",
     "output_type": "stream",
     "text": [
      "\u001b[34mimport\u001b[39;49;00m \u001b[04m\u001b[36margparse\u001b[39;49;00m\r\n",
      "\u001b[34mimport\u001b[39;49;00m \u001b[04m\u001b[36mjson\u001b[39;49;00m\r\n",
      "\u001b[34mimport\u001b[39;49;00m \u001b[04m\u001b[36mos\u001b[39;49;00m\r\n",
      "\u001b[34mimport\u001b[39;49;00m \u001b[04m\u001b[36mpickle\u001b[39;49;00m\r\n",
      "\u001b[34mimport\u001b[39;49;00m \u001b[04m\u001b[36msys\u001b[39;49;00m\r\n",
      "\u001b[34mimport\u001b[39;49;00m \u001b[04m\u001b[36msagemaker_containers\u001b[39;49;00m\r\n",
      "\u001b[34mimport\u001b[39;49;00m \u001b[04m\u001b[36mpandas\u001b[39;49;00m \u001b[34mas\u001b[39;49;00m \u001b[04m\u001b[36mpd\u001b[39;49;00m\r\n",
      "\u001b[34mimport\u001b[39;49;00m \u001b[04m\u001b[36mnumpy\u001b[39;49;00m \u001b[34mas\u001b[39;49;00m \u001b[04m\u001b[36mnp\u001b[39;49;00m\r\n",
      "\u001b[34mimport\u001b[39;49;00m \u001b[04m\u001b[36mtorch\u001b[39;49;00m\r\n",
      "\u001b[34mimport\u001b[39;49;00m \u001b[04m\u001b[36mtorch\u001b[39;49;00m\u001b[04m\u001b[36m.\u001b[39;49;00m\u001b[04m\u001b[36mnn\u001b[39;49;00m \u001b[34mas\u001b[39;49;00m \u001b[04m\u001b[36mnn\u001b[39;49;00m\r\n",
      "\u001b[34mimport\u001b[39;49;00m \u001b[04m\u001b[36mtorch\u001b[39;49;00m\u001b[04m\u001b[36m.\u001b[39;49;00m\u001b[04m\u001b[36moptim\u001b[39;49;00m \u001b[34mas\u001b[39;49;00m \u001b[04m\u001b[36moptim\u001b[39;49;00m\r\n",
      "\u001b[34mimport\u001b[39;49;00m \u001b[04m\u001b[36mtorch\u001b[39;49;00m\u001b[04m\u001b[36m.\u001b[39;49;00m\u001b[04m\u001b[36mutils\u001b[39;49;00m\u001b[04m\u001b[36m.\u001b[39;49;00m\u001b[04m\u001b[36mdata\u001b[39;49;00m\r\n",
      "\r\n",
      "\u001b[34mfrom\u001b[39;49;00m \u001b[04m\u001b[36mmodel\u001b[39;49;00m \u001b[34mimport\u001b[39;49;00m LSTMClassifier\r\n",
      "\r\n",
      "\u001b[34mfrom\u001b[39;49;00m \u001b[04m\u001b[36mutils\u001b[39;49;00m \u001b[34mimport\u001b[39;49;00m review_to_words, convert_and_pad\r\n",
      "\r\n",
      "\u001b[34mdef\u001b[39;49;00m \u001b[32mmodel_fn\u001b[39;49;00m(model_dir):\r\n",
      "    \u001b[33m\"\"\"Load the PyTorch model from the `model_dir` directory.\"\"\"\u001b[39;49;00m\r\n",
      "    \u001b[36mprint\u001b[39;49;00m(\u001b[33m\"\u001b[39;49;00m\u001b[33mLoading model.\u001b[39;49;00m\u001b[33m\"\u001b[39;49;00m)\r\n",
      "\r\n",
      "    \u001b[37m# First, load the parameters used to create the model.\u001b[39;49;00m\r\n",
      "    model_info = {}\r\n",
      "    model_info_path = os.path.join(model_dir, \u001b[33m'\u001b[39;49;00m\u001b[33mmodel_info.pth\u001b[39;49;00m\u001b[33m'\u001b[39;49;00m)\r\n",
      "    \u001b[34mwith\u001b[39;49;00m \u001b[36mopen\u001b[39;49;00m(model_info_path, \u001b[33m'\u001b[39;49;00m\u001b[33mrb\u001b[39;49;00m\u001b[33m'\u001b[39;49;00m) \u001b[34mas\u001b[39;49;00m f:\r\n",
      "        model_info = torch.load(f)\r\n",
      "\r\n",
      "    \u001b[36mprint\u001b[39;49;00m(\u001b[33m\"\u001b[39;49;00m\u001b[33mmodel_info: \u001b[39;49;00m\u001b[33m{}\u001b[39;49;00m\u001b[33m\"\u001b[39;49;00m.format(model_info))\r\n",
      "\r\n",
      "    \u001b[37m# Determine the device and construct the model.\u001b[39;49;00m\r\n",
      "    device = torch.device(\u001b[33m\"\u001b[39;49;00m\u001b[33mcuda\u001b[39;49;00m\u001b[33m\"\u001b[39;49;00m \u001b[34mif\u001b[39;49;00m torch.cuda.is_available() \u001b[34melse\u001b[39;49;00m \u001b[33m\"\u001b[39;49;00m\u001b[33mcpu\u001b[39;49;00m\u001b[33m\"\u001b[39;49;00m)\r\n",
      "    model = LSTMClassifier(model_info[\u001b[33m'\u001b[39;49;00m\u001b[33membedding_dim\u001b[39;49;00m\u001b[33m'\u001b[39;49;00m], model_info[\u001b[33m'\u001b[39;49;00m\u001b[33mhidden_dim\u001b[39;49;00m\u001b[33m'\u001b[39;49;00m], model_info[\u001b[33m'\u001b[39;49;00m\u001b[33mvocab_size\u001b[39;49;00m\u001b[33m'\u001b[39;49;00m])\r\n",
      "\r\n",
      "    \u001b[37m# Load the store model parameters.\u001b[39;49;00m\r\n",
      "    model_path = os.path.join(model_dir, \u001b[33m'\u001b[39;49;00m\u001b[33mmodel.pth\u001b[39;49;00m\u001b[33m'\u001b[39;49;00m)\r\n",
      "    \u001b[34mwith\u001b[39;49;00m \u001b[36mopen\u001b[39;49;00m(model_path, \u001b[33m'\u001b[39;49;00m\u001b[33mrb\u001b[39;49;00m\u001b[33m'\u001b[39;49;00m) \u001b[34mas\u001b[39;49;00m f:\r\n",
      "        model.load_state_dict(torch.load(f))\r\n",
      "\r\n",
      "    \u001b[37m# Load the saved word_dict.\u001b[39;49;00m\r\n",
      "    word_dict_path = os.path.join(model_dir, \u001b[33m'\u001b[39;49;00m\u001b[33mword_dict.pkl\u001b[39;49;00m\u001b[33m'\u001b[39;49;00m)\r\n",
      "    \u001b[34mwith\u001b[39;49;00m \u001b[36mopen\u001b[39;49;00m(word_dict_path, \u001b[33m'\u001b[39;49;00m\u001b[33mrb\u001b[39;49;00m\u001b[33m'\u001b[39;49;00m) \u001b[34mas\u001b[39;49;00m f:\r\n",
      "        model.word_dict = pickle.load(f)\r\n",
      "\r\n",
      "    model.to(device).eval()\r\n",
      "\r\n",
      "    \u001b[36mprint\u001b[39;49;00m(\u001b[33m\"\u001b[39;49;00m\u001b[33mDone loading model.\u001b[39;49;00m\u001b[33m\"\u001b[39;49;00m)\r\n",
      "    \u001b[34mreturn\u001b[39;49;00m model\r\n",
      "\r\n",
      "\u001b[34mdef\u001b[39;49;00m \u001b[32minput_fn\u001b[39;49;00m(serialized_input_data, content_type):\r\n",
      "    \u001b[36mprint\u001b[39;49;00m(\u001b[33m'\u001b[39;49;00m\u001b[33mDeserializing the input data.\u001b[39;49;00m\u001b[33m'\u001b[39;49;00m)\r\n",
      "    \u001b[34mif\u001b[39;49;00m content_type == \u001b[33m'\u001b[39;49;00m\u001b[33mtext/plain\u001b[39;49;00m\u001b[33m'\u001b[39;49;00m:\r\n",
      "        data = serialized_input_data.decode(\u001b[33m'\u001b[39;49;00m\u001b[33mutf-8\u001b[39;49;00m\u001b[33m'\u001b[39;49;00m)\r\n",
      "        \u001b[34mreturn\u001b[39;49;00m data\r\n",
      "    \u001b[34mraise\u001b[39;49;00m \u001b[36mException\u001b[39;49;00m(\u001b[33m'\u001b[39;49;00m\u001b[33mRequested unsupported ContentType in content_type: \u001b[39;49;00m\u001b[33m'\u001b[39;49;00m + content_type)\r\n",
      "\r\n",
      "\u001b[34mdef\u001b[39;49;00m \u001b[32moutput_fn\u001b[39;49;00m(prediction_output, accept):\r\n",
      "    \u001b[36mprint\u001b[39;49;00m(\u001b[33m'\u001b[39;49;00m\u001b[33mSerializing the generated output.\u001b[39;49;00m\u001b[33m'\u001b[39;49;00m)\r\n",
      "    \u001b[34mreturn\u001b[39;49;00m \u001b[36mstr\u001b[39;49;00m(prediction_output)\r\n",
      "\r\n",
      "\u001b[34mdef\u001b[39;49;00m \u001b[32mpredict_fn\u001b[39;49;00m(input_data, model):\r\n",
      "    \u001b[36mprint\u001b[39;49;00m(\u001b[33m'\u001b[39;49;00m\u001b[33mInferring sentiment of input data.\u001b[39;49;00m\u001b[33m'\u001b[39;49;00m)\r\n",
      "\r\n",
      "    device = torch.device(\u001b[33m\"\u001b[39;49;00m\u001b[33mcuda\u001b[39;49;00m\u001b[33m\"\u001b[39;49;00m \u001b[34mif\u001b[39;49;00m torch.cuda.is_available() \u001b[34melse\u001b[39;49;00m \u001b[33m\"\u001b[39;49;00m\u001b[33mcpu\u001b[39;49;00m\u001b[33m\"\u001b[39;49;00m)\r\n",
      "    \r\n",
      "    \u001b[34mif\u001b[39;49;00m model.word_dict \u001b[35mis\u001b[39;49;00m \u001b[34mNone\u001b[39;49;00m:\r\n",
      "        \u001b[34mraise\u001b[39;49;00m \u001b[36mException\u001b[39;49;00m(\u001b[33m'\u001b[39;49;00m\u001b[33mModel has not been loaded properly, no word_dict.\u001b[39;49;00m\u001b[33m'\u001b[39;49;00m)\r\n",
      "    \r\n",
      "    \u001b[37m# TODO: Process input_data so that it is ready to be sent to our model.\u001b[39;49;00m\r\n",
      "    \u001b[37m#       You should produce two variables:\u001b[39;49;00m\r\n",
      "    \u001b[37m#         data_X   - A sequence of length 500 which represents the converted review\u001b[39;49;00m\r\n",
      "    \u001b[37m#         data_len - The length of the review\u001b[39;49;00m\r\n",
      "\r\n",
      "    input_words = review_to_words(input_data)\r\n",
      "    data_X, data_len = convert_and_pad(model.word_dict, input_words)\r\n",
      "    \r\n",
      "    \u001b[37m# Using data_X and data_len we construct an appropriate input tensor. Remember\u001b[39;49;00m\r\n",
      "    \u001b[37m# that our model expects input data of the form 'len, review[500]'.\u001b[39;49;00m\r\n",
      "    data_pack = np.hstack((data_len, data_X))\r\n",
      "    data_pack = data_pack.reshape(\u001b[34m1\u001b[39;49;00m, -\u001b[34m1\u001b[39;49;00m)\r\n",
      "    \r\n",
      "    data = torch.from_numpy(data_pack)\r\n",
      "    data = data.to(device)\r\n",
      "\r\n",
      "    \u001b[37m# Make sure to put the model into evaluation mode\u001b[39;49;00m\r\n",
      "    model.eval()\r\n",
      "\r\n",
      "    \u001b[37m# TODO: Compute the result of applying the model to the input data. The variable `result` should\u001b[39;49;00m\r\n",
      "    \u001b[37m#       be a numpy array which contains a single integer which is either 1 or 0\u001b[39;49;00m\r\n",
      "\r\n",
      "       \u001b[34mwith\u001b[39;49;00m torch.no_grad():\r\n",
      "        output = model.forward(data)\r\n",
      "\r\n",
      "    \u001b[34mreturn\u001b[39;49;00m np.round(output.numpy()).astype(\u001b[36mint\u001b[39;49;00m)\r\n"
     ]
    }
   ],
   "source": [
    "!pygmentize serve/predict.py"
   ]
  },
  {
   "cell_type": "markdown",
   "metadata": {},
   "source": [
    "As mentioned earlier, the `model_fn` method is the same as the one provided in the training code and the `input_fn` and `output_fn` methods are very simple and your task will be to complete the `predict_fn` method. Make sure that you save the completed file as `predict.py` in the `serve` directory.\n",
    "\n",
    "**TODO**: Complete the `predict_fn()` method in the `serve/predict.py` file."
   ]
  },
  {
   "cell_type": "markdown",
   "metadata": {},
   "source": [
    "### Deploying the model\n",
    "\n",
    "Now that the custom inference code has been written, we will create and deploy our model. To begin with, we need to construct a new PyTorchModel object which points to the model artifacts created during training and also points to the inference code that we wish to use. Then we can call the deploy method to launch the deployment container.\n",
    "\n",
    "**NOTE**: The default behaviour for a deployed PyTorch model is to assume that any input passed to the predictor is a `numpy` array. In our case we want to send a string so we need to construct a simple wrapper around the `RealTimePredictor` class to accomodate simple strings. In a more complicated situation you may want to provide a serialization object, for example if you wanted to sent image data."
   ]
  },
  {
   "cell_type": "code",
   "execution_count": 55,
   "metadata": {},
   "outputs": [
    {
     "name": "stderr",
     "output_type": "stream",
     "text": [
      "Parameter image will be renamed to image_uri in SageMaker Python SDK v2.\n",
      "'create_image_uri' will be deprecated in favor of 'ImageURIProvider' class in SageMaker Python SDK v2.\n"
     ]
    },
    {
     "name": "stdout",
     "output_type": "stream",
     "text": [
      "---------------!"
     ]
    }
   ],
   "source": [
    "from sagemaker.predictor import RealTimePredictor\n",
    "from sagemaker.pytorch import PyTorchModel\n",
    "\n",
    "class StringPredictor(RealTimePredictor):\n",
    "    def __init__(self, endpoint_name, sagemaker_session):\n",
    "        super(StringPredictor, self).__init__(endpoint_name, sagemaker_session, content_type='text/plain')\n",
    "\n",
    "model = PyTorchModel(model_data=estimator.model_data,\n",
    "                     role = role,\n",
    "                     framework_version='0.4.0',\n",
    "                     entry_point='predict.py',\n",
    "                     source_dir='serve',\n",
    "                     predictor_cls=StringPredictor)\n",
    "predictor = model.deploy(initial_instance_count=1, instance_type='ml.m4.xlarge')"
   ]
  },
  {
   "cell_type": "markdown",
   "metadata": {},
   "source": [
    "### Testing the model\n",
    "\n",
    "Now that we have deployed our model with the custom inference code, we should test to see if everything is working. Here we test our model by loading the first `250` positive and negative reviews and send them to the endpoint, then collect the results. The reason for only sending some of the data is that the amount of time it takes for our model to process the input and then perform inference is quite long and so testing the entire data set would be prohibitive."
   ]
  },
  {
   "cell_type": "code",
   "execution_count": 56,
   "metadata": {},
   "outputs": [],
   "source": [
    "import glob\n",
    "\n",
    "def test_reviews(data_dir='../data/aclImdb', stop=250):\n",
    "    \n",
    "    results = []\n",
    "    ground = []\n",
    "    \n",
    "    # We make sure to test both positive and negative reviews    \n",
    "    for sentiment in ['pos', 'neg']:\n",
    "        \n",
    "        path = os.path.join(data_dir, 'test', sentiment, '*.txt')\n",
    "        files = glob.glob(path)\n",
    "        \n",
    "        files_read = 0\n",
    "        \n",
    "        print('Starting ', sentiment, ' files')\n",
    "        \n",
    "        # Iterate through the files and send them to the predictor\n",
    "        for f in files:\n",
    "            with open(f) as review:\n",
    "                # First, we store the ground truth (was the review positive or negative)\n",
    "                if sentiment == 'pos':\n",
    "                    ground.append(1)\n",
    "                else:\n",
    "                    ground.append(0)\n",
    "                # Read in the review and convert to 'utf-8' for transmission via HTTP\n",
    "                review_input = review.read().encode('utf-8')\n",
    "                # Send the review to the predictor and store the results\n",
    "                results.append(float(predictor.predict(review_input)))\n",
    "                \n",
    "            # Sending reviews to our endpoint one at a time takes a while so we\n",
    "            # only send a small number of reviews\n",
    "            files_read += 1\n",
    "            if files_read == stop:\n",
    "                break\n",
    "            \n",
    "    return ground, results"
   ]
  },
  {
   "cell_type": "code",
   "execution_count": 57,
   "metadata": {},
   "outputs": [
    {
     "name": "stdout",
     "output_type": "stream",
     "text": [
      "Starting  pos  files\n",
      "Starting  neg  files\n"
     ]
    }
   ],
   "source": [
    "ground, results = test_reviews()"
   ]
  },
  {
   "cell_type": "code",
   "execution_count": 58,
   "metadata": {},
   "outputs": [
    {
     "data": {
      "text/plain": [
       "0.822"
      ]
     },
     "execution_count": 58,
     "metadata": {},
     "output_type": "execute_result"
    }
   ],
   "source": [
    "from sklearn.metrics import accuracy_score\n",
    "accuracy_score(ground, results)"
   ]
  },
  {
   "cell_type": "markdown",
   "metadata": {},
   "source": [
    "As an additional test, we can try sending the `test_review` that we looked at earlier."
   ]
  },
  {
   "cell_type": "code",
   "execution_count": 59,
   "metadata": {},
   "outputs": [
    {
     "data": {
      "text/plain": [
       "b'1'"
      ]
     },
     "execution_count": 59,
     "metadata": {},
     "output_type": "execute_result"
    }
   ],
   "source": [
    "predictor.predict(test_review)"
   ]
  },
  {
   "cell_type": "markdown",
   "metadata": {},
   "source": [
    "Now that we know our endpoint is working as expected, we can set up the web page that will interact with it. If you don't have time to finish the project now, make sure to skip down to the end of this notebook and shut down your endpoint. You can deploy it again when you come back."
   ]
  },
  {
   "cell_type": "markdown",
   "metadata": {},
   "source": [
    "## Step 7 (again): Use the model for the web app\n",
    "\n",
    "> **TODO:** This entire section and the next contain tasks for you to complete, mostly using the AWS console.\n",
    "\n",
    "So far we have been accessing our model endpoint by constructing a predictor object which uses the endpoint and then just using the predictor object to perform inference. What if we wanted to create a web app which accessed our model? The way things are set up currently makes that not possible since in order to access a SageMaker endpoint the app would first have to authenticate with AWS using an IAM role which included access to SageMaker endpoints. However, there is an easier way! We just need to use some additional AWS services.\n",
    "\n",
    "<img src=\"Web App Diagram.svg\">\n",
    "\n",
    "The diagram above gives an overview of how the various services will work together. On the far right is the model which we trained above and which is deployed using SageMaker. On the far left is our web app that collects a user's movie review, sends it off and expects a positive or negative sentiment in return.\n",
    "\n",
    "In the middle is where some of the magic happens. We will construct a Lambda function, which you can think of as a straightforward Python function that can be executed whenever a specified event occurs. We will give this function permission to send and recieve data from a SageMaker endpoint.\n",
    "\n",
    "Lastly, the method we will use to execute the Lambda function is a new endpoint that we will create using API Gateway. This endpoint will be a url that listens for data to be sent to it. Once it gets some data it will pass that data on to the Lambda function and then return whatever the Lambda function returns. Essentially it will act as an interface that lets our web app communicate with the Lambda function.\n",
    "\n",
    "### Setting up a Lambda function\n",
    "\n",
    "The first thing we are going to do is set up a Lambda function. This Lambda function will be executed whenever our public API has data sent to it. When it is executed it will receive the data, perform any sort of processing that is required, send the data (the review) to the SageMaker endpoint we've created and then return the result.\n",
    "\n",
    "#### Part A: Create an IAM Role for the Lambda function\n",
    "\n",
    "Since we want the Lambda function to call a SageMaker endpoint, we need to make sure that it has permission to do so. To do this, we will construct a role that we can later give the Lambda function.\n",
    "\n",
    "Using the AWS Console, navigate to the **IAM** page and click on **Roles**. Then, click on **Create role**. Make sure that the **AWS service** is the type of trusted entity selected and choose **Lambda** as the service that will use this role, then click **Next: Permissions**.\n",
    "\n",
    "In the search box type `sagemaker` and select the check box next to the **AmazonSageMakerFullAccess** policy. Then, click on **Next: Review**.\n",
    "\n",
    "Lastly, give this role a name. Make sure you use a name that you will remember later on, for example `LambdaSageMakerRole`. Then, click on **Create role**.\n",
    "\n",
    "#### Part B: Create a Lambda function\n",
    "\n",
    "Now it is time to actually create the Lambda function.\n",
    "\n",
    "Using the AWS Console, navigate to the AWS Lambda page and click on **Create a function**. When you get to the next page, make sure that **Author from scratch** is selected. Now, name your Lambda function, using a name that you will remember later on, for example `sentiment_analysis_func`. Make sure that the **Python 3.6** runtime is selected and then choose the role that you created in the previous part. Then, click on **Create Function**.\n",
    "\n",
    "On the next page you will see some information about the Lambda function you've just created. If you scroll down you should see an editor in which you can write the code that will be executed when your Lambda function is triggered. In our example, we will use the code below. \n",
    "\n",
    "```python\n",
    "# We need to use the low-level library to interact with SageMaker since the SageMaker API\n",
    "# is not available natively through Lambda.\n",
    "import boto3\n",
    "\n",
    "def lambda_handler(event, context):\n",
    "\n",
    "    # The SageMaker runtime is what allows us to invoke the endpoint that we've created.\n",
    "    runtime = boto3.Session().client('sagemaker-runtime')\n",
    "\n",
    "    # Now we use the SageMaker runtime to invoke our endpoint, sending the review we were given\n",
    "    response = runtime.invoke_endpoint(EndpointName = '**ENDPOINT NAME HERE**',    # The name of the endpoint we created\n",
    "                                       ContentType = 'text/plain',                 # The data format that is expected\n",
    "                                       Body = event['body'])                       # The actual review\n",
    "\n",
    "    # The response is an HTTP response whose body contains the result of our inference\n",
    "    result = response['Body'].read().decode('utf-8')\n",
    "\n",
    "    return {\n",
    "        'statusCode' : 200,\n",
    "        'headers' : { 'Content-Type' : 'text/plain', 'Access-Control-Allow-Origin' : '*' },\n",
    "        'body' : result\n",
    "    }\n",
    "```\n",
    "\n",
    "Once you have copy and pasted the code above into the Lambda code editor, replace the `**ENDPOINT NAME HERE**` portion with the name of the endpoint that we deployed earlier. You can determine the name of the endpoint using the code cell below."
   ]
  },
  {
   "cell_type": "code",
   "execution_count": 60,
   "metadata": {},
   "outputs": [
    {
     "data": {
      "text/plain": [
       "'sagemaker-pytorch-2021-01-14-23-58-40-124'"
      ]
     },
     "execution_count": 60,
     "metadata": {},
     "output_type": "execute_result"
    }
   ],
   "source": [
    "predictor.endpoint"
   ]
  },
  {
   "cell_type": "markdown",
   "metadata": {},
   "source": [
    "Once you have added the endpoint name to the Lambda function, click on **Save**. Your Lambda function is now up and running. Next we need to create a way for our web app to execute the Lambda function.\n",
    "\n",
    "### Setting up API Gateway\n",
    "\n",
    "Now that our Lambda function is set up, it is time to create a new API using API Gateway that will trigger the Lambda function we have just created.\n",
    "\n",
    "Using AWS Console, navigate to **Amazon API Gateway** and then click on **Get started**.\n",
    "\n",
    "On the next page, make sure that **New API** is selected and give the new api a name, for example, `sentiment_analysis_api`. Then, click on **Create API**.\n",
    "\n",
    "Now we have created an API, however it doesn't currently do anything. What we want it to do is to trigger the Lambda function that we created earlier.\n",
    "\n",
    "Select the **Actions** dropdown menu and click **Create Method**. A new blank method will be created, select its dropdown menu and select **POST**, then click on the check mark beside it.\n",
    "\n",
    "For the integration point, make sure that **Lambda Function** is selected and click on the **Use Lambda Proxy integration**. This option makes sure that the data that is sent to the API is then sent directly to the Lambda function with no processing. It also means that the return value must be a proper response object as it will also not be processed by API Gateway.\n",
    "\n",
    "Type the name of the Lambda function you created earlier into the **Lambda Function** text entry box and then click on **Save**. Click on **OK** in the pop-up box that then appears, giving permission to API Gateway to invoke the Lambda function you created.\n",
    "\n",
    "The last step in creating the API Gateway is to select the **Actions** dropdown and click on **Deploy API**. You will need to create a new Deployment stage and name it anything you like, for example `prod`.\n",
    "\n",
    "You have now successfully set up a public API to access your SageMaker model. Make sure to copy or write down the URL provided to invoke your newly created public API as this will be needed in the next step. This URL can be found at the top of the page, highlighted in blue next to the text **Invoke URL**."
   ]
  },
  {
   "cell_type": "markdown",
   "metadata": {},
   "source": [
    "## Step 4: Deploying our web app\n",
    "\n",
    "Now that we have a publicly available API, we can start using it in a web app. For our purposes, we have provided a simple static html file which can make use of the public api you created earlier.\n",
    "\n",
    "In the `website` folder there should be a file called `index.html`. Download the file to your computer and open that file up in a text editor of your choice. There should be a line which contains **\\*\\*REPLACE WITH PUBLIC API URL\\*\\***. Replace this string with the url that you wrote down in the last step and then save the file.\n",
    "\n",
    "Now, if you open `index.html` on your local computer, your browser will behave as a local web server and you can use the provided site to interact with your SageMaker model.\n",
    "\n",
    "If you'd like to go further, you can host this html file anywhere you'd like, for example using github or hosting a static site on Amazon's S3. Once you have done this you can share the link with anyone you'd like and have them play with it too!\n",
    "\n",
    "> **Important Note** In order for the web app to communicate with the SageMaker endpoint, the endpoint has to actually be deployed and running. This means that you are paying for it. Make sure that the endpoint is running when you want to use the web app but that you shut it down when you don't need it, otherwise you will end up with a surprisingly large AWS bill.\n",
    "\n",
    "**TODO:** Make sure that you include the edited `index.html` file in your project submission."
   ]
  },
  {
   "cell_type": "markdown",
   "metadata": {},
   "source": [
    "Now that your web app is working, trying playing around with it and see how well it works.\n",
    "\n",
    "**Question**: Give an example of a review that you entered into your web app. What was the predicted sentiment of your example review?"
   ]
  },
  {
   "cell_type": "markdown",
   "metadata": {},
   "source": [
    "**Answer:** I entered two cases \n",
    "\n",
    "the first one was \"This is a very bad movie\" the result was  \"Your Review was Negative\"\n",
    "\n",
    "the Second one was \"I like this movie\" the result was  \"Your Review was Positive\""
   ]
  },
  {
   "cell_type": "markdown",
   "metadata": {},
   "source": [
    "### Delete the endpoint\n",
    "\n",
    "Remember to always shut down your endpoint if you are no longer using it. You are charged for the length of time that the endpoint is running so if you forget and leave it on you could end up with an unexpectedly large bill."
   ]
  },
  {
   "cell_type": "code",
   "execution_count": 61,
   "metadata": {},
   "outputs": [],
   "source": [
    "predictor.delete_endpoint()"
   ]
  },
  {
   "cell_type": "code",
   "execution_count": null,
   "metadata": {},
   "outputs": [],
   "source": []
  }
 ],
 "metadata": {
  "kernelspec": {
   "display_name": "conda_pytorch_p36",
   "language": "python",
   "name": "conda_pytorch_p36"
  },
  "language_info": {
   "codemirror_mode": {
    "name": "ipython",
    "version": 3
   },
   "file_extension": ".py",
   "mimetype": "text/x-python",
   "name": "python",
   "nbconvert_exporter": "python",
   "pygments_lexer": "ipython3",
   "version": "3.6.10"
  }
 },
 "nbformat": 4,
 "nbformat_minor": 2
}
